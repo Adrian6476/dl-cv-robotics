{
 "cells": [
  {
   "cell_type": "markdown",
   "metadata": {},
   "source": [
    "***\n",
    "**Durham University | MISCADA | Scientific Computing and Data Analysis<br>\n",
    "Deep Learning for Computer Vision and Robotics | COMP52715 | Coursework: Task 1 - 3D PacMan <br>\n",
    "Teng Wang | dgwz78 | Apr 2024**\n",
    "***"
   ]
  },
  {
   "cell_type": "markdown",
   "metadata": {},
   "source": [
    "<div class=\"alert alert-info\">\n",
    "  Please read my report before check the code. You can just clone my full files on <a href=\"https://github.com/Adrian6476/dl-cv-robotics\">GitHub Link</a>.\n",
    "</div>"
   ]
  },
  {
   "cell_type": "markdown",
   "metadata": {},
   "source": [
    ">```bash\n",
    ">git clone git@github.com:Adrian6476/dl-cv-robotics.git\n",
    ">or\n",
    ">git clone https://github.com/Adrian6476/dl-cv-robotics.git\n",
    "```"
   ]
  },
  {
   "cell_type": "markdown",
   "metadata": {
    "jp-MarkdownHeadingCollapsed": true
   },
   "source": [
    "## Imports\n",
    "Here we will do our usual imports. I would recommend numpy, scipy, skimage, sklearn, pytorch, and matplotlib. If you wish to utilise pointcloud visualisation then you can do that as described in the handout via Open3D. We will want to import our PacMan_Helper module as well."
   ]
  },
  {
   "cell_type": "code",
   "execution_count": 2,
   "metadata": {},
   "outputs": [
    {
     "name": "stdout",
     "output_type": "stream",
     "text": [
      "Jupyter environment detected. Enabling Open3D WebVisualizer.\n",
      "[Open3D INFO] WebRTC GUI backend enabled.\n",
      "[Open3D INFO] WebRTCWindowSystem: HTTP handshake server disabled.\n"
     ]
    }
   ],
   "source": [
    "# I modified the PacMan_Helper.py code to accelerate the points_to_images() function using numba and also added some useful functions. Comparison of acceleration results can be seen in Benchmark.ipynb\n",
    "from lib import PacMan_Helper_Accelerated as PacMan \n",
    "# import any package that requires\n",
    "import os\n",
    "import time\n",
    "import numpy as np\n",
    "import copy\n",
    "\n",
    "from PIL import Image\n",
    "import matplotlib.pyplot as plt\n",
    "from matplotlib.patches import Rectangle\n",
    "\n",
    "import torch\n",
    "import torch.nn as nn\n",
    "import torch.optim as optim\n",
    "import torch.nn.functional as F\n",
    "from torchvision import transforms\n",
    "from torch.utils.data import Dataset, DataLoader, Subset\n",
    "from ultralytics import YOLO\n",
    "from ultralytics.utils.benchmarks import benchmark\n",
    "from sklearn.model_selection import train_test_split\n",
    "from sklearn.metrics import accuracy_score, precision_score, recall_score, f1_score, confusion_matrix\n",
    "\n",
    "import open3d"
   ]
  },
  {
   "cell_type": "markdown",
   "metadata": {
    "jp-MarkdownHeadingCollapsed": true
   },
   "source": [
    "## Game setup.\n",
    "This cell will initialise the game world and add all of our spheres to the world. Do not edit the code here."
   ]
  },
  {
   "cell_type": "code",
   "execution_count": 3,
   "metadata": {},
   "outputs": [
    {
     "name": "stdout",
     "output_type": "stream",
     "text": [
      "Using GPU: NVIDIA GeForce RTX 3070\n"
     ]
    }
   ],
   "source": [
    "device = torch.device(\"cuda\" if torch.cuda.is_available() else \"cpu\") # Use GPU to accelerate\n",
    "if device.type == 'cuda':\n",
    "    gpu_name = torch.cuda.get_device_name(0)\n",
    "    print(f'Using GPU: {gpu_name}')\n",
    "else:\n",
    "    print('CUDA is not available, using CPU.')"
   ]
  },
  {
   "cell_type": "code",
   "execution_count": 4,
   "metadata": {},
   "outputs": [],
   "source": [
    "# Call startup_scene() to load the initial game scene\n",
    "global_cloud, spheres_collected = PacMan.startup_scene()"
   ]
  },
  {
   "cell_type": "code",
   "execution_count": 4,
   "metadata": {},
   "outputs": [],
   "source": [
    "# View our pointcloud if we want\n",
    "pcd = open3d.geometry.PointCloud(open3d.utility.Vector3dVector(global_cloud['Positions']))\n",
    "pcd.colors = open3d.utility.Vector3dVector(global_cloud['Colors']/255)\n",
    "\n",
    "open3d.visualization.draw_geometries([pcd])"
   ]
  },
  {
   "cell_type": "markdown",
   "metadata": {
    "jp-MarkdownHeadingCollapsed": true
   },
   "source": [
    "## Load the training data: Positives and Negatives\n",
    "In the handout zip file there is a directory which contains numerous patches extracted from sample images. These patches are labelled as either containing a sphere or not. You may wish to use these to train a classifier for sphere detection. This classifier can then be used later to detect spheres and move our camera towards them."
   ]
  },
  {
   "cell_type": "code",
   "execution_count": 4,
   "metadata": {},
   "outputs": [],
   "source": [
    "class PacmanDataset(Dataset):\n",
    "    def __init__(self, root_dir, transform=None):\n",
    "        \"\"\"\n",
    "        Initialise data set\n",
    "        :param root_dir: file path which contains 'positives' and 'negatives' \n",
    "        :param transform: the transformation operation to be applied to each image\n",
    "        \"\"\"\n",
    "        self.root_dir = root_dir\n",
    "        self.transform = transform\n",
    "        self.images = []\n",
    "        self.labels = []\n",
    "\n",
    "        # Load positives\n",
    "        pos_dir = os.path.join(root_dir, 'positives')\n",
    "        self.images += [os.path.join(pos_dir, file) for file in os.listdir(pos_dir)]\n",
    "        self.labels += [1] * len(os.listdir(pos_dir))  # 1 for positives\n",
    "\n",
    "        # Load negatives\n",
    "        neg_dir = os.path.join(root_dir, 'negatives')\n",
    "        self.images += [os.path.join(neg_dir, file) for file in os.listdir(neg_dir)]\n",
    "        self.labels += [0] * len(os.listdir(neg_dir))  # 0 for negatives\n",
    "\n",
    "    def __len__(self):\n",
    "        return len(self.images)\n",
    "\n",
    "    def __getitem__(self, idx):\n",
    "        image_path = self.images[idx]\n",
    "        image = Image.open(image_path)\n",
    "\n",
    "        if self.transform:\n",
    "            image = self.transform(image)\n",
    "\n",
    "        label = self.labels[idx]\n",
    "        return image, label"
   ]
  },
  {
   "cell_type": "code",
   "execution_count": 5,
   "metadata": {},
   "outputs": [],
   "source": [
    "transform = transforms.Compose([\n",
    "    transforms.ToTensor(),  # Convert to tensor\n",
    "    transforms.Normalize(mean=[0.485, 0.456, 0.406], std=[0.229, 0.224, 0.225])  # normalisation\n",
    "])"
   ]
  },
  {
   "cell_type": "code",
   "execution_count": 6,
   "metadata": {},
   "outputs": [],
   "source": [
    "transform_augmented = transforms.Compose([\n",
    "    transforms.RandomHorizontalFlip(),  # Random flip\n",
    "    # Specific rotations to augment dataset\n",
    "    transforms.RandomChoice([\n",
    "        transforms.RandomRotation((90, 90)),\n",
    "        transforms.RandomRotation((180, 180)),\n",
    "        transforms.RandomRotation((270, 270))\n",
    "    ]),\n",
    "    transforms.ToTensor(),\n",
    "    transforms.Normalize(mean=[0.485, 0.456, 0.406], std=[0.229, 0.224, 0.225])  # normalisation\n",
    "])"
   ]
  },
  {
   "cell_type": "code",
   "execution_count": 7,
   "metadata": {},
   "outputs": [],
   "source": [
    "# Create data-set\n",
    "dataset = PacmanDataset(root_dir='training_data/img')\n",
    "\n",
    "# Initialise the size of datasets\n",
    "train_size = int(0.7 * len(dataset))\n",
    "val_size = int(0.15 * len(dataset))\n",
    "test_size = len(dataset) - train_size - val_size\n",
    "\n",
    "# Divided into three datasets\n",
    "train_val_indices, test_indices = train_test_split(range(len(dataset)), test_size=test_size, stratify=dataset.labels)\n",
    "train_indices, val_indices = train_test_split(train_val_indices, test_size=val_size / (val_size + train_size), stratify=[dataset.labels[i] for i in train_val_indices])\n",
    "\n",
    "train_subset = torch.utils.data.Subset(dataset, train_indices)\n",
    "val_subset = torch.utils.data.Subset(dataset, val_indices)\n",
    "test_subset = torch.utils.data.Subset(dataset, test_indices)\n",
    "\n",
    "train_dataset = PacmanDataset(root_dir='training_data/img', transform=transform_augmented)\n",
    "train_dataset.images = [train_subset.dataset.images[i] for i in train_indices]\n",
    "train_dataset.labels = [train_subset.dataset.labels[i] for i in train_indices]\n",
    "\n",
    "val_dataset = PacmanDataset(root_dir='training_data/img', transform=transforms.ToTensor())\n",
    "val_dataset.images = [val_subset.dataset.images[i] for i in val_indices]\n",
    "val_dataset.labels = [val_subset.dataset.labels[i] for i in val_indices]\n",
    "\n",
    "test_dataset = PacmanDataset(root_dir='training_data/img', transform=transforms.ToTensor())\n",
    "test_dataset.images = [test_subset.dataset.images[i] for i in test_indices]\n",
    "test_dataset.labels = [test_subset.dataset.labels[i] for i in test_indices]\n",
    "\n",
    "# Create data loader\n",
    "train_loader = DataLoader(train_dataset, batch_size=32, shuffle=True)\n",
    "val_loader = DataLoader(val_dataset, batch_size=32, shuffle=False)\n",
    "test_loader = DataLoader(test_dataset, batch_size=32, shuffle=False)"
   ]
  },
  {
   "cell_type": "markdown",
   "metadata": {},
   "source": [
    "### Check the data leakage"
   ]
  },
  {
   "cell_type": "code",
   "execution_count": 8,
   "metadata": {},
   "outputs": [],
   "source": [
    "def check_for_leakage(train_data, val_data, test_data):\n",
    "    # Get the full list of image paths for each dataset \n",
    "    train_set = set(train_data.images)\n",
    "    val_set = set(val_data.images)\n",
    "    test_set = set(test_data.images)\n",
    "\n",
    "    # Check for overlap \n",
    "    train_val_overlap = train_set.intersection(val_set)\n",
    "    train_test_overlap = train_set.intersection(test_set)\n",
    "    val_test_overlap = val_set.intersection(test_set)\n",
    "\n",
    "    # Print the results\n",
    "    print(f\"Train/Validation overlap: {len(train_val_overlap)} images\")\n",
    "    print(f\"Train/Test overlap: {len(train_test_overlap)} images\")\n",
    "    print(f\"Validation/Test overlap: {len(val_test_overlap)} images\")\n",
    "\n",
    "    # Return True if there's any overlap, indicating leakage\n",
    "    leakage = len(train_val_overlap) > 0 or len(train_test_overlap) > 0 or len(val_test_overlap) > 0\n",
    "    return leakage"
   ]
  },
  {
   "cell_type": "code",
   "execution_count": 9,
   "metadata": {},
   "outputs": [
    {
     "name": "stdout",
     "output_type": "stream",
     "text": [
      "Train/Validation overlap: 0 images\n",
      "Train/Test overlap: 0 images\n",
      "Validation/Test overlap: 0 images\n",
      "No data leakage detected.\n"
     ]
    }
   ],
   "source": [
    "# run the leakage check\n",
    "leakage_detected = check_for_leakage(train_dataset, val_dataset, test_dataset)\n",
    "if leakage_detected:\n",
    "    print(\"Data leakage detected!\")\n",
    "else:\n",
    "    print(\"No data leakage detected.\")"
   ]
  },
  {
   "cell_type": "markdown",
   "metadata": {},
   "source": [
    "### Showing examples in data loader"
   ]
  },
  {
   "cell_type": "code",
   "execution_count": 10,
   "metadata": {},
   "outputs": [
    {
     "data": {
      "image/png": "[encoded data removed]",
      "text/plain": [
       "<Figure size 1800x1200 with 6 Axes>"
      ]
     },
     "metadata": {},
     "output_type": "display_data"
    }
   ],
   "source": [
    "# get a batch size of data from data loader\n",
    "images, labels = next(iter(train_loader))\n",
    "\n",
    "# plot 6 examples in data loader\n",
    "fig, axs = plt.subplots(2, 3, figsize=(6, 4), dpi = 300)\n",
    "\n",
    "for i, ax in enumerate(axs.flat):\n",
    "    # convert tensor to numpy\n",
    "    img = images[i].numpy().transpose((1, 2, 0))\n",
    "    \n",
    "    # denormalise images\n",
    "    mean = np.array([0.485, 0.456, 0.406])\n",
    "    std = np.array([0.229, 0.224, 0.225])\n",
    "    img = std * img + mean\n",
    "    img = np.clip(img, 0, 1)\n",
    "\n",
    "    # plot\n",
    "    ax.imshow(img)\n",
    "    ax.set_title(f'Label: {labels[i]}')\n",
    "    ax.axis('off')\n",
    "\n",
    "plt.show()"
   ]
  },
  {
   "cell_type": "markdown",
   "metadata": {
    "jp-MarkdownHeadingCollapsed": true
   },
   "source": [
    "## Basic Solution : Train a DNN based binary classifier\n",
    "Depending on your desired apporach, you may want to build a simple binary classification using the training patches you have been given. These can then be used to detect whether the image patch contains the target or not. Several backbone networks are talked about both in the lectures and labs. "
   ]
  },
  {
   "cell_type": "markdown",
   "metadata": {
    "jp-MarkdownHeadingCollapsed": true
   },
   "source": [
    "### Define the CNN Model"
   ]
  },
  {
   "cell_type": "markdown",
   "metadata": {
    "id": "iFI6GxuXu1fo"
   },
   "source": [
    "#### Create CNN Architecture"
   ]
  },
  {
   "cell_type": "code",
   "execution_count": 11,
   "metadata": {},
   "outputs": [],
   "source": [
    "class SimpleCNN(nn.Module):\n",
    "    \"\"\"\n",
    "    A simple convolutional neural network model for binary classification of images. \n",
    "    \"\"\"\n",
    "    def __init__(self):\n",
    "        super(SimpleCNN, self).__init__()\n",
    "\n",
    "        # convolutional layers\n",
    "        self.conv1 = nn.Conv2d(in_channels=3, out_channels=32, kernel_size=3, padding=1)\n",
    "        self.conv2 = nn.Conv2d(in_channels=32, out_channels=64, kernel_size=3, padding=1)\n",
    "        self.conv3 = nn.Conv2d(in_channels=64, out_channels=128, kernel_size=3, padding=1)\n",
    "\n",
    "        # pooling layer\n",
    "        self.pool = nn.MaxPool2d(kernel_size=2, stride=2)\n",
    "\n",
    "        # fully connected layers\n",
    "        self.fc1 = nn.Linear(128 * 6 * 6, 512)\n",
    "        self.fc2 = nn.Linear(512, 128)\n",
    "        self.fc3 = nn.Linear(128, 1)\n",
    "\n",
    "        # dropout layer\n",
    "        self.dropout = nn.Dropout(0.5)\n",
    "\n",
    "    def forward(self, x):\n",
    "        # add sequence of convolutional and max pooling layers\n",
    "        x = self.pool(F.relu(self.conv1(x)))\n",
    "        x = self.pool(F.relu(self.conv2(x)))\n",
    "        x = self.pool(F.relu(self.conv3(x)))\n",
    "\n",
    "        # flatten image input\n",
    "        x = x.view(-1, 128 * 6 * 6)\n",
    "\n",
    "        # dropout layer\n",
    "        x = self.dropout(x)\n",
    "\n",
    "        # 1st fully connected layer with relu activation function\n",
    "        x = F.relu(self.fc1(x))\n",
    "\n",
    "        # dropout layer\n",
    "        x = self.dropout(x)\n",
    "\n",
    "        # 2nd fully connected layer with relu activation function\n",
    "        x = F.relu(self.fc2(x))\n",
    "\n",
    "        # dropout layer\n",
    "        x = self.dropout(x)\n",
    "\n",
    "        # 3rd fully connected layer with sigmoid activation function\n",
    "        # Use sigmoid as this is binary classification\n",
    "        x = torch.sigmoid(self.fc3(x))\n",
    "\n",
    "        return x"
   ]
  },
  {
   "cell_type": "markdown",
   "metadata": {},
   "source": [
    "#### Instantiate the model and send to GPU"
   ]
  },
  {
   "cell_type": "code",
   "execution_count": 12,
   "metadata": {},
   "outputs": [
    {
     "name": "stdout",
     "output_type": "stream",
     "text": [
      "SimpleCNN(\n",
      "  (conv1): Conv2d(3, 32, kernel_size=(3, 3), stride=(1, 1), padding=(1, 1))\n",
      "  (conv2): Conv2d(32, 64, kernel_size=(3, 3), stride=(1, 1), padding=(1, 1))\n",
      "  (conv3): Conv2d(64, 128, kernel_size=(3, 3), stride=(1, 1), padding=(1, 1))\n",
      "  (pool): MaxPool2d(kernel_size=2, stride=2, padding=0, dilation=1, ceil_mode=False)\n",
      "  (fc1): Linear(in_features=4608, out_features=512, bias=True)\n",
      "  (fc2): Linear(in_features=512, out_features=128, bias=True)\n",
      "  (fc3): Linear(in_features=128, out_features=1, bias=True)\n",
      "  (dropout): Dropout(p=0.5, inplace=False)\n",
      ")\n"
     ]
    }
   ],
   "source": [
    "model = SimpleCNN().to(device) # Move the model to GPU\n",
    "print(model)"
   ]
  },
  {
   "cell_type": "markdown",
   "metadata": {},
   "source": [
    "#### Define the loss function and optimiser"
   ]
  },
  {
   "cell_type": "code",
   "execution_count": 13,
   "metadata": {},
   "outputs": [],
   "source": [
    "criterion = nn.BCELoss() # The best one in this case\n",
    "optimiser = optim.Adam(model.parameters(), lr=0.001) # General choice"
   ]
  },
  {
   "cell_type": "markdown",
   "metadata": {},
   "source": [
    "#### Define the training function"
   ]
  },
  {
   "cell_type": "code",
   "execution_count": 14,
   "metadata": {},
   "outputs": [],
   "source": [
    "def train_model(model, train_loader, val_loader, criterion, optimiser, num_epochs=25, patience=1):\n",
    "    best_model_wts = copy.deepcopy(model.state_dict()) # keep track of the model's best weights\n",
    "    best_acc = 0.0\n",
    "    epochs_no_improve = 0 # counter\n",
    "\n",
    "    for epoch in range(num_epochs):\n",
    "        model.train()  # set model to training mode\n",
    "        \n",
    "        running_loss = 0.0\n",
    "        running_corrects = 0\n",
    "        \n",
    "        y_true_train = []\n",
    "        y_pred_train = []\n",
    "        \n",
    "        # iterate over data.\n",
    "        for inputs, labels in train_loader:\n",
    "            inputs = inputs.to(device)\n",
    "            labels = labels.to(device)\n",
    "            \n",
    "            # zero the parameter gradients\n",
    "            optimiser.zero_grad()\n",
    "            \n",
    "            # forward\n",
    "            outputs = model(inputs)\n",
    "            preds = torch.round(outputs)\n",
    "            loss = criterion(outputs, labels.unsqueeze(1).float())\n",
    "            \n",
    "            # backward + optimise\n",
    "            loss.backward()\n",
    "            optimiser.step()\n",
    "            \n",
    "            # statistics\n",
    "            running_loss += loss.item() * inputs.size(0)\n",
    "            running_corrects += torch.sum(preds == labels.unsqueeze(1).data)\n",
    "            \n",
    "            y_true_train.extend(labels.tolist())\n",
    "            y_pred_train.extend(preds.flatten().tolist())\n",
    "\n",
    "        # calculation of various indicators\n",
    "        epoch_loss = running_loss / len(train_loader.dataset)\n",
    "        epoch_acc = running_corrects.double() / len(train_loader.dataset)\n",
    "        \n",
    "        epoch_precision = precision_score(y_true_train, y_pred_train)\n",
    "        epoch_recall = recall_score(y_true_train, y_pred_train)\n",
    "        epoch_f1_score = f1_score(y_true_train, y_pred_train)\n",
    "        \n",
    "        print(f'Epoch {epoch}/{num_epochs - 1}')\n",
    "        print('-' * 10)\n",
    "        print(f'Train Loss: {epoch_loss:.4f} Acc: {epoch_acc:.4f}')\n",
    "        print(f'Precision: {epoch_precision:.4f}, Recall: {epoch_recall:.4f}, F1-score: {epoch_f1_score:.4f}')\n",
    "        \n",
    "        # copy the model if it has better accuracy on the val-set\n",
    "        if epoch_acc > best_acc:\n",
    "            best_acc = epoch_acc\n",
    "            best_model_wts = copy.deepcopy(model.state_dict())\n",
    "            epochs_no_improve = 0\n",
    "        else:\n",
    "            epochs_no_improve += 1\n",
    "        \n",
    "        # if the model has not improved for 'patience' times, stop the loop early.\n",
    "        if epochs_no_improve == patience:\n",
    "            print('Early stopping initiated')\n",
    "            break\n",
    "        \n",
    "        # validation phase\n",
    "        model.eval()\n",
    "        val_loss = 0.0\n",
    "        val_corrects = 0\n",
    "        \n",
    "        y_true_val = []\n",
    "        y_pred_val = []\n",
    "\n",
    "        # disable gradient calculation reduces memory usage and speeds up computations.\n",
    "        with torch.no_grad():\n",
    "            for inputs, labels in val_loader:\n",
    "                inputs = inputs.to(device)\n",
    "                labels = labels.to(device)\n",
    "\n",
    "                # compute the model's predictions for the input data.\n",
    "                outputs = model(inputs)\n",
    "                preds = torch.round(outputs)\n",
    "                loss = criterion(outputs, labels.unsqueeze(1).float())\n",
    "                \n",
    "                # aggregate the loss values over all validation samples.\n",
    "                val_loss += loss.item() * inputs.size(0)\n",
    "                # count how many predictions match the labels.\n",
    "                val_corrects += torch.sum(preds == labels.unsqueeze(1).data)\n",
    "                \n",
    "                # extend the list of true labels with the labels\n",
    "                y_true_val.extend(labels.tolist())\n",
    "                # extend the list of predicted labels with the predictions\n",
    "                y_pred_val.extend(preds.flatten().tolist())\n",
    "\n",
    "            # calculation of various indicators\n",
    "            val_loss = val_loss / len(val_loader.dataset)\n",
    "            val_acc = val_corrects.double() / len(val_loader.dataset)\n",
    "            \n",
    "            val_precision = precision_score(y_true_val, y_pred_val)\n",
    "            val_recall = recall_score(y_true_val, y_pred_val)\n",
    "            val_f1_score = f1_score(y_true_val, y_pred_val)\n",
    "            \n",
    "            print(f'Validation Loss: {val_loss:.4f} Acc: {val_acc:.4f}')\n",
    "            print(f'Precision: {val_precision:.4f}, Recall: {val_recall:.4f}, F1-score: {val_f1_score:.4f}')\n",
    "            print()\n",
    "    \n",
    "    # load best model weights\n",
    "    model.load_state_dict(best_model_wts)\n",
    "    return model"
   ]
  },
  {
   "cell_type": "markdown",
   "metadata": {
    "id": "VpRz2c9C5_rS",
    "jp-MarkdownHeadingCollapsed": true
   },
   "source": [
    "### Train the Network"
   ]
  },
  {
   "cell_type": "code",
   "execution_count": 15,
   "metadata": {},
   "outputs": [
    {
     "name": "stdout",
     "output_type": "stream",
     "text": [
      "Epoch 0/24\n",
      "----------\n",
      "Train Loss: 0.1733 Acc: 0.9445\n",
      "Precision: 0.9905, Recall: 0.4815, F1-score: 0.6480\n",
      "Validation Loss: 0.0120 Acc: 0.9977\n",
      "Precision: 1.0000, Recall: 0.9783, F1-score: 0.9890\n",
      "\n",
      "Epoch 1/24\n",
      "----------\n",
      "Train Loss: 0.0000 Acc: 1.0000\n",
      "Precision: 1.0000, Recall: 1.0000, F1-score: 1.0000\n",
      "Validation Loss: 0.0215 Acc: 0.9862\n",
      "Precision: 1.0000, Recall: 0.8696, F1-score: 0.9302\n",
      "\n",
      "Epoch 2/24\n",
      "----------\n",
      "Train Loss: 0.0000 Acc: 1.0000\n",
      "Precision: 1.0000, Recall: 1.0000, F1-score: 1.0000\n",
      "Validation Loss: 0.0473 Acc: 0.9817\n",
      "Precision: 1.0000, Recall: 0.8261, F1-score: 0.9048\n",
      "\n",
      "Epoch 3/24\n",
      "----------\n",
      "Train Loss: 0.0000 Acc: 1.0000\n",
      "Precision: 1.0000, Recall: 1.0000, F1-score: 1.0000\n",
      "Validation Loss: 0.0547 Acc: 0.9817\n",
      "Precision: 1.0000, Recall: 0.8261, F1-score: 0.9048\n",
      "\n",
      "Epoch 4/24\n",
      "----------\n",
      "Train Loss: 0.0003 Acc: 1.0000\n",
      "Precision: 1.0000, Recall: 1.0000, F1-score: 1.0000\n",
      "Validation Loss: 0.0134 Acc: 0.9977\n",
      "Precision: 1.0000, Recall: 0.9783, F1-score: 0.9890\n",
      "\n",
      "Epoch 5/24\n",
      "----------\n",
      "Train Loss: 0.0336 Acc: 0.9966\n",
      "Precision: 0.9860, Recall: 0.9815, F1-score: 0.9838\n",
      "Validation Loss: 0.0018 Acc: 1.0000\n",
      "Precision: 1.0000, Recall: 1.0000, F1-score: 1.0000\n",
      "\n",
      "Epoch 6/24\n",
      "----------\n",
      "Train Loss: 0.0000 Acc: 1.0000\n",
      "Precision: 1.0000, Recall: 1.0000, F1-score: 1.0000\n",
      "Early stopping initiated\n"
     ]
    }
   ],
   "source": [
    "model = train_model(model, train_loader, val_loader, criterion, optimiser, num_epochs=25, patience=5)"
   ]
  },
  {
   "cell_type": "markdown",
   "metadata": {
    "id": "owP2UUV2Ck0f"
   },
   "source": [
    "#### Save the Model\n",
    "Save the trained model for future use."
   ]
  },
  {
   "cell_type": "code",
   "execution_count": 20,
   "metadata": {},
   "outputs": [],
   "source": [
    "#torch.save(model.state_dict(), 'models/CNN.pth')"
   ]
  },
  {
   "cell_type": "markdown",
   "metadata": {
    "id": "wNZUZNm3CZwD",
    "jp-MarkdownHeadingCollapsed": true
   },
   "source": [
    "### Test the Model\n",
    "Evaluate the model's performance on the test dataset."
   ]
  },
  {
   "cell_type": "code",
   "execution_count": 18,
   "metadata": {},
   "outputs": [],
   "source": [
    "def evaluate_model(model, test_loader, criterion):\n",
    "    model.eval()  # set model to evaluation mode\n",
    "    test_loss = 0.0\n",
    "    test_corrects = 0\n",
    "    \n",
    "    y_true_test = []\n",
    "    y_pred_test = []\n",
    "    \n",
    "    with torch.no_grad():\n",
    "        # Iterate over batches of data in the test loader\n",
    "        for inputs, labels in test_loader:\n",
    "            inputs = inputs.to(device)\n",
    "            labels = labels.to(device)\n",
    "            \n",
    "            outputs = model(inputs)\n",
    "            preds = torch.round(outputs)\n",
    "            loss = criterion(outputs, labels.unsqueeze(1).float())\n",
    "            \n",
    "            test_loss += loss.item() * inputs.size(0)\n",
    "            test_corrects += torch.sum(preds == labels.unsqueeze(1).data)\n",
    "            \n",
    "            y_true_test.extend(labels.tolist())\n",
    "            y_pred_test.extend(preds.flatten().tolist())\n",
    "\n",
    "        # calculation of various indicators\n",
    "        test_loss = test_loss / len(test_loader.dataset)\n",
    "        test_acc = test_corrects.double() / len(test_loader.dataset)\n",
    "        \n",
    "        test_precision = precision_score(y_true_test, y_pred_test)\n",
    "        test_recall = recall_score(y_true_test, y_pred_test)\n",
    "        test_f1_score = f1_score(y_true_test, y_pred_test)\n",
    "        \n",
    "        print('Test Results:')\n",
    "        print('-' * 10)\n",
    "        print(f'Test Loss: {test_loss:.4f} Acc: {test_acc:.4f}')\n",
    "        print(f'Precision: {test_precision:.4f}, Recall: {test_recall:.4f}, F1-score: {test_f1_score:.4f}')"
   ]
  },
  {
   "cell_type": "code",
   "execution_count": 19,
   "metadata": {},
   "outputs": [
    {
     "name": "stdout",
     "output_type": "stream",
     "text": [
      "Test Results:\n",
      "----------\n",
      "Test Loss: 0.0211 Acc: 0.9817\n",
      "Precision: 1.0000, Recall: 0.8261, F1-score: 0.9048\n",
      "Elapsed Time: 0.0692 seconds\n"
     ]
    }
   ],
   "source": [
    "# criterion for evaluation /\n",
    "criterion_eval = nn.BCELoss()\n",
    "\n",
    "# evaluate the model on test set\n",
    "start_time = time.time()\n",
    "evaluate_model(model, test_loader, criterion_eval)\n",
    "elapsed_time = time.time() - start_time\n",
    "print(f'Elapsed Time: {elapsed_time:.4f} seconds') "
   ]
  },
  {
   "cell_type": "code",
   "execution_count": 16,
   "metadata": {},
   "outputs": [],
   "source": [
    "def visualise_predictions(model, test_loader, num_images=6):\n",
    "    model.eval()  # Set model to evaluation mode\n",
    "    images_handeled = 0 # Image counter\n",
    "    plt.figure(figsize=(15, 20), dpi = 300) \n",
    "\n",
    "    with torch.no_grad(): # Ensure that all computations do not have gradients recorded by PyTorch to save memory and speed up computation. \n",
    "        for i, (inputs, labels) in enumerate(test_loader): # Get imgs and labels then move to GPU\n",
    "            inputs = inputs.to(device)\n",
    "            labels = labels.to(device)\n",
    "            \n",
    "            outputs = model(inputs) # Predict\n",
    "            preds = torch.round(outputs) # Round the results to get the prediction value\n",
    "            \n",
    "            for j in range(inputs.size()[0]):\n",
    "                images_handeled += 1\n",
    "                ax = plt.subplot(num_images//2, 5, images_handeled)\n",
    "                ax.axis('off')\n",
    "                ax.set_title(f'True: {labels[j].item()} - Pred: {preds[j].item()}') # Showing real and predicted labels \n",
    "                input_img = inputs.cpu().data[j] # move the image tensor to cpu\n",
    "                input_img = input_img.numpy().transpose((1, 2, 0)) # recover channels\n",
    "                # denormalisation\n",
    "                mean = np.array([0.485, 0.456, 0.406])\n",
    "                std = np.array([0.229, 0.224, 0.225])\n",
    "                input_img = std * input_img + mean\n",
    "                input_img = np.clip(input_img, 0, 1) # Crops image data to between 0 and 1 \n",
    "                plt.imshow(input_img)\n",
    "                \n",
    "                if images_handeled == num_images:\n",
    "                    return\n",
    "    plt.show()"
   ]
  },
  {
   "cell_type": "code",
   "execution_count": 17,
   "metadata": {},
   "outputs": [
    {
     "data": {
      "image/png": "[encoded data removed]",
      "text/plain": [
       "<Figure size 4500x6000 with 20 Axes>"
      ]
     },
     "metadata": {},
     "output_type": "display_data"
    }
   ],
   "source": [
    "visualise_predictions(model, test_loader, num_images=20)"
   ]
  },
  {
   "cell_type": "markdown",
   "metadata": {
    "jp-MarkdownHeadingCollapsed": true
   },
   "source": [
    "### Generate Training Data for Object DNN"
   ]
  },
  {
   "cell_type": "code",
   "execution_count": 10,
   "metadata": {},
   "outputs": [],
   "source": [
    "model.load_state_dict(torch.load('models/CNN.pth'))\n",
    "model.eval()  # Set the model to evaluation mode\n",
    "\n",
    "# Create a dummy input that matches the input shape expected by the model\n",
    "# For example, if your model takes a single image with 3 color channels and 224x224 resolution:\n",
    "dummy_input = torch.randn(1, 3, 51, 51)  # Batch size is 1\n",
    "\n",
    "# Specify the path to save the ONNX model\n",
    "output_path = 'models/CNN.onnx'\n",
    "\n",
    "# Export the model\n",
    "torch.onnx.export(model,               # model being run\n",
    "                  dummy_input,         # model input (or a tuple for multiple inputs)\n",
    "                  output_path,         # where to save the model (can be a file or file-like object)\n",
    "                  export_params=True,  # store the trained parameter weights inside the model file\n",
    "                  opset_version=11,    # the ONNX version to export the model to\n",
    "                  do_constant_folding=True,  # whether to execute constant folding for optimization\n",
    "                  input_names=['input'],   # the model's input names\n",
    "                  output_names=['output'],  # the model's output names\n",
    "                  dynamic_axes={'input' : {0 : 'batch_size'},    # variable length axes\n",
    "                                'output' : {0 : 'batch_size'}})"
   ]
  },
  {
   "cell_type": "code",
   "execution_count": 7,
   "metadata": {},
   "outputs": [
    {
     "data": {
      "text/plain": [
       "SimpleCNN(\n",
       "  (conv1): Conv2d(3, 32, kernel_size=(3, 3), stride=(1, 1), padding=(1, 1))\n",
       "  (conv2): Conv2d(32, 64, kernel_size=(3, 3), stride=(1, 1), padding=(1, 1))\n",
       "  (conv3): Conv2d(64, 128, kernel_size=(3, 3), stride=(1, 1), padding=(1, 1))\n",
       "  (pool): MaxPool2d(kernel_size=2, stride=2, padding=0, dilation=1, ceil_mode=False)\n",
       "  (fc1): Linear(in_features=4608, out_features=512, bias=True)\n",
       "  (fc2): Linear(in_features=512, out_features=128, bias=True)\n",
       "  (fc3): Linear(in_features=128, out_features=1, bias=True)\n",
       "  (dropout): Dropout(p=0.5, inplace=False)\n",
       ")"
      ]
     },
     "execution_count": 7,
     "metadata": {},
     "output_type": "execute_result"
    }
   ],
   "source": [
    "model.load_state_dict(torch.load('models/CNN.pth')) # Load the trained model\n",
    "model.eval() # Set evaluation mode\n",
    "model.to(device) # Move the model to GPU"
   ]
  },
  {
   "cell_type": "code",
   "execution_count": 8,
   "metadata": {},
   "outputs": [],
   "source": [
    "# Slide on a given image and extract the image block \n",
    "def sliding_window(image, step_size, window_size):\n",
    "    for y in range(0, image.shape[0] - window_size[0], step_size): # Vertical direction\n",
    "        for x in range(0, image.shape[1] - window_size[1], step_size): # Horizontal direction\n",
    "            yield x, y, image[y:y+window_size[0], x:x+window_size[1]] # Get the image block"
   ]
  },
  {
   "cell_type": "code",
   "execution_count": 9,
   "metadata": {},
   "outputs": [],
   "source": [
    "# Detection on the input image by means of a sliding window \n",
    "def detect_targets(image, model, window_size, step_size, threshold=0.5):\n",
    "    target_mask = np.zeros_like(image[:, :, 0])  # Create a mask for targets\n",
    "    transform = transforms.Compose([\n",
    "        transforms.Resize((51, 51)),  # Resize the input window to 51x51 (just in case)\n",
    "        transforms.ToTensor(),\n",
    "        transforms.Normalize(mean=[0.485, 0.456, 0.406], std=[0.229, 0.224, 0.225])\n",
    "    ])\n",
    "\n",
    "    for x, y, window in sliding_window(image, step_size, window_size):\n",
    "        window_uint8 = (window * 255).astype(np.uint8)  # Convert window to uint8\n",
    "        window_image = Image.fromarray(window_uint8) # Convert uint8 format windows to PIL image objects \n",
    "        input_tensor = transform(window_image).unsqueeze(0).to(device) # Convert to tensor and move to GPU\n",
    "        output = model(input_tensor) # Extracting scores from model outputs \n",
    "        score = output.item()\n",
    "\n",
    "        if score >= threshold: # Check if the score is greater than or equal to the preset thresholds \n",
    "            target_mask[y:y+window_size[0], x:x+window_size[1]] = 1 # Marked as target present \n",
    "\n",
    "    return target_mask"
   ]
  },
  {
   "cell_type": "code",
   "execution_count": 20,
   "metadata": {},
   "outputs": [
    {
     "name": "stdout",
     "output_type": "stream",
     "text": [
      "X Range: 17.798382\n",
      "Y Range: 7.6320677\n",
      "Z Range: 24.92617\n"
     ]
    }
   ],
   "source": [
    "# Get the map size\n",
    "x_range, y_range, z_range = PacMan.calculate_pointcloud_bounds()\n",
    "print(\"X Range:\", x_range)\n",
    "print(\"Y Range:\", y_range)\n",
    "print(\"Z Range:\", z_range)"
   ]
  },
  {
   "cell_type": "code",
   "execution_count": 21,
   "metadata": {},
   "outputs": [],
   "source": [
    "# Define the range of positions and angles to traverse\n",
    "map_size_x = int(x_range)\n",
    "map_size_y = int(y_range)\n",
    "map_size_z = int(z_range)\n",
    "\n",
    "# Define the range of angles to traverse (reduced number of angles and larger step size)\n",
    "angle_step = np.radians(90)  # 90 degrees step size\n",
    "angles = np.arange(0, 2 * np.pi, angle_step)  # Angles from 0 to 360 degrees with 90 degrees step"
   ]
  },
  {
   "cell_type": "code",
   "execution_count": 24,
   "metadata": {},
   "outputs": [],
   "source": [
    "# Save path\n",
    "output_dir_positives = 'training_data/img/object_DNN/positives/'\n",
    "output_dir_negatives = 'training_data/img/object_DNN/negatives/'"
   ]
  },
  {
   "cell_type": "code",
   "execution_count": 25,
   "metadata": {},
   "outputs": [],
   "source": [
    "# Initialise Scene\n",
    "global_cloud, spheres_collected = PacMan.startup_scene()"
   ]
  },
  {
   "cell_type": "code",
   "execution_count": 26,
   "metadata": {
    "scrolled": true
   },
   "outputs": [],
   "source": [
    "# x, y, z iterate over all possible positions in 3D space \n",
    "for x in range(map_size_x):\n",
    "    for y in range(map_size_y):\n",
    "        for z in range(map_size_z):\n",
    "            position = np.array([x, y, z])\n",
    "            for angle in angles:\n",
    "                # Create rotation matrix from angle\n",
    "                angle_rad = np.array([0, angle, 0]) # Rotate around the coordinate axis \n",
    "                image, _, _, _, _ = PacMan.project_pointcloud_image(global_cloud, angle_rad, position)\n",
    "                \n",
    "                # Detect targets in the image\n",
    "                window_size = (51, 51) # Model's input size\n",
    "                step_size = 5 # Adjust step size as needed\n",
    "                target_mask = detect_targets(image, model, window_size, step_size) # Call the function\n",
    "                \n",
    "                # Save the png format image based on the presence of targets\n",
    "                image_uint8 = (image * 255).astype(np.uint8)\n",
    "                image_pil = Image.fromarray(image_uint8)\n",
    "                \n",
    "                if np.any(target_mask):\n",
    "                    # Save the image in the positives directory if a target is detected\n",
    "                    image_pil.save(os.path.join(output_dir_positives, f'image_pos_{position}_angle_{angle}.png'))\n",
    "                else:\n",
    "                    # Save the image in the negatives directory if no target is detected\n",
    "                    image_pil.save(os.path.join(output_dir_negatives, f'image_pos_{position}_angle_{angle}.png'))"
   ]
  },
  {
   "cell_type": "markdown",
   "metadata": {
    "jp-MarkdownHeadingCollapsed": true
   },
   "source": [
    "## Advance Solution : Train a DNN based object detector\n",
    "Depending on your desired apporach, you may want to create a suitable dataset using both the training patches you have been given and the 3D point cloud dataset. These can then be used to train our desired object detector to detect the target in the image. Several object detection frameworks are talked about both in the lectures and labs. "
   ]
  },
  {
   "cell_type": "code",
   "execution_count": 2,
   "metadata": {},
   "outputs": [],
   "source": [
    "# Load a model\n",
    "model = YOLO('models/yolov8m.pt')"
   ]
  },
  {
   "cell_type": "markdown",
   "metadata": {
    "jp-MarkdownHeadingCollapsed": true
   },
   "source": [
    "### Train the Model"
   ]
  },
  {
   "cell_type": "markdown",
   "metadata": {},
   "source": [
    "> The detailed model training parameters are in the file `training_data/YOLO/PacMan.yaml`. And I will explain it in the report as well. "
   ]
  },
  {
   "cell_type": "code",
   "execution_count": 3,
   "metadata": {
    "scrolled": true
   },
   "outputs": [
    {
     "name": "stdout",
     "output_type": "stream",
     "text": [
      "Ultralytics YOLOv8.2.2 🚀 Python-3.11.7 torch-2.2.2+cu121 CUDA:0 (NVIDIA GeForce RTX 3070, 7971MiB)\n",
      "\u001b[34m\u001b[1mengine/trainer: \u001b[0mtask=detect, mode=train, model=models/yolov8m.pt, data=training_data/YOLO/PacMan.yaml, epochs=100, time=None, patience=100, batch=16, imgsz=640, save=True, save_period=-1, cache=False, device=None, workers=8, project=None, name=train7, exist_ok=False, pretrained=True, optimizer=auto, verbose=True, seed=0, deterministic=True, single_cls=False, rect=False, cos_lr=False, close_mosaic=10, resume=False, amp=True, fraction=1.0, profile=False, freeze=None, multi_scale=False, overlap_mask=True, mask_ratio=4, dropout=0.0, val=True, split=val, save_json=False, save_hybrid=False, conf=None, iou=0.7, max_det=300, half=False, dnn=False, plots=True, source=None, vid_stride=1, stream_buffer=False, visualize=False, augment=False, agnostic_nms=False, classes=None, retina_masks=False, embed=None, show=False, save_frames=False, save_txt=False, save_conf=False, save_crop=False, show_labels=True, show_conf=True, show_boxes=True, line_width=None, format=torchscript, keras=False, optimize=False, int8=False, dynamic=False, simplify=False, opset=None, workspace=4, nms=False, lr0=0.01, lrf=0.01, momentum=0.937, weight_decay=0.0005, warmup_epochs=3.0, warmup_momentum=0.8, warmup_bias_lr=0.1, box=7.5, cls=0.5, dfl=1.5, pose=12.0, kobj=1.0, label_smoothing=0.0, nbs=64, hsv_h=0.015, hsv_s=0.7, hsv_v=0.4, degrees=0.0, translate=0.1, scale=0.5, shear=0.0, perspective=0.0, flipud=0.0, fliplr=0.5, bgr=0.0, mosaic=1.0, mixup=0.0, copy_paste=0.0, auto_augment=randaugment, erasing=0.4, crop_fraction=1.0, cfg=None, tracker=botsort.yaml, save_dir=runs/detect/train7\n",
      "Downloading https://ultralytics.com/assets/Arial.ttf to '/home/adrian/.config/Ultralytics/Arial.ttf'...\n"
     ]
    },
    {
     "name": "stderr",
     "output_type": "stream",
     "text": [
      "100%|███████████████████████████████████████████████████████████████████████████████████████████████████████████████████████████████████████████████████████████████████████████████████████████████████████████████████████████████████████████| 755k/755k [00:00<00:00, 8.61MB/s]"
     ]
    },
    {
     "name": "stdout",
     "output_type": "stream",
     "text": [
      "Overriding model.yaml nc=80 with nc=1\n",
      "\n",
      "                   from  n    params  module                                       arguments                     \n",
      "  0                  -1  1      1392  ultralytics.nn.modules.conv.Conv             [3, 48, 3, 2]                 \n",
      "  1                  -1  1     41664  ultralytics.nn.modules.conv.Conv             [48, 96, 3, 2]                \n",
      "  2                  -1  2    111360  ultralytics.nn.modules.block.C2f             [96, 96, 2, True]             \n",
      "  3                  -1  1    166272  ultralytics.nn.modules.conv.Conv             [96, 192, 3, 2]               \n",
      "  4                  -1  4    813312  ultralytics.nn.modules.block.C2f             [192, 192, 4, True]           \n",
      "  5                  -1  1    664320  ultralytics.nn.modules.conv.Conv             [192, 384, 3, 2]              \n",
      "  6                  -1  4   3248640  ultralytics.nn.modules.block.C2f             [384, 384, 4, True]           \n",
      "  7                  -1  1   1991808  ultralytics.nn.modules.conv.Conv             [384, 576, 3, 2]              \n",
      "  8                  -1  2   3985920  ultralytics.nn.modules.block.C2f             [576, 576, 2, True]           \n",
      "  9                  -1  1    831168  ultralytics.nn.modules.block.SPPF            [576, 576, 5]                 \n",
      " 10                  -1  1         0  torch.nn.modules.upsampling.Upsample         [None, 2, 'nearest']          \n",
      " 11             [-1, 6]  1         0  ultralytics.nn.modules.conv.Concat           [1]                           \n",
      " 12                  -1  2   1993728  ultralytics.nn.modules.block.C2f             [960, 384, 2]                 \n",
      " 13                  -1  1         0  torch.nn.modules.upsampling.Upsample         [None, 2, 'nearest']          \n",
      " 14             [-1, 4]  1         0  ultralytics.nn.modules.conv.Concat           [1]                           \n",
      " 15                  -1  2    517632  ultralytics.nn.modules.block.C2f             [576, 192, 2]                 \n",
      " 16                  -1  1    332160  ultralytics.nn.modules.conv.Conv             [192, 192, 3, 2]              \n",
      " 17            [-1, 12]  1         0  ultralytics.nn.modules.conv.Concat           [1]                           \n",
      " 18                  -1  2   1846272  ultralytics.nn.modules.block.C2f             [576, 384, 2]                 \n",
      " 19                  -1  1   1327872  ultralytics.nn.modules.conv.Conv             [384, 384, 3, 2]              \n",
      " 20             [-1, 9]  1         0  ultralytics.nn.modules.conv.Concat           [1]                           \n",
      " 21                  -1  2   4207104  ultralytics.nn.modules.block.C2f             [960, 576, 2]                 \n",
      " 22        [15, 18, 21]  1   3776275  ultralytics.nn.modules.head.Detect           [1, [192, 384, 576]]          \n"
     ]
    },
    {
     "name": "stderr",
     "output_type": "stream",
     "text": [
      "\n"
     ]
    },
    {
     "name": "stdout",
     "output_type": "stream",
     "text": [
      "Model summary: 295 layers, 25856899 parameters, 25856883 gradients, 79.1 GFLOPs\n",
      "\n",
      "Transferred 469/475 items from pretrained weights\n",
      "Freezing layer 'model.22.dfl.conv.weight'\n",
      "\u001b[34m\u001b[1mAMP: \u001b[0mrunning Automatic Mixed Precision (AMP) checks with YOLOv8n...\n",
      "Downloading https://github.com/ultralytics/assets/releases/download/v8.2.0/yolov8n.pt to 'yolov8n.pt'...\n"
     ]
    },
    {
     "name": "stderr",
     "output_type": "stream",
     "text": [
      "100%|█████████████████████████████████████████████████████████████████████████████████████████████████████████████████████████████████████████████████████████████████████████████████████████████████████████████████████████████████████████| 6.23M/6.23M [00:00<00:00, 18.0MB/s]\n"
     ]
    },
    {
     "name": "stdout",
     "output_type": "stream",
     "text": [
      "\u001b[34m\u001b[1mAMP: \u001b[0mchecks passed ✅\n"
     ]
    },
    {
     "name": "stderr",
     "output_type": "stream",
     "text": [
      "\u001b[34m\u001b[1mtrain: \u001b[0mScanning /home/adrian/OneDrive/Documents/Master of Computer Science/Deep Learning for CV and Robotics/Summative/dl-cv-robotics/training_data/YOLO/train... 721 images, 545 backgrounds, 0 corrupt: 100%|██████████| 721/721 [00:00<00:00, 9692.20it/s]\u001b[0m"
     ]
    },
    {
     "name": "stdout",
     "output_type": "stream",
     "text": [
      "\u001b[34m\u001b[1mtrain: \u001b[0mNew cache created: /home/adrian/OneDrive/Documents/Master of Computer Science/Deep Learning for CV and Robotics/Summative/dl-cv-robotics/training_data/YOLO/train.cache\n"
     ]
    },
    {
     "name": "stderr",
     "output_type": "stream",
     "text": [
      "\n",
      "\u001b[34m\u001b[1mval: \u001b[0mScanning /home/adrian/OneDrive/Documents/Master of Computer Science/Deep Learning for CV and Robotics/Summative/dl-cv-robotics/training_data/YOLO/val... 206 images, 150 backgrounds, 0 corrupt: 100%|██████████| 206/206 [00:00<00:00, 8487.24it/s]\u001b[0m\n"
     ]
    },
    {
     "name": "stdout",
     "output_type": "stream",
     "text": [
      "\u001b[34m\u001b[1mval: \u001b[0mNew cache created: /home/adrian/OneDrive/Documents/Master of Computer Science/Deep Learning for CV and Robotics/Summative/dl-cv-robotics/training_data/YOLO/val.cache\n",
      "Plotting labels to runs/detect/train7/labels.jpg... \n",
      "\u001b[34m\u001b[1moptimizer:\u001b[0m 'optimizer=auto' found, ignoring 'lr0=0.01' and 'momentum=0.937' and determining best 'optimizer', 'lr0' and 'momentum' automatically... \n",
      "\u001b[34m\u001b[1moptimizer:\u001b[0m AdamW(lr=0.002, momentum=0.9) with parameter groups 77 weight(decay=0.0), 84 weight(decay=0.0005), 83 bias(decay=0.0)\n",
      "Image sizes 640 train, 640 val\n",
      "Using 8 dataloader workers\n",
      "Logging results to \u001b[1mruns/detect/train7\u001b[0m\n",
      "Starting training for 100 epochs...\n",
      "\n",
      "      Epoch    GPU_mem   box_loss   cls_loss   dfl_loss  Instances       Size\n"
     ]
    },
    {
     "name": "stderr",
     "output_type": "stream",
     "text": [
      "      1/100      6.59G      1.058      4.431     0.9809          3        640: 100%|██████████| 46/46 [00:14<00:00,  3.21it/s]\n",
      "                 Class     Images  Instances      Box(P          R      mAP50  mAP50-95): 100%|██████████| 7/7 [00:01<00:00,  4.89it/s]"
     ]
    },
    {
     "name": "stdout",
     "output_type": "stream",
     "text": [
      "                   all        206        134     0.0125      0.888     0.0123    0.00785\n"
     ]
    },
    {
     "name": "stderr",
     "output_type": "stream",
     "text": [
      "\n"
     ]
    },
    {
     "name": "stdout",
     "output_type": "stream",
     "text": [
      "\n",
      "      Epoch    GPU_mem   box_loss   cls_loss   dfl_loss  Instances       Size\n"
     ]
    },
    {
     "name": "stderr",
     "output_type": "stream",
     "text": [
      "      2/100      6.79G      1.175     0.9849      1.032          0        640: 100%|██████████| 46/46 [00:12<00:00,  3.63it/s]\n",
      "                 Class     Images  Instances      Box(P          R      mAP50  mAP50-95): 100%|██████████| 7/7 [00:00<00:00,  8.05it/s]"
     ]
    },
    {
     "name": "stdout",
     "output_type": "stream",
     "text": [
      "                   all        206        134      0.676      0.373      0.355      0.183\n"
     ]
    },
    {
     "name": "stderr",
     "output_type": "stream",
     "text": [
      "\n"
     ]
    },
    {
     "name": "stdout",
     "output_type": "stream",
     "text": [
      "\n",
      "      Epoch    GPU_mem   box_loss   cls_loss   dfl_loss  Instances       Size\n"
     ]
    },
    {
     "name": "stderr",
     "output_type": "stream",
     "text": [
      "      3/100      6.84G      1.223      1.139      1.057          1        640: 100%|██████████| 46/46 [00:12<00:00,  3.65it/s]\n",
      "                 Class     Images  Instances      Box(P          R      mAP50  mAP50-95): 100%|██████████| 7/7 [00:00<00:00,  8.31it/s]"
     ]
    },
    {
     "name": "stdout",
     "output_type": "stream",
     "text": [
      "                   all        206        134      0.214      0.112     0.0462     0.0196\n"
     ]
    },
    {
     "name": "stderr",
     "output_type": "stream",
     "text": [
      "\n"
     ]
    },
    {
     "name": "stdout",
     "output_type": "stream",
     "text": [
      "\n",
      "      Epoch    GPU_mem   box_loss   cls_loss   dfl_loss  Instances       Size\n"
     ]
    },
    {
     "name": "stderr",
     "output_type": "stream",
     "text": [
      "      4/100      6.79G      1.208      0.922      1.075          1        640: 100%|██████████| 46/46 [00:12<00:00,  3.67it/s]\n",
      "                 Class     Images  Instances      Box(P          R      mAP50  mAP50-95): 100%|██████████| 7/7 [00:00<00:00,  7.29it/s]"
     ]
    },
    {
     "name": "stdout",
     "output_type": "stream",
     "text": [
      "                   all        206        134   4.87e-05     0.0224   3.18e-05    1.3e-05\n"
     ]
    },
    {
     "name": "stderr",
     "output_type": "stream",
     "text": [
      "\n"
     ]
    },
    {
     "name": "stdout",
     "output_type": "stream",
     "text": [
      "\n",
      "      Epoch    GPU_mem   box_loss   cls_loss   dfl_loss  Instances       Size\n"
     ]
    },
    {
     "name": "stderr",
     "output_type": "stream",
     "text": [
      "      5/100      6.82G      1.121     0.8748      1.057          2        640: 100%|██████████| 46/46 [00:12<00:00,  3.67it/s]\n",
      "                 Class     Images  Instances      Box(P          R      mAP50  mAP50-95): 100%|██████████| 7/7 [00:00<00:00,  8.09it/s]"
     ]
    },
    {
     "name": "stdout",
     "output_type": "stream",
     "text": [
      "                   all        206        134      0.887      0.878      0.923      0.619\n"
     ]
    },
    {
     "name": "stderr",
     "output_type": "stream",
     "text": [
      "\n"
     ]
    },
    {
     "name": "stdout",
     "output_type": "stream",
     "text": [
      "\n",
      "      Epoch    GPU_mem   box_loss   cls_loss   dfl_loss  Instances       Size\n"
     ]
    },
    {
     "name": "stderr",
     "output_type": "stream",
     "text": [
      "      6/100      6.79G      1.121     0.7858      1.021          0        640: 100%|██████████| 46/46 [00:12<00:00,  3.64it/s]\n",
      "                 Class     Images  Instances      Box(P          R      mAP50  mAP50-95): 100%|██████████| 7/7 [00:00<00:00,  8.07it/s]"
     ]
    },
    {
     "name": "stdout",
     "output_type": "stream",
     "text": [
      "                   all        206        134      0.824       0.91      0.937      0.629\n"
     ]
    },
    {
     "name": "stderr",
     "output_type": "stream",
     "text": [
      "\n"
     ]
    },
    {
     "name": "stdout",
     "output_type": "stream",
     "text": [
      "\n",
      "      Epoch    GPU_mem   box_loss   cls_loss   dfl_loss  Instances       Size\n"
     ]
    },
    {
     "name": "stderr",
     "output_type": "stream",
     "text": [
      "      7/100      6.83G      1.138     0.7846      1.061          1        640: 100%|██████████| 46/46 [00:12<00:00,  3.66it/s]\n",
      "                 Class     Images  Instances      Box(P          R      mAP50  mAP50-95): 100%|██████████| 7/7 [00:00<00:00,  8.26it/s]"
     ]
    },
    {
     "name": "stdout",
     "output_type": "stream",
     "text": [
      "                   all        206        134      0.877      0.828      0.933      0.691\n"
     ]
    },
    {
     "name": "stderr",
     "output_type": "stream",
     "text": [
      "\n"
     ]
    },
    {
     "name": "stdout",
     "output_type": "stream",
     "text": [
      "\n",
      "      Epoch    GPU_mem   box_loss   cls_loss   dfl_loss  Instances       Size\n"
     ]
    },
    {
     "name": "stderr",
     "output_type": "stream",
     "text": [
      "      8/100       6.8G      1.041     0.6886      1.002          2        640: 100%|██████████| 46/46 [00:12<00:00,  3.65it/s]\n",
      "                 Class     Images  Instances      Box(P          R      mAP50  mAP50-95): 100%|██████████| 7/7 [00:00<00:00,  8.23it/s]"
     ]
    },
    {
     "name": "stdout",
     "output_type": "stream",
     "text": [
      "                   all        206        134      0.854      0.828      0.928      0.672\n"
     ]
    },
    {
     "name": "stderr",
     "output_type": "stream",
     "text": [
      "\n"
     ]
    },
    {
     "name": "stdout",
     "output_type": "stream",
     "text": [
      "\n",
      "      Epoch    GPU_mem   box_loss   cls_loss   dfl_loss  Instances       Size\n"
     ]
    },
    {
     "name": "stderr",
     "output_type": "stream",
     "text": [
      "      9/100      6.83G      1.087     0.7537      1.046          0        640: 100%|██████████| 46/46 [00:12<00:00,  3.68it/s]\n",
      "                 Class     Images  Instances      Box(P          R      mAP50  mAP50-95): 100%|██████████| 7/7 [00:00<00:00,  7.98it/s]"
     ]
    },
    {
     "name": "stdout",
     "output_type": "stream",
     "text": [
      "                   all        206        134      0.888      0.903       0.96      0.681\n"
     ]
    },
    {
     "name": "stderr",
     "output_type": "stream",
     "text": [
      "\n"
     ]
    },
    {
     "name": "stdout",
     "output_type": "stream",
     "text": [
      "\n",
      "      Epoch    GPU_mem   box_loss   cls_loss   dfl_loss  Instances       Size\n"
     ]
    },
    {
     "name": "stderr",
     "output_type": "stream",
     "text": [
      "     10/100       6.8G      1.016     0.6734     0.9976          1        640: 100%|██████████| 46/46 [00:12<00:00,  3.73it/s]\n",
      "                 Class     Images  Instances      Box(P          R      mAP50  mAP50-95): 100%|██████████| 7/7 [00:00<00:00,  8.32it/s]"
     ]
    },
    {
     "name": "stdout",
     "output_type": "stream",
     "text": [
      "                   all        206        134       0.92      0.858       0.96      0.702\n"
     ]
    },
    {
     "name": "stderr",
     "output_type": "stream",
     "text": [
      "\n"
     ]
    },
    {
     "name": "stdout",
     "output_type": "stream",
     "text": [
      "\n",
      "      Epoch    GPU_mem   box_loss   cls_loss   dfl_loss  Instances       Size\n"
     ]
    },
    {
     "name": "stderr",
     "output_type": "stream",
     "text": [
      "     11/100      6.82G     0.9938     0.6428     0.9608          0        640: 100%|██████████| 46/46 [00:12<00:00,  3.73it/s]\n",
      "                 Class     Images  Instances      Box(P          R      mAP50  mAP50-95): 100%|██████████| 7/7 [00:00<00:00,  8.16it/s]"
     ]
    },
    {
     "name": "stdout",
     "output_type": "stream",
     "text": [
      "                   all        206        134      0.875      0.873      0.938      0.658\n"
     ]
    },
    {
     "name": "stderr",
     "output_type": "stream",
     "text": [
      "\n"
     ]
    },
    {
     "name": "stdout",
     "output_type": "stream",
     "text": [
      "\n",
      "      Epoch    GPU_mem   box_loss   cls_loss   dfl_loss  Instances       Size\n"
     ]
    },
    {
     "name": "stderr",
     "output_type": "stream",
     "text": [
      "     12/100      6.81G     0.9891     0.6669     0.9675          0        640: 100%|██████████| 46/46 [00:12<00:00,  3.74it/s]\n",
      "                 Class     Images  Instances      Box(P          R      mAP50  mAP50-95): 100%|██████████| 7/7 [00:00<00:00,  8.45it/s]"
     ]
    },
    {
     "name": "stdout",
     "output_type": "stream",
     "text": [
      "                   all        206        134      0.872      0.851      0.937      0.687\n"
     ]
    },
    {
     "name": "stderr",
     "output_type": "stream",
     "text": [
      "\n"
     ]
    },
    {
     "name": "stdout",
     "output_type": "stream",
     "text": [
      "\n",
      "      Epoch    GPU_mem   box_loss   cls_loss   dfl_loss  Instances       Size\n"
     ]
    },
    {
     "name": "stderr",
     "output_type": "stream",
     "text": [
      "     13/100      6.84G     0.9738     0.6479     0.9975          0        640: 100%|██████████| 46/46 [00:12<00:00,  3.73it/s]\n",
      "                 Class     Images  Instances      Box(P          R      mAP50  mAP50-95): 100%|██████████| 7/7 [00:00<00:00,  8.46it/s]"
     ]
    },
    {
     "name": "stdout",
     "output_type": "stream",
     "text": [
      "                   all        206        134      0.906      0.873      0.953      0.695\n"
     ]
    },
    {
     "name": "stderr",
     "output_type": "stream",
     "text": [
      "\n"
     ]
    },
    {
     "name": "stdout",
     "output_type": "stream",
     "text": [
      "\n",
      "      Epoch    GPU_mem   box_loss   cls_loss   dfl_loss  Instances       Size\n"
     ]
    },
    {
     "name": "stderr",
     "output_type": "stream",
     "text": [
      "     14/100      6.79G     0.9598     0.6319     0.9551          0        640: 100%|██████████| 46/46 [00:12<00:00,  3.73it/s]\n",
      "                 Class     Images  Instances      Box(P          R      mAP50  mAP50-95): 100%|██████████| 7/7 [00:00<00:00,  8.19it/s]"
     ]
    },
    {
     "name": "stdout",
     "output_type": "stream",
     "text": [
      "                   all        206        134      0.898      0.896      0.963      0.696\n"
     ]
    },
    {
     "name": "stderr",
     "output_type": "stream",
     "text": [
      "\n"
     ]
    },
    {
     "name": "stdout",
     "output_type": "stream",
     "text": [
      "\n",
      "      Epoch    GPU_mem   box_loss   cls_loss   dfl_loss  Instances       Size\n"
     ]
    },
    {
     "name": "stderr",
     "output_type": "stream",
     "text": [
      "     15/100      6.81G      1.012     0.6989     0.9718          0        640: 100%|██████████| 46/46 [00:12<00:00,  3.73it/s]\n",
      "                 Class     Images  Instances      Box(P          R      mAP50  mAP50-95): 100%|██████████| 7/7 [00:00<00:00,  8.07it/s]"
     ]
    },
    {
     "name": "stdout",
     "output_type": "stream",
     "text": [
      "                   all        206        134      0.889      0.903      0.962      0.698\n"
     ]
    },
    {
     "name": "stderr",
     "output_type": "stream",
     "text": [
      "\n"
     ]
    },
    {
     "name": "stdout",
     "output_type": "stream",
     "text": [
      "\n",
      "      Epoch    GPU_mem   box_loss   cls_loss   dfl_loss  Instances       Size\n"
     ]
    },
    {
     "name": "stderr",
     "output_type": "stream",
     "text": [
      "     16/100      6.81G     0.9427     0.6123     0.9377          0        640: 100%|██████████| 46/46 [00:12<00:00,  3.74it/s]\n",
      "                 Class     Images  Instances      Box(P          R      mAP50  mAP50-95): 100%|██████████| 7/7 [00:00<00:00,  8.43it/s]"
     ]
    },
    {
     "name": "stdout",
     "output_type": "stream",
     "text": [
      "                   all        206        134      0.872       0.91      0.954      0.724\n"
     ]
    },
    {
     "name": "stderr",
     "output_type": "stream",
     "text": [
      "\n"
     ]
    },
    {
     "name": "stdout",
     "output_type": "stream",
     "text": [
      "\n",
      "      Epoch    GPU_mem   box_loss   cls_loss   dfl_loss  Instances       Size\n"
     ]
    },
    {
     "name": "stderr",
     "output_type": "stream",
     "text": [
      "     17/100      6.84G     0.9368     0.6112     0.9483          0        640: 100%|██████████| 46/46 [00:12<00:00,  3.74it/s]\n",
      "                 Class     Images  Instances      Box(P          R      mAP50  mAP50-95): 100%|██████████| 7/7 [00:00<00:00,  8.46it/s]"
     ]
    },
    {
     "name": "stdout",
     "output_type": "stream",
     "text": [
      "                   all        206        134      0.856      0.935      0.962      0.723\n"
     ]
    },
    {
     "name": "stderr",
     "output_type": "stream",
     "text": [
      "\n"
     ]
    },
    {
     "name": "stdout",
     "output_type": "stream",
     "text": [
      "\n",
      "      Epoch    GPU_mem   box_loss   cls_loss   dfl_loss  Instances       Size\n"
     ]
    },
    {
     "name": "stderr",
     "output_type": "stream",
     "text": [
      "     18/100      6.79G     0.8597     0.5466     0.9169          0        640: 100%|██████████| 46/46 [00:12<00:00,  3.73it/s]\n",
      "                 Class     Images  Instances      Box(P          R      mAP50  mAP50-95): 100%|██████████| 7/7 [00:00<00:00,  8.17it/s]"
     ]
    },
    {
     "name": "stdout",
     "output_type": "stream",
     "text": [
      "                   all        206        134      0.863      0.943      0.966      0.698\n"
     ]
    },
    {
     "name": "stderr",
     "output_type": "stream",
     "text": [
      "\n"
     ]
    },
    {
     "name": "stdout",
     "output_type": "stream",
     "text": [
      "\n",
      "      Epoch    GPU_mem   box_loss   cls_loss   dfl_loss  Instances       Size\n"
     ]
    },
    {
     "name": "stderr",
     "output_type": "stream",
     "text": [
      "     19/100      6.81G      0.902     0.5235     0.9527          2        640: 100%|██████████| 46/46 [00:12<00:00,  3.73it/s]\n",
      "                 Class     Images  Instances      Box(P          R      mAP50  mAP50-95): 100%|██████████| 7/7 [00:00<00:00,  8.44it/s]"
     ]
    },
    {
     "name": "stdout",
     "output_type": "stream",
     "text": [
      "                   all        206        134      0.893      0.925      0.962      0.702\n"
     ]
    },
    {
     "name": "stderr",
     "output_type": "stream",
     "text": [
      "\n"
     ]
    },
    {
     "name": "stdout",
     "output_type": "stream",
     "text": [
      "\n",
      "      Epoch    GPU_mem   box_loss   cls_loss   dfl_loss  Instances       Size\n"
     ]
    },
    {
     "name": "stderr",
     "output_type": "stream",
     "text": [
      "     20/100       6.8G     0.8973     0.5748     0.9511          0        640: 100%|██████████| 46/46 [00:12<00:00,  3.74it/s]\n",
      "                 Class     Images  Instances      Box(P          R      mAP50  mAP50-95): 100%|██████████| 7/7 [00:00<00:00,  8.44it/s]"
     ]
    },
    {
     "name": "stdout",
     "output_type": "stream",
     "text": [
      "                   all        206        134      0.925      0.858      0.963      0.725\n"
     ]
    },
    {
     "name": "stderr",
     "output_type": "stream",
     "text": [
      "\n"
     ]
    },
    {
     "name": "stdout",
     "output_type": "stream",
     "text": [
      "\n",
      "      Epoch    GPU_mem   box_loss   cls_loss   dfl_loss  Instances       Size\n"
     ]
    },
    {
     "name": "stderr",
     "output_type": "stream",
     "text": [
      "     21/100      6.84G     0.8923     0.5551     0.9398          0        640: 100%|██████████| 46/46 [00:12<00:00,  3.73it/s]\n",
      "                 Class     Images  Instances      Box(P          R      mAP50  mAP50-95): 100%|██████████| 7/7 [00:00<00:00,  8.24it/s]"
     ]
    },
    {
     "name": "stdout",
     "output_type": "stream",
     "text": [
      "                   all        206        134      0.898      0.917       0.97      0.698\n"
     ]
    },
    {
     "name": "stderr",
     "output_type": "stream",
     "text": [
      "\n"
     ]
    },
    {
     "name": "stdout",
     "output_type": "stream",
     "text": [
      "\n",
      "      Epoch    GPU_mem   box_loss   cls_loss   dfl_loss  Instances       Size\n"
     ]
    },
    {
     "name": "stderr",
     "output_type": "stream",
     "text": [
      "     22/100       6.8G     0.8692     0.5834     0.9371          0        640: 100%|██████████| 46/46 [00:12<00:00,  3.74it/s]\n",
      "                 Class     Images  Instances      Box(P          R      mAP50  mAP50-95): 100%|██████████| 7/7 [00:00<00:00,  8.42it/s]"
     ]
    },
    {
     "name": "stdout",
     "output_type": "stream",
     "text": [
      "                   all        206        134      0.896      0.948      0.965      0.709\n"
     ]
    },
    {
     "name": "stderr",
     "output_type": "stream",
     "text": [
      "\n"
     ]
    },
    {
     "name": "stdout",
     "output_type": "stream",
     "text": [
      "\n",
      "      Epoch    GPU_mem   box_loss   cls_loss   dfl_loss  Instances       Size\n"
     ]
    },
    {
     "name": "stderr",
     "output_type": "stream",
     "text": [
      "     23/100      6.82G     0.8941     0.8108      0.899          0        640: 100%|██████████| 46/46 [00:12<00:00,  3.73it/s]\n",
      "                 Class     Images  Instances      Box(P          R      mAP50  mAP50-95): 100%|██████████| 7/7 [00:00<00:00,  8.44it/s]"
     ]
    },
    {
     "name": "stdout",
     "output_type": "stream",
     "text": [
      "                   all        206        134       0.85      0.963      0.959      0.688\n"
     ]
    },
    {
     "name": "stderr",
     "output_type": "stream",
     "text": [
      "\n"
     ]
    },
    {
     "name": "stdout",
     "output_type": "stream",
     "text": [
      "\n",
      "      Epoch    GPU_mem   box_loss   cls_loss   dfl_loss  Instances       Size\n"
     ]
    },
    {
     "name": "stderr",
     "output_type": "stream",
     "text": [
      "     24/100      6.79G     0.9293     0.5841      0.965          1        640: 100%|██████████| 46/46 [00:12<00:00,  3.74it/s]\n",
      "                 Class     Images  Instances      Box(P          R      mAP50  mAP50-95): 100%|██████████| 7/7 [00:00<00:00,  8.25it/s]"
     ]
    },
    {
     "name": "stdout",
     "output_type": "stream",
     "text": [
      "                   all        206        134      0.884      0.906      0.968      0.725\n"
     ]
    },
    {
     "name": "stderr",
     "output_type": "stream",
     "text": [
      "\n"
     ]
    },
    {
     "name": "stdout",
     "output_type": "stream",
     "text": [
      "\n",
      "      Epoch    GPU_mem   box_loss   cls_loss   dfl_loss  Instances       Size\n"
     ]
    },
    {
     "name": "stderr",
     "output_type": "stream",
     "text": [
      "     25/100      6.82G     0.8527     0.5275      0.913          0        640: 100%|██████████| 46/46 [00:12<00:00,  3.74it/s]\n",
      "                 Class     Images  Instances      Box(P          R      mAP50  mAP50-95): 100%|██████████| 7/7 [00:00<00:00,  8.45it/s]"
     ]
    },
    {
     "name": "stdout",
     "output_type": "stream",
     "text": [
      "                   all        206        134      0.872      0.969      0.968       0.73\n"
     ]
    },
    {
     "name": "stderr",
     "output_type": "stream",
     "text": [
      "\n"
     ]
    },
    {
     "name": "stdout",
     "output_type": "stream",
     "text": [
      "\n",
      "      Epoch    GPU_mem   box_loss   cls_loss   dfl_loss  Instances       Size\n"
     ]
    },
    {
     "name": "stderr",
     "output_type": "stream",
     "text": [
      "     26/100      6.81G     0.8599     0.5499     0.9129          0        640: 100%|██████████| 46/46 [00:12<00:00,  3.74it/s]\n",
      "                 Class     Images  Instances      Box(P          R      mAP50  mAP50-95): 100%|██████████| 7/7 [00:00<00:00,  8.45it/s]"
     ]
    },
    {
     "name": "stdout",
     "output_type": "stream",
     "text": [
      "                   all        206        134      0.893      0.888      0.966      0.732\n"
     ]
    },
    {
     "name": "stderr",
     "output_type": "stream",
     "text": [
      "\n"
     ]
    },
    {
     "name": "stdout",
     "output_type": "stream",
     "text": [
      "\n",
      "      Epoch    GPU_mem   box_loss   cls_loss   dfl_loss  Instances       Size\n"
     ]
    },
    {
     "name": "stderr",
     "output_type": "stream",
     "text": [
      "     27/100      6.83G     0.8837     0.5507      0.917          0        640: 100%|██████████| 46/46 [00:12<00:00,  3.73it/s]\n",
      "                 Class     Images  Instances      Box(P          R      mAP50  mAP50-95): 100%|██████████| 7/7 [00:00<00:00,  8.44it/s]"
     ]
    },
    {
     "name": "stdout",
     "output_type": "stream",
     "text": [
      "                   all        206        134      0.933      0.933      0.975      0.729\n"
     ]
    },
    {
     "name": "stderr",
     "output_type": "stream",
     "text": [
      "\n"
     ]
    },
    {
     "name": "stdout",
     "output_type": "stream",
     "text": [
      "\n",
      "      Epoch    GPU_mem   box_loss   cls_loss   dfl_loss  Instances       Size\n"
     ]
    },
    {
     "name": "stderr",
     "output_type": "stream",
     "text": [
      "     28/100       6.8G      0.904     0.5604     0.9614          2        640: 100%|██████████| 46/46 [00:12<00:00,  3.73it/s]\n",
      "                 Class     Images  Instances      Box(P          R      mAP50  mAP50-95): 100%|██████████| 7/7 [00:00<00:00,  8.46it/s]"
     ]
    },
    {
     "name": "stdout",
     "output_type": "stream",
     "text": [
      "                   all        206        134      0.875      0.933       0.96       0.72\n"
     ]
    },
    {
     "name": "stderr",
     "output_type": "stream",
     "text": [
      "\n"
     ]
    },
    {
     "name": "stdout",
     "output_type": "stream",
     "text": [
      "\n",
      "      Epoch    GPU_mem   box_loss   cls_loss   dfl_loss  Instances       Size\n"
     ]
    },
    {
     "name": "stderr",
     "output_type": "stream",
     "text": [
      "     29/100      6.83G     0.8431     0.5115     0.9195          0        640: 100%|██████████| 46/46 [00:12<00:00,  3.73it/s]\n",
      "                 Class     Images  Instances      Box(P          R      mAP50  mAP50-95): 100%|██████████| 7/7 [00:00<00:00,  8.43it/s]"
     ]
    },
    {
     "name": "stdout",
     "output_type": "stream",
     "text": [
      "                   all        206        134      0.944      0.885      0.975      0.738\n"
     ]
    },
    {
     "name": "stderr",
     "output_type": "stream",
     "text": [
      "\n"
     ]
    },
    {
     "name": "stdout",
     "output_type": "stream",
     "text": [
      "\n",
      "      Epoch    GPU_mem   box_loss   cls_loss   dfl_loss  Instances       Size\n"
     ]
    },
    {
     "name": "stderr",
     "output_type": "stream",
     "text": [
      "     30/100      6.79G     0.8351     0.5139     0.9252          0        640: 100%|██████████| 46/46 [00:12<00:00,  3.74it/s]\n",
      "                 Class     Images  Instances      Box(P          R      mAP50  mAP50-95): 100%|██████████| 7/7 [00:00<00:00,  8.45it/s]"
     ]
    },
    {
     "name": "stdout",
     "output_type": "stream",
     "text": [
      "                   all        206        134      0.888      0.955      0.969      0.731\n"
     ]
    },
    {
     "name": "stderr",
     "output_type": "stream",
     "text": [
      "\n"
     ]
    },
    {
     "name": "stdout",
     "output_type": "stream",
     "text": [
      "\n",
      "      Epoch    GPU_mem   box_loss   cls_loss   dfl_loss  Instances       Size\n"
     ]
    },
    {
     "name": "stderr",
     "output_type": "stream",
     "text": [
      "     31/100      6.83G     0.8532     0.5273     0.9262          0        640: 100%|██████████| 46/46 [00:12<00:00,  3.73it/s]\n",
      "                 Class     Images  Instances      Box(P          R      mAP50  mAP50-95): 100%|██████████| 7/7 [00:00<00:00,  8.18it/s]"
     ]
    },
    {
     "name": "stdout",
     "output_type": "stream",
     "text": [
      "                   all        206        134      0.891      0.913      0.967      0.732\n"
     ]
    },
    {
     "name": "stderr",
     "output_type": "stream",
     "text": [
      "\n"
     ]
    },
    {
     "name": "stdout",
     "output_type": "stream",
     "text": [
      "\n",
      "      Epoch    GPU_mem   box_loss   cls_loss   dfl_loss  Instances       Size\n"
     ]
    },
    {
     "name": "stderr",
     "output_type": "stream",
     "text": [
      "     32/100      6.79G     0.8777     0.4914      0.901          2        640: 100%|██████████| 46/46 [00:12<00:00,  3.73it/s]\n",
      "                 Class     Images  Instances      Box(P          R      mAP50  mAP50-95): 100%|██████████| 7/7 [00:00<00:00,  8.43it/s]"
     ]
    },
    {
     "name": "stdout",
     "output_type": "stream",
     "text": [
      "                   all        206        134      0.901       0.97      0.977      0.755\n"
     ]
    },
    {
     "name": "stderr",
     "output_type": "stream",
     "text": [
      "\n"
     ]
    },
    {
     "name": "stdout",
     "output_type": "stream",
     "text": [
      "\n",
      "      Epoch    GPU_mem   box_loss   cls_loss   dfl_loss  Instances       Size\n"
     ]
    },
    {
     "name": "stderr",
     "output_type": "stream",
     "text": [
      "     33/100      6.84G     0.8533     0.5195     0.9296          0        640: 100%|██████████| 46/46 [00:12<00:00,  3.73it/s]\n",
      "                 Class     Images  Instances      Box(P          R      mAP50  mAP50-95): 100%|██████████| 7/7 [00:00<00:00,  8.45it/s]"
     ]
    },
    {
     "name": "stdout",
     "output_type": "stream",
     "text": [
      "                   all        206        134      0.899       0.94      0.973      0.736\n"
     ]
    },
    {
     "name": "stderr",
     "output_type": "stream",
     "text": [
      "\n"
     ]
    },
    {
     "name": "stdout",
     "output_type": "stream",
     "text": [
      "\n",
      "      Epoch    GPU_mem   box_loss   cls_loss   dfl_loss  Instances       Size\n"
     ]
    },
    {
     "name": "stderr",
     "output_type": "stream",
     "text": [
      "     34/100      6.79G     0.8747     0.5197     0.9422          1        640: 100%|██████████| 46/46 [00:12<00:00,  3.73it/s]\n",
      "                 Class     Images  Instances      Box(P          R      mAP50  mAP50-95): 100%|██████████| 7/7 [00:00<00:00,  8.46it/s]"
     ]
    },
    {
     "name": "stdout",
     "output_type": "stream",
     "text": [
      "                   all        206        134      0.888      0.918      0.971      0.746\n"
     ]
    },
    {
     "name": "stderr",
     "output_type": "stream",
     "text": [
      "\n"
     ]
    },
    {
     "name": "stdout",
     "output_type": "stream",
     "text": [
      "\n",
      "      Epoch    GPU_mem   box_loss   cls_loss   dfl_loss  Instances       Size\n"
     ]
    },
    {
     "name": "stderr",
     "output_type": "stream",
     "text": [
      "     35/100      6.83G     0.8244     0.4991     0.8879          0        640: 100%|██████████| 46/46 [00:12<00:00,  3.73it/s]\n",
      "                 Class     Images  Instances      Box(P          R      mAP50  mAP50-95): 100%|██████████| 7/7 [00:00<00:00,  8.42it/s]"
     ]
    },
    {
     "name": "stdout",
     "output_type": "stream",
     "text": [
      "                   all        206        134      0.899      0.896      0.965      0.742\n"
     ]
    },
    {
     "name": "stderr",
     "output_type": "stream",
     "text": [
      "\n"
     ]
    },
    {
     "name": "stdout",
     "output_type": "stream",
     "text": [
      "\n",
      "      Epoch    GPU_mem   box_loss   cls_loss   dfl_loss  Instances       Size\n"
     ]
    },
    {
     "name": "stderr",
     "output_type": "stream",
     "text": [
      "     36/100       6.8G     0.8251      0.524     0.8998          0        640: 100%|██████████| 46/46 [00:12<00:00,  3.73it/s]\n",
      "                 Class     Images  Instances      Box(P          R      mAP50  mAP50-95): 100%|██████████| 7/7 [00:00<00:00,  8.46it/s]"
     ]
    },
    {
     "name": "stdout",
     "output_type": "stream",
     "text": [
      "                   all        206        134      0.856       0.91      0.959      0.723\n"
     ]
    },
    {
     "name": "stderr",
     "output_type": "stream",
     "text": [
      "\n"
     ]
    },
    {
     "name": "stdout",
     "output_type": "stream",
     "text": [
      "\n",
      "      Epoch    GPU_mem   box_loss   cls_loss   dfl_loss  Instances       Size\n"
     ]
    },
    {
     "name": "stderr",
     "output_type": "stream",
     "text": [
      "     37/100      6.82G     0.8172     0.5015     0.9355          0        640: 100%|██████████| 46/46 [00:12<00:00,  3.73it/s]\n",
      "                 Class     Images  Instances      Box(P          R      mAP50  mAP50-95): 100%|██████████| 7/7 [00:00<00:00,  8.41it/s]"
     ]
    },
    {
     "name": "stdout",
     "output_type": "stream",
     "text": [
      "                   all        206        134       0.87      0.918      0.962      0.725\n"
     ]
    },
    {
     "name": "stderr",
     "output_type": "stream",
     "text": [
      "\n"
     ]
    },
    {
     "name": "stdout",
     "output_type": "stream",
     "text": [
      "\n",
      "      Epoch    GPU_mem   box_loss   cls_loss   dfl_loss  Instances       Size\n"
     ]
    },
    {
     "name": "stderr",
     "output_type": "stream",
     "text": [
      "     38/100       6.8G     0.8232     0.4966     0.9403          2        640: 100%|██████████| 46/46 [00:12<00:00,  3.73it/s]\n",
      "                 Class     Images  Instances      Box(P          R      mAP50  mAP50-95): 100%|██████████| 7/7 [00:00<00:00,  8.19it/s]"
     ]
    },
    {
     "name": "stdout",
     "output_type": "stream",
     "text": [
      "                   all        206        134      0.897      0.912      0.971      0.721\n"
     ]
    },
    {
     "name": "stderr",
     "output_type": "stream",
     "text": [
      "\n"
     ]
    },
    {
     "name": "stdout",
     "output_type": "stream",
     "text": [
      "\n",
      "      Epoch    GPU_mem   box_loss   cls_loss   dfl_loss  Instances       Size\n"
     ]
    },
    {
     "name": "stderr",
     "output_type": "stream",
     "text": [
      "     39/100      6.83G     0.7773     0.4757     0.8943          1        640: 100%|██████████| 46/46 [00:12<00:00,  3.73it/s]\n",
      "                 Class     Images  Instances      Box(P          R      mAP50  mAP50-95): 100%|██████████| 7/7 [00:00<00:00,  8.45it/s]"
     ]
    },
    {
     "name": "stdout",
     "output_type": "stream",
     "text": [
      "                   all        206        134      0.891      0.948      0.977      0.754\n"
     ]
    },
    {
     "name": "stderr",
     "output_type": "stream",
     "text": [
      "\n"
     ]
    },
    {
     "name": "stdout",
     "output_type": "stream",
     "text": [
      "\n",
      "      Epoch    GPU_mem   box_loss   cls_loss   dfl_loss  Instances       Size\n"
     ]
    },
    {
     "name": "stderr",
     "output_type": "stream",
     "text": [
      "     40/100      6.79G     0.8167     0.4881      0.898          0        640: 100%|██████████| 46/46 [00:12<00:00,  3.73it/s]\n",
      "                 Class     Images  Instances      Box(P          R      mAP50  mAP50-95): 100%|██████████| 7/7 [00:00<00:00,  8.46it/s]"
     ]
    },
    {
     "name": "stdout",
     "output_type": "stream",
     "text": [
      "                   all        206        134      0.921      0.874      0.968      0.735\n"
     ]
    },
    {
     "name": "stderr",
     "output_type": "stream",
     "text": [
      "\n"
     ]
    },
    {
     "name": "stdout",
     "output_type": "stream",
     "text": [
      "\n",
      "      Epoch    GPU_mem   box_loss   cls_loss   dfl_loss  Instances       Size\n"
     ]
    },
    {
     "name": "stderr",
     "output_type": "stream",
     "text": [
      "     41/100      6.84G     0.8079     0.4799     0.9192          2        640: 100%|██████████| 46/46 [00:12<00:00,  3.73it/s]\n",
      "                 Class     Images  Instances      Box(P          R      mAP50  mAP50-95): 100%|██████████| 7/7 [00:00<00:00,  8.41it/s]"
     ]
    },
    {
     "name": "stdout",
     "output_type": "stream",
     "text": [
      "                   all        206        134      0.861      0.925      0.962      0.723\n"
     ]
    },
    {
     "name": "stderr",
     "output_type": "stream",
     "text": [
      "\n"
     ]
    },
    {
     "name": "stdout",
     "output_type": "stream",
     "text": [
      "\n",
      "      Epoch    GPU_mem   box_loss   cls_loss   dfl_loss  Instances       Size\n"
     ]
    },
    {
     "name": "stderr",
     "output_type": "stream",
     "text": [
      "     42/100      6.79G     0.8526     0.5035      0.943          2        640: 100%|██████████| 46/46 [00:12<00:00,  3.74it/s]\n",
      "                 Class     Images  Instances      Box(P          R      mAP50  mAP50-95): 100%|██████████| 7/7 [00:00<00:00,  8.45it/s]"
     ]
    },
    {
     "name": "stdout",
     "output_type": "stream",
     "text": [
      "                   all        206        134      0.916      0.901      0.971      0.732\n"
     ]
    },
    {
     "name": "stderr",
     "output_type": "stream",
     "text": [
      "\n"
     ]
    },
    {
     "name": "stdout",
     "output_type": "stream",
     "text": [
      "\n",
      "      Epoch    GPU_mem   box_loss   cls_loss   dfl_loss  Instances       Size\n"
     ]
    },
    {
     "name": "stderr",
     "output_type": "stream",
     "text": [
      "     43/100      6.81G     0.7892     0.4991     0.8992          0        640: 100%|██████████| 46/46 [00:12<00:00,  3.74it/s]\n",
      "                 Class     Images  Instances      Box(P          R      mAP50  mAP50-95): 100%|██████████| 7/7 [00:00<00:00,  8.44it/s]"
     ]
    },
    {
     "name": "stdout",
     "output_type": "stream",
     "text": [
      "                   all        206        134      0.919      0.932      0.973      0.751\n"
     ]
    },
    {
     "name": "stderr",
     "output_type": "stream",
     "text": [
      "\n"
     ]
    },
    {
     "name": "stdout",
     "output_type": "stream",
     "text": [
      "\n",
      "      Epoch    GPU_mem   box_loss   cls_loss   dfl_loss  Instances       Size\n"
     ]
    },
    {
     "name": "stderr",
     "output_type": "stream",
     "text": [
      "     44/100       6.8G     0.8642     0.5462     0.9375          3        640: 100%|██████████| 46/46 [00:12<00:00,  3.73it/s]\n",
      "                 Class     Images  Instances      Box(P          R      mAP50  mAP50-95): 100%|██████████| 7/7 [00:00<00:00,  8.46it/s]"
     ]
    },
    {
     "name": "stdout",
     "output_type": "stream",
     "text": [
      "                   all        206        134      0.897      0.918      0.972       0.75\n"
     ]
    },
    {
     "name": "stderr",
     "output_type": "stream",
     "text": [
      "\n"
     ]
    },
    {
     "name": "stdout",
     "output_type": "stream",
     "text": [
      "\n",
      "      Epoch    GPU_mem   box_loss   cls_loss   dfl_loss  Instances       Size\n"
     ]
    },
    {
     "name": "stderr",
     "output_type": "stream",
     "text": [
      "     45/100      6.82G     0.8019      0.478     0.9025          0        640: 100%|██████████| 46/46 [00:12<00:00,  3.74it/s]\n",
      "                 Class     Images  Instances      Box(P          R      mAP50  mAP50-95): 100%|██████████| 7/7 [00:00<00:00,  8.16it/s]"
     ]
    },
    {
     "name": "stdout",
     "output_type": "stream",
     "text": [
      "                   all        206        134      0.904       0.94      0.977      0.741\n"
     ]
    },
    {
     "name": "stderr",
     "output_type": "stream",
     "text": [
      "\n"
     ]
    },
    {
     "name": "stdout",
     "output_type": "stream",
     "text": [
      "\n",
      "      Epoch    GPU_mem   box_loss   cls_loss   dfl_loss  Instances       Size\n"
     ]
    },
    {
     "name": "stderr",
     "output_type": "stream",
     "text": [
      "     46/100      6.79G     0.7989      0.475     0.9011          0        640: 100%|██████████| 46/46 [00:12<00:00,  3.74it/s]\n",
      "                 Class     Images  Instances      Box(P          R      mAP50  mAP50-95): 100%|██████████| 7/7 [00:00<00:00,  8.14it/s]"
     ]
    },
    {
     "name": "stdout",
     "output_type": "stream",
     "text": [
      "                   all        206        134      0.933      0.903      0.971      0.727\n"
     ]
    },
    {
     "name": "stderr",
     "output_type": "stream",
     "text": [
      "\n"
     ]
    },
    {
     "name": "stdout",
     "output_type": "stream",
     "text": [
      "\n",
      "      Epoch    GPU_mem   box_loss   cls_loss   dfl_loss  Instances       Size\n"
     ]
    },
    {
     "name": "stderr",
     "output_type": "stream",
     "text": [
      "     47/100      6.83G     0.8303     0.5019     0.9137          4        640: 100%|██████████| 46/46 [00:12<00:00,  3.73it/s]\n",
      "                 Class     Images  Instances      Box(P          R      mAP50  mAP50-95): 100%|██████████| 7/7 [00:00<00:00,  8.42it/s]"
     ]
    },
    {
     "name": "stdout",
     "output_type": "stream",
     "text": [
      "                   all        206        134      0.874      0.948      0.972      0.751\n"
     ]
    },
    {
     "name": "stderr",
     "output_type": "stream",
     "text": [
      "\n"
     ]
    },
    {
     "name": "stdout",
     "output_type": "stream",
     "text": [
      "\n",
      "      Epoch    GPU_mem   box_loss   cls_loss   dfl_loss  Instances       Size\n"
     ]
    },
    {
     "name": "stderr",
     "output_type": "stream",
     "text": [
      "     48/100      6.81G     0.8357     0.4868     0.9145          3        640: 100%|██████████| 46/46 [00:12<00:00,  3.74it/s]\n",
      "                 Class     Images  Instances      Box(P          R      mAP50  mAP50-95): 100%|██████████| 7/7 [00:00<00:00,  8.46it/s]"
     ]
    },
    {
     "name": "stdout",
     "output_type": "stream",
     "text": [
      "                   all        206        134      0.912      0.932      0.974      0.747\n"
     ]
    },
    {
     "name": "stderr",
     "output_type": "stream",
     "text": [
      "\n"
     ]
    },
    {
     "name": "stdout",
     "output_type": "stream",
     "text": [
      "\n",
      "      Epoch    GPU_mem   box_loss   cls_loss   dfl_loss  Instances       Size\n"
     ]
    },
    {
     "name": "stderr",
     "output_type": "stream",
     "text": [
      "     49/100      6.82G     0.8016     0.4753     0.9079          0        640: 100%|██████████| 46/46 [00:12<00:00,  3.73it/s]\n",
      "                 Class     Images  Instances      Box(P          R      mAP50  mAP50-95): 100%|██████████| 7/7 [00:00<00:00,  8.47it/s]"
     ]
    },
    {
     "name": "stdout",
     "output_type": "stream",
     "text": [
      "                   all        206        134      0.842      0.993      0.969      0.748\n"
     ]
    },
    {
     "name": "stderr",
     "output_type": "stream",
     "text": [
      "\n"
     ]
    },
    {
     "name": "stdout",
     "output_type": "stream",
     "text": [
      "\n",
      "      Epoch    GPU_mem   box_loss   cls_loss   dfl_loss  Instances       Size\n"
     ]
    },
    {
     "name": "stderr",
     "output_type": "stream",
     "text": [
      "     50/100      6.81G     0.8328     0.4828     0.9282          1        640: 100%|██████████| 46/46 [00:12<00:00,  3.74it/s]\n",
      "                 Class     Images  Instances      Box(P          R      mAP50  mAP50-95): 100%|██████████| 7/7 [00:00<00:00,  8.45it/s]"
     ]
    },
    {
     "name": "stdout",
     "output_type": "stream",
     "text": [
      "                   all        206        134      0.914      0.873      0.967      0.749\n"
     ]
    },
    {
     "name": "stderr",
     "output_type": "stream",
     "text": [
      "\n"
     ]
    },
    {
     "name": "stdout",
     "output_type": "stream",
     "text": [
      "\n",
      "      Epoch    GPU_mem   box_loss   cls_loss   dfl_loss  Instances       Size\n"
     ]
    },
    {
     "name": "stderr",
     "output_type": "stream",
     "text": [
      "     51/100      6.82G       0.78      0.468      0.886          0        640: 100%|██████████| 46/46 [00:12<00:00,  3.73it/s]\n",
      "                 Class     Images  Instances      Box(P          R      mAP50  mAP50-95): 100%|██████████| 7/7 [00:00<00:00,  8.17it/s]"
     ]
    },
    {
     "name": "stdout",
     "output_type": "stream",
     "text": [
      "                   all        206        134        0.9      0.918      0.972       0.73\n"
     ]
    },
    {
     "name": "stderr",
     "output_type": "stream",
     "text": [
      "\n"
     ]
    },
    {
     "name": "stdout",
     "output_type": "stream",
     "text": [
      "\n",
      "      Epoch    GPU_mem   box_loss   cls_loss   dfl_loss  Instances       Size\n"
     ]
    },
    {
     "name": "stderr",
     "output_type": "stream",
     "text": [
      "     52/100      6.79G     0.7665     0.4535     0.8829          0        640: 100%|██████████| 46/46 [00:12<00:00,  3.74it/s]\n",
      "                 Class     Images  Instances      Box(P          R      mAP50  mAP50-95): 100%|██████████| 7/7 [00:00<00:00,  8.40it/s]"
     ]
    },
    {
     "name": "stdout",
     "output_type": "stream",
     "text": [
      "                   all        206        134       0.86      0.959      0.973      0.768\n"
     ]
    },
    {
     "name": "stderr",
     "output_type": "stream",
     "text": [
      "\n"
     ]
    },
    {
     "name": "stdout",
     "output_type": "stream",
     "text": [
      "\n",
      "      Epoch    GPU_mem   box_loss   cls_loss   dfl_loss  Instances       Size\n"
     ]
    },
    {
     "name": "stderr",
     "output_type": "stream",
     "text": [
      "     53/100      6.82G     0.7791     0.4688     0.8983          0        640: 100%|██████████| 46/46 [00:12<00:00,  3.73it/s]\n",
      "                 Class     Images  Instances      Box(P          R      mAP50  mAP50-95): 100%|██████████| 7/7 [00:00<00:00,  8.47it/s]"
     ]
    },
    {
     "name": "stdout",
     "output_type": "stream",
     "text": [
      "                   all        206        134      0.935      0.896      0.974      0.737\n"
     ]
    },
    {
     "name": "stderr",
     "output_type": "stream",
     "text": [
      "\n"
     ]
    },
    {
     "name": "stdout",
     "output_type": "stream",
     "text": [
      "\n",
      "      Epoch    GPU_mem   box_loss   cls_loss   dfl_loss  Instances       Size\n"
     ]
    },
    {
     "name": "stderr",
     "output_type": "stream",
     "text": [
      "     54/100      6.79G      0.778     0.4558     0.8866          0        640: 100%|██████████| 46/46 [00:12<00:00,  3.74it/s]\n",
      "                 Class     Images  Instances      Box(P          R      mAP50  mAP50-95): 100%|██████████| 7/7 [00:00<00:00,  8.44it/s]"
     ]
    },
    {
     "name": "stdout",
     "output_type": "stream",
     "text": [
      "                   all        206        134      0.913      0.942      0.973      0.744\n"
     ]
    },
    {
     "name": "stderr",
     "output_type": "stream",
     "text": [
      "\n"
     ]
    },
    {
     "name": "stdout",
     "output_type": "stream",
     "text": [
      "\n",
      "      Epoch    GPU_mem   box_loss   cls_loss   dfl_loss  Instances       Size\n"
     ]
    },
    {
     "name": "stderr",
     "output_type": "stream",
     "text": [
      "     55/100      6.82G     0.7696     0.4645     0.8749          0        640: 100%|██████████| 46/46 [00:12<00:00,  3.73it/s]\n",
      "                 Class     Images  Instances      Box(P          R      mAP50  mAP50-95): 100%|██████████| 7/7 [00:00<00:00,  8.44it/s]"
     ]
    },
    {
     "name": "stdout",
     "output_type": "stream",
     "text": [
      "                   all        206        134      0.886      0.955      0.975      0.768\n"
     ]
    },
    {
     "name": "stderr",
     "output_type": "stream",
     "text": [
      "\n"
     ]
    },
    {
     "name": "stdout",
     "output_type": "stream",
     "text": [
      "\n",
      "      Epoch    GPU_mem   box_loss   cls_loss   dfl_loss  Instances       Size\n"
     ]
    },
    {
     "name": "stderr",
     "output_type": "stream",
     "text": [
      "     56/100       6.8G     0.7464      0.439     0.8959          0        640: 100%|██████████| 46/46 [00:12<00:00,  3.74it/s]\n",
      "                 Class     Images  Instances      Box(P          R      mAP50  mAP50-95): 100%|██████████| 7/7 [00:00<00:00,  8.46it/s]"
     ]
    },
    {
     "name": "stdout",
     "output_type": "stream",
     "text": [
      "                   all        206        134      0.861      0.968      0.971       0.76\n"
     ]
    },
    {
     "name": "stderr",
     "output_type": "stream",
     "text": [
      "\n"
     ]
    },
    {
     "name": "stdout",
     "output_type": "stream",
     "text": [
      "\n",
      "      Epoch    GPU_mem   box_loss   cls_loss   dfl_loss  Instances       Size\n"
     ]
    },
    {
     "name": "stderr",
     "output_type": "stream",
     "text": [
      "     57/100      6.83G     0.7655     0.4587     0.8996          0        640: 100%|██████████| 46/46 [00:12<00:00,  3.74it/s]\n",
      "                 Class     Images  Instances      Box(P          R      mAP50  mAP50-95): 100%|██████████| 7/7 [00:00<00:00,  8.41it/s]"
     ]
    },
    {
     "name": "stdout",
     "output_type": "stream",
     "text": [
      "                   all        206        134      0.865      0.955      0.961      0.746\n"
     ]
    },
    {
     "name": "stderr",
     "output_type": "stream",
     "text": [
      "\n"
     ]
    },
    {
     "name": "stdout",
     "output_type": "stream",
     "text": [
      "\n",
      "      Epoch    GPU_mem   box_loss   cls_loss   dfl_loss  Instances       Size\n"
     ]
    },
    {
     "name": "stderr",
     "output_type": "stream",
     "text": [
      "     58/100      6.79G     0.7863     0.4444     0.8867          0        640: 100%|██████████| 46/46 [00:12<00:00,  3.73it/s]\n",
      "                 Class     Images  Instances      Box(P          R      mAP50  mAP50-95): 100%|██████████| 7/7 [00:00<00:00,  8.46it/s]"
     ]
    },
    {
     "name": "stdout",
     "output_type": "stream",
     "text": [
      "                   all        206        134      0.886      0.933      0.965      0.743\n"
     ]
    },
    {
     "name": "stderr",
     "output_type": "stream",
     "text": [
      "\n"
     ]
    },
    {
     "name": "stdout",
     "output_type": "stream",
     "text": [
      "\n",
      "      Epoch    GPU_mem   box_loss   cls_loss   dfl_loss  Instances       Size\n"
     ]
    },
    {
     "name": "stderr",
     "output_type": "stream",
     "text": [
      "     59/100      6.82G     0.7461     0.4166     0.8695          0        640: 100%|██████████| 46/46 [00:12<00:00,  3.73it/s]\n",
      "                 Class     Images  Instances      Box(P          R      mAP50  mAP50-95): 100%|██████████| 7/7 [00:00<00:00,  8.47it/s]"
     ]
    },
    {
     "name": "stdout",
     "output_type": "stream",
     "text": [
      "                   all        206        134      0.934      0.943      0.976      0.745\n"
     ]
    },
    {
     "name": "stderr",
     "output_type": "stream",
     "text": [
      "\n"
     ]
    },
    {
     "name": "stdout",
     "output_type": "stream",
     "text": [
      "\n",
      "      Epoch    GPU_mem   box_loss   cls_loss   dfl_loss  Instances       Size\n"
     ]
    },
    {
     "name": "stderr",
     "output_type": "stream",
     "text": [
      "     60/100       6.8G     0.7339     0.4212     0.8758          0        640: 100%|██████████| 46/46 [00:12<00:00,  3.74it/s]\n",
      "                 Class     Images  Instances      Box(P          R      mAP50  mAP50-95): 100%|██████████| 7/7 [00:00<00:00,  8.46it/s]"
     ]
    },
    {
     "name": "stdout",
     "output_type": "stream",
     "text": [
      "                   all        206        134      0.888      0.948      0.975      0.757\n"
     ]
    },
    {
     "name": "stderr",
     "output_type": "stream",
     "text": [
      "\n"
     ]
    },
    {
     "name": "stdout",
     "output_type": "stream",
     "text": [
      "\n",
      "      Epoch    GPU_mem   box_loss   cls_loss   dfl_loss  Instances       Size\n"
     ]
    },
    {
     "name": "stderr",
     "output_type": "stream",
     "text": [
      "     61/100      6.82G     0.7418     0.4345     0.8905          6        640: 100%|██████████| 46/46 [00:12<00:00,  3.73it/s]\n",
      "                 Class     Images  Instances      Box(P          R      mAP50  mAP50-95): 100%|██████████| 7/7 [00:00<00:00,  8.45it/s]"
     ]
    },
    {
     "name": "stdout",
     "output_type": "stream",
     "text": [
      "                   all        206        134      0.921      0.956      0.979      0.758\n"
     ]
    },
    {
     "name": "stderr",
     "output_type": "stream",
     "text": [
      "\n"
     ]
    },
    {
     "name": "stdout",
     "output_type": "stream",
     "text": [
      "\n",
      "      Epoch    GPU_mem   box_loss   cls_loss   dfl_loss  Instances       Size\n"
     ]
    },
    {
     "name": "stderr",
     "output_type": "stream",
     "text": [
      "     62/100       6.8G     0.7691     0.4278     0.8751          1        640: 100%|██████████| 46/46 [00:12<00:00,  3.73it/s]\n",
      "                 Class     Images  Instances      Box(P          R      mAP50  mAP50-95): 100%|██████████| 7/7 [00:00<00:00,  8.47it/s]"
     ]
    },
    {
     "name": "stdout",
     "output_type": "stream",
     "text": [
      "                   all        206        134      0.931      0.933      0.975      0.763\n"
     ]
    },
    {
     "name": "stderr",
     "output_type": "stream",
     "text": [
      "\n"
     ]
    },
    {
     "name": "stdout",
     "output_type": "stream",
     "text": [
      "\n",
      "      Epoch    GPU_mem   box_loss   cls_loss   dfl_loss  Instances       Size\n"
     ]
    },
    {
     "name": "stderr",
     "output_type": "stream",
     "text": [
      "     63/100      6.83G     0.7303     0.5265     0.8748          0        640: 100%|██████████| 46/46 [00:12<00:00,  3.73it/s]\n",
      "                 Class     Images  Instances      Box(P          R      mAP50  mAP50-95): 100%|██████████| 7/7 [00:00<00:00,  8.42it/s]"
     ]
    },
    {
     "name": "stdout",
     "output_type": "stream",
     "text": [
      "                   all        206        134      0.912       0.94      0.973      0.746\n"
     ]
    },
    {
     "name": "stderr",
     "output_type": "stream",
     "text": [
      "\n"
     ]
    },
    {
     "name": "stdout",
     "output_type": "stream",
     "text": [
      "\n",
      "      Epoch    GPU_mem   box_loss   cls_loss   dfl_loss  Instances       Size\n"
     ]
    },
    {
     "name": "stderr",
     "output_type": "stream",
     "text": [
      "     64/100      6.79G     0.7253     0.4122     0.8448          0        640: 100%|██████████| 46/46 [00:12<00:00,  3.74it/s]\n",
      "                 Class     Images  Instances      Box(P          R      mAP50  mAP50-95): 100%|██████████| 7/7 [00:00<00:00,  8.45it/s]"
     ]
    },
    {
     "name": "stdout",
     "output_type": "stream",
     "text": [
      "                   all        206        134      0.894      0.963      0.973      0.745\n"
     ]
    },
    {
     "name": "stderr",
     "output_type": "stream",
     "text": [
      "\n"
     ]
    },
    {
     "name": "stdout",
     "output_type": "stream",
     "text": [
      "\n",
      "      Epoch    GPU_mem   box_loss   cls_loss   dfl_loss  Instances       Size\n"
     ]
    },
    {
     "name": "stderr",
     "output_type": "stream",
     "text": [
      "     65/100      6.83G      0.731     0.4483     0.8882          1        640: 100%|██████████| 46/46 [00:12<00:00,  3.73it/s]\n",
      "                 Class     Images  Instances      Box(P          R      mAP50  mAP50-95): 100%|██████████| 7/7 [00:00<00:00,  8.45it/s]"
     ]
    },
    {
     "name": "stdout",
     "output_type": "stream",
     "text": [
      "                   all        206        134      0.902      0.962      0.975      0.741\n"
     ]
    },
    {
     "name": "stderr",
     "output_type": "stream",
     "text": [
      "\n"
     ]
    },
    {
     "name": "stdout",
     "output_type": "stream",
     "text": [
      "\n",
      "      Epoch    GPU_mem   box_loss   cls_loss   dfl_loss  Instances       Size\n"
     ]
    },
    {
     "name": "stderr",
     "output_type": "stream",
     "text": [
      "     66/100       6.8G     0.7709     0.4738     0.8718          0        640: 100%|██████████| 46/46 [00:12<00:00,  3.74it/s]\n",
      "                 Class     Images  Instances      Box(P          R      mAP50  mAP50-95): 100%|██████████| 7/7 [00:00<00:00,  8.34it/s]"
     ]
    },
    {
     "name": "stdout",
     "output_type": "stream",
     "text": [
      "                   all        206        134      0.968      0.925      0.981      0.759\n"
     ]
    },
    {
     "name": "stderr",
     "output_type": "stream",
     "text": [
      "\n"
     ]
    },
    {
     "name": "stdout",
     "output_type": "stream",
     "text": [
      "\n",
      "      Epoch    GPU_mem   box_loss   cls_loss   dfl_loss  Instances       Size\n"
     ]
    },
    {
     "name": "stderr",
     "output_type": "stream",
     "text": [
      "     67/100      6.83G     0.7468     0.4305     0.8941          0        640: 100%|██████████| 46/46 [00:12<00:00,  3.73it/s]\n",
      "                 Class     Images  Instances      Box(P          R      mAP50  mAP50-95): 100%|██████████| 7/7 [00:00<00:00,  8.16it/s]"
     ]
    },
    {
     "name": "stdout",
     "output_type": "stream",
     "text": [
      "                   all        206        134       0.92      0.948      0.981      0.735\n"
     ]
    },
    {
     "name": "stderr",
     "output_type": "stream",
     "text": [
      "\n"
     ]
    },
    {
     "name": "stdout",
     "output_type": "stream",
     "text": [
      "\n",
      "      Epoch    GPU_mem   box_loss   cls_loss   dfl_loss  Instances       Size\n"
     ]
    },
    {
     "name": "stderr",
     "output_type": "stream",
     "text": [
      "     68/100       6.8G     0.7213     0.4166     0.8753          0        640: 100%|██████████| 46/46 [00:12<00:00,  3.74it/s]\n",
      "                 Class     Images  Instances      Box(P          R      mAP50  mAP50-95): 100%|██████████| 7/7 [00:00<00:00,  8.17it/s]"
     ]
    },
    {
     "name": "stdout",
     "output_type": "stream",
     "text": [
      "                   all        206        134       0.93      0.948       0.98      0.711\n"
     ]
    },
    {
     "name": "stderr",
     "output_type": "stream",
     "text": [
      "\n"
     ]
    },
    {
     "name": "stdout",
     "output_type": "stream",
     "text": [
      "\n",
      "      Epoch    GPU_mem   box_loss   cls_loss   dfl_loss  Instances       Size\n"
     ]
    },
    {
     "name": "stderr",
     "output_type": "stream",
     "text": [
      "     69/100      6.82G     0.7384     0.4242     0.8769          0        640: 100%|██████████| 46/46 [00:12<00:00,  3.74it/s]\n",
      "                 Class     Images  Instances      Box(P          R      mAP50  mAP50-95): 100%|██████████| 7/7 [00:00<00:00,  8.45it/s]"
     ]
    },
    {
     "name": "stdout",
     "output_type": "stream",
     "text": [
      "                   all        206        134      0.915      0.933      0.976      0.751\n"
     ]
    },
    {
     "name": "stderr",
     "output_type": "stream",
     "text": [
      "\n"
     ]
    },
    {
     "name": "stdout",
     "output_type": "stream",
     "text": [
      "\n",
      "      Epoch    GPU_mem   box_loss   cls_loss   dfl_loss  Instances       Size\n"
     ]
    },
    {
     "name": "stderr",
     "output_type": "stream",
     "text": [
      "     70/100      6.79G     0.6877     0.3945     0.8543          0        640: 100%|██████████| 46/46 [00:12<00:00,  3.74it/s]\n",
      "                 Class     Images  Instances      Box(P          R      mAP50  mAP50-95): 100%|██████████| 7/7 [00:00<00:00,  8.45it/s]"
     ]
    },
    {
     "name": "stdout",
     "output_type": "stream",
     "text": [
      "                   all        206        134      0.913       0.94      0.975      0.753\n"
     ]
    },
    {
     "name": "stderr",
     "output_type": "stream",
     "text": [
      "\n"
     ]
    },
    {
     "name": "stdout",
     "output_type": "stream",
     "text": [
      "\n",
      "      Epoch    GPU_mem   box_loss   cls_loss   dfl_loss  Instances       Size\n"
     ]
    },
    {
     "name": "stderr",
     "output_type": "stream",
     "text": [
      "     71/100      6.83G     0.7373     0.5892     0.8768          1        640: 100%|██████████| 46/46 [00:12<00:00,  3.69it/s]\n",
      "                 Class     Images  Instances      Box(P          R      mAP50  mAP50-95): 100%|██████████| 7/7 [00:00<00:00,  8.32it/s]"
     ]
    },
    {
     "name": "stdout",
     "output_type": "stream",
     "text": [
      "                   all        206        134      0.886      0.932      0.965       0.75\n"
     ]
    },
    {
     "name": "stderr",
     "output_type": "stream",
     "text": [
      "\n"
     ]
    },
    {
     "name": "stdout",
     "output_type": "stream",
     "text": [
      "\n",
      "      Epoch    GPU_mem   box_loss   cls_loss   dfl_loss  Instances       Size\n"
     ]
    },
    {
     "name": "stderr",
     "output_type": "stream",
     "text": [
      "     72/100      6.79G     0.7161     0.3904     0.8631          0        640: 100%|██████████| 46/46 [00:12<00:00,  3.67it/s]\n",
      "                 Class     Images  Instances      Box(P          R      mAP50  mAP50-95): 100%|██████████| 7/7 [00:00<00:00,  8.32it/s]"
     ]
    },
    {
     "name": "stdout",
     "output_type": "stream",
     "text": [
      "                   all        206        134      0.912      0.926      0.979      0.771\n"
     ]
    },
    {
     "name": "stderr",
     "output_type": "stream",
     "text": [
      "\n"
     ]
    },
    {
     "name": "stdout",
     "output_type": "stream",
     "text": [
      "\n",
      "      Epoch    GPU_mem   box_loss   cls_loss   dfl_loss  Instances       Size\n"
     ]
    },
    {
     "name": "stderr",
     "output_type": "stream",
     "text": [
      "     73/100      6.81G     0.7144      0.399     0.8765          0        640: 100%|██████████| 46/46 [00:12<00:00,  3.66it/s]\n",
      "                 Class     Images  Instances      Box(P          R      mAP50  mAP50-95): 100%|██████████| 7/7 [00:00<00:00,  8.26it/s]"
     ]
    },
    {
     "name": "stdout",
     "output_type": "stream",
     "text": [
      "                   all        206        134      0.908       0.94      0.975      0.754\n"
     ]
    },
    {
     "name": "stderr",
     "output_type": "stream",
     "text": [
      "\n"
     ]
    },
    {
     "name": "stdout",
     "output_type": "stream",
     "text": [
      "\n",
      "      Epoch    GPU_mem   box_loss   cls_loss   dfl_loss  Instances       Size\n"
     ]
    },
    {
     "name": "stderr",
     "output_type": "stream",
     "text": [
      "     74/100       6.8G     0.7105     0.4155     0.8676          0        640: 100%|██████████| 46/46 [00:12<00:00,  3.61it/s]\n",
      "                 Class     Images  Instances      Box(P          R      mAP50  mAP50-95): 100%|██████████| 7/7 [00:00<00:00,  8.02it/s]"
     ]
    },
    {
     "name": "stdout",
     "output_type": "stream",
     "text": [
      "                   all        206        134      0.937       0.91      0.975      0.737\n"
     ]
    },
    {
     "name": "stderr",
     "output_type": "stream",
     "text": [
      "\n"
     ]
    },
    {
     "name": "stdout",
     "output_type": "stream",
     "text": [
      "\n",
      "      Epoch    GPU_mem   box_loss   cls_loss   dfl_loss  Instances       Size\n"
     ]
    },
    {
     "name": "stderr",
     "output_type": "stream",
     "text": [
      "     75/100      6.83G     0.7423     0.4314     0.8813          0        640: 100%|██████████| 46/46 [00:12<00:00,  3.66it/s]\n",
      "                 Class     Images  Instances      Box(P          R      mAP50  mAP50-95): 100%|██████████| 7/7 [00:00<00:00,  7.60it/s]"
     ]
    },
    {
     "name": "stdout",
     "output_type": "stream",
     "text": [
      "                   all        206        134      0.935      0.933      0.978      0.747\n"
     ]
    },
    {
     "name": "stderr",
     "output_type": "stream",
     "text": [
      "\n"
     ]
    },
    {
     "name": "stdout",
     "output_type": "stream",
     "text": [
      "\n",
      "      Epoch    GPU_mem   box_loss   cls_loss   dfl_loss  Instances       Size\n"
     ]
    },
    {
     "name": "stderr",
     "output_type": "stream",
     "text": [
      "     76/100      6.79G     0.7626       0.42     0.9578          1        640: 100%|██████████| 46/46 [00:12<00:00,  3.60it/s]\n",
      "                 Class     Images  Instances      Box(P          R      mAP50  mAP50-95): 100%|██████████| 7/7 [00:00<00:00,  8.11it/s]"
     ]
    },
    {
     "name": "stdout",
     "output_type": "stream",
     "text": [
      "                   all        206        134      0.906      0.931       0.97       0.74\n"
     ]
    },
    {
     "name": "stderr",
     "output_type": "stream",
     "text": [
      "\n"
     ]
    },
    {
     "name": "stdout",
     "output_type": "stream",
     "text": [
      "\n",
      "      Epoch    GPU_mem   box_loss   cls_loss   dfl_loss  Instances       Size\n"
     ]
    },
    {
     "name": "stderr",
     "output_type": "stream",
     "text": [
      "     77/100      6.82G     0.7154     0.4031     0.8772          2        640: 100%|██████████| 46/46 [00:12<00:00,  3.58it/s]\n",
      "                 Class     Images  Instances      Box(P          R      mAP50  mAP50-95): 100%|██████████| 7/7 [00:00<00:00,  8.07it/s]"
     ]
    },
    {
     "name": "stdout",
     "output_type": "stream",
     "text": [
      "                   all        206        134      0.934       0.94      0.977      0.763\n"
     ]
    },
    {
     "name": "stderr",
     "output_type": "stream",
     "text": [
      "\n"
     ]
    },
    {
     "name": "stdout",
     "output_type": "stream",
     "text": [
      "\n",
      "      Epoch    GPU_mem   box_loss   cls_loss   dfl_loss  Instances       Size\n"
     ]
    },
    {
     "name": "stderr",
     "output_type": "stream",
     "text": [
      "     78/100      6.78G     0.6846     0.3982     0.8846          0        640: 100%|██████████| 46/46 [00:12<00:00,  3.63it/s]\n",
      "                 Class     Images  Instances      Box(P          R      mAP50  mAP50-95): 100%|██████████| 7/7 [00:00<00:00,  8.43it/s]"
     ]
    },
    {
     "name": "stdout",
     "output_type": "stream",
     "text": [
      "                   all        206        134      0.905      0.948      0.977      0.763\n"
     ]
    },
    {
     "name": "stderr",
     "output_type": "stream",
     "text": [
      "\n"
     ]
    },
    {
     "name": "stdout",
     "output_type": "stream",
     "text": [
      "\n",
      "      Epoch    GPU_mem   box_loss   cls_loss   dfl_loss  Instances       Size\n"
     ]
    },
    {
     "name": "stderr",
     "output_type": "stream",
     "text": [
      "     79/100      6.82G     0.6825     0.4192     0.8605          0        640: 100%|██████████| 46/46 [00:12<00:00,  3.62it/s]\n",
      "                 Class     Images  Instances      Box(P          R      mAP50  mAP50-95): 100%|██████████| 7/7 [00:00<00:00,  8.27it/s]"
     ]
    },
    {
     "name": "stdout",
     "output_type": "stream",
     "text": [
      "                   all        206        134      0.946      0.916      0.975      0.745\n"
     ]
    },
    {
     "name": "stderr",
     "output_type": "stream",
     "text": [
      "\n"
     ]
    },
    {
     "name": "stdout",
     "output_type": "stream",
     "text": [
      "\n",
      "      Epoch    GPU_mem   box_loss   cls_loss   dfl_loss  Instances       Size\n"
     ]
    },
    {
     "name": "stderr",
     "output_type": "stream",
     "text": [
      "     80/100       6.8G      0.711     0.4033     0.8905          1        640: 100%|██████████| 46/46 [00:12<00:00,  3.65it/s]\n",
      "                 Class     Images  Instances      Box(P          R      mAP50  mAP50-95): 100%|██████████| 7/7 [00:00<00:00,  8.27it/s]"
     ]
    },
    {
     "name": "stdout",
     "output_type": "stream",
     "text": [
      "                   all        206        134      0.946      0.918      0.979      0.758\n"
     ]
    },
    {
     "name": "stderr",
     "output_type": "stream",
     "text": [
      "\n"
     ]
    },
    {
     "name": "stdout",
     "output_type": "stream",
     "text": [
      "\n",
      "      Epoch    GPU_mem   box_loss   cls_loss   dfl_loss  Instances       Size\n"
     ]
    },
    {
     "name": "stderr",
     "output_type": "stream",
     "text": [
      "     81/100      6.82G     0.6672     0.3922     0.8513          0        640: 100%|██████████| 46/46 [00:12<00:00,  3.73it/s]\n",
      "                 Class     Images  Instances      Box(P          R      mAP50  mAP50-95): 100%|██████████| 7/7 [00:00<00:00,  8.41it/s]"
     ]
    },
    {
     "name": "stdout",
     "output_type": "stream",
     "text": [
      "                   all        206        134      0.947      0.926      0.982      0.771\n"
     ]
    },
    {
     "name": "stderr",
     "output_type": "stream",
     "text": [
      "\n"
     ]
    },
    {
     "name": "stdout",
     "output_type": "stream",
     "text": [
      "\n",
      "      Epoch    GPU_mem   box_loss   cls_loss   dfl_loss  Instances       Size\n"
     ]
    },
    {
     "name": "stderr",
     "output_type": "stream",
     "text": [
      "     82/100       6.8G     0.7047     0.4018     0.9051          3        640: 100%|██████████| 46/46 [00:12<00:00,  3.73it/s]\n",
      "                 Class     Images  Instances      Box(P          R      mAP50  mAP50-95): 100%|██████████| 7/7 [00:00<00:00,  8.42it/s]"
     ]
    },
    {
     "name": "stdout",
     "output_type": "stream",
     "text": [
      "                   all        206        134      0.918      0.955      0.978       0.76\n"
     ]
    },
    {
     "name": "stderr",
     "output_type": "stream",
     "text": [
      "\n"
     ]
    },
    {
     "name": "stdout",
     "output_type": "stream",
     "text": [
      "\n",
      "      Epoch    GPU_mem   box_loss   cls_loss   dfl_loss  Instances       Size\n"
     ]
    },
    {
     "name": "stderr",
     "output_type": "stream",
     "text": [
      "     83/100      6.82G     0.7123     0.3927     0.8725          5        640: 100%|██████████| 46/46 [00:12<00:00,  3.73it/s]\n",
      "                 Class     Images  Instances      Box(P          R      mAP50  mAP50-95): 100%|██████████| 7/7 [00:00<00:00,  8.39it/s]"
     ]
    },
    {
     "name": "stdout",
     "output_type": "stream",
     "text": [
      "                   all        206        134      0.917       0.97      0.979      0.762\n"
     ]
    },
    {
     "name": "stderr",
     "output_type": "stream",
     "text": [
      "\n"
     ]
    },
    {
     "name": "stdout",
     "output_type": "stream",
     "text": [
      "\n",
      "      Epoch    GPU_mem   box_loss   cls_loss   dfl_loss  Instances       Size\n"
     ]
    },
    {
     "name": "stderr",
     "output_type": "stream",
     "text": [
      "     84/100      6.79G     0.6533     0.3752     0.8434          0        640: 100%|██████████| 46/46 [00:12<00:00,  3.73it/s]\n",
      "                 Class     Images  Instances      Box(P          R      mAP50  mAP50-95): 100%|██████████| 7/7 [00:00<00:00,  8.22it/s]"
     ]
    },
    {
     "name": "stdout",
     "output_type": "stream",
     "text": [
      "                   all        206        134      0.903       0.97       0.98      0.765\n"
     ]
    },
    {
     "name": "stderr",
     "output_type": "stream",
     "text": [
      "\n"
     ]
    },
    {
     "name": "stdout",
     "output_type": "stream",
     "text": [
      "\n",
      "      Epoch    GPU_mem   box_loss   cls_loss   dfl_loss  Instances       Size\n"
     ]
    },
    {
     "name": "stderr",
     "output_type": "stream",
     "text": [
      "     85/100      6.81G     0.6885     0.3608     0.8652          0        640: 100%|██████████| 46/46 [00:12<00:00,  3.73it/s]\n",
      "                 Class     Images  Instances      Box(P          R      mAP50  mAP50-95): 100%|██████████| 7/7 [00:00<00:00,  8.12it/s]"
     ]
    },
    {
     "name": "stdout",
     "output_type": "stream",
     "text": [
      "                   all        206        134       0.92      0.949      0.981      0.751\n"
     ]
    },
    {
     "name": "stderr",
     "output_type": "stream",
     "text": [
      "\n"
     ]
    },
    {
     "name": "stdout",
     "output_type": "stream",
     "text": [
      "\n",
      "      Epoch    GPU_mem   box_loss   cls_loss   dfl_loss  Instances       Size\n"
     ]
    },
    {
     "name": "stderr",
     "output_type": "stream",
     "text": [
      "     86/100       6.8G     0.6939     0.3695     0.8861          4        640: 100%|██████████| 46/46 [00:12<00:00,  3.74it/s]\n",
      "                 Class     Images  Instances      Box(P          R      mAP50  mAP50-95): 100%|██████████| 7/7 [00:00<00:00,  8.30it/s]"
     ]
    },
    {
     "name": "stdout",
     "output_type": "stream",
     "text": [
      "                   all        206        134      0.942       0.94      0.983      0.764\n"
     ]
    },
    {
     "name": "stderr",
     "output_type": "stream",
     "text": [
      "\n"
     ]
    },
    {
     "name": "stdout",
     "output_type": "stream",
     "text": [
      "\n",
      "      Epoch    GPU_mem   box_loss   cls_loss   dfl_loss  Instances       Size\n"
     ]
    },
    {
     "name": "stderr",
     "output_type": "stream",
     "text": [
      "     87/100      6.83G     0.6701     0.3531     0.8803          1        640: 100%|██████████| 46/46 [00:12<00:00,  3.73it/s]\n",
      "                 Class     Images  Instances      Box(P          R      mAP50  mAP50-95): 100%|██████████| 7/7 [00:00<00:00,  8.40it/s]"
     ]
    },
    {
     "name": "stdout",
     "output_type": "stream",
     "text": [
      "                   all        206        134      0.913       0.94      0.977      0.771\n"
     ]
    },
    {
     "name": "stderr",
     "output_type": "stream",
     "text": [
      "\n"
     ]
    },
    {
     "name": "stdout",
     "output_type": "stream",
     "text": [
      "\n",
      "      Epoch    GPU_mem   box_loss   cls_loss   dfl_loss  Instances       Size\n"
     ]
    },
    {
     "name": "stderr",
     "output_type": "stream",
     "text": [
      "     88/100      6.79G     0.6678     0.3576     0.8681          1        640: 100%|██████████| 46/46 [00:12<00:00,  3.73it/s]\n",
      "                 Class     Images  Instances      Box(P          R      mAP50  mAP50-95): 100%|██████████| 7/7 [00:00<00:00,  8.41it/s]"
     ]
    },
    {
     "name": "stdout",
     "output_type": "stream",
     "text": [
      "                   all        206        134      0.932      0.921      0.978       0.77\n"
     ]
    },
    {
     "name": "stderr",
     "output_type": "stream",
     "text": [
      "\n"
     ]
    },
    {
     "name": "stdout",
     "output_type": "stream",
     "text": [
      "\n",
      "      Epoch    GPU_mem   box_loss   cls_loss   dfl_loss  Instances       Size\n"
     ]
    },
    {
     "name": "stderr",
     "output_type": "stream",
     "text": [
      "     89/100      6.82G     0.6901     0.3655     0.8696          0        640: 100%|██████████| 46/46 [00:12<00:00,  3.73it/s]\n",
      "                 Class     Images  Instances      Box(P          R      mAP50  mAP50-95): 100%|██████████| 7/7 [00:00<00:00,  8.43it/s]"
     ]
    },
    {
     "name": "stdout",
     "output_type": "stream",
     "text": [
      "                   all        206        134      0.913      0.944      0.977      0.772\n"
     ]
    },
    {
     "name": "stderr",
     "output_type": "stream",
     "text": [
      "\n"
     ]
    },
    {
     "name": "stdout",
     "output_type": "stream",
     "text": [
      "\n",
      "      Epoch    GPU_mem   box_loss   cls_loss   dfl_loss  Instances       Size\n"
     ]
    },
    {
     "name": "stderr",
     "output_type": "stream",
     "text": [
      "     90/100       6.8G     0.6765     0.3546     0.8592          0        640: 100%|██████████| 46/46 [00:12<00:00,  3.73it/s]\n",
      "                 Class     Images  Instances      Box(P          R      mAP50  mAP50-95): 100%|██████████| 7/7 [00:00<00:00,  8.41it/s]"
     ]
    },
    {
     "name": "stdout",
     "output_type": "stream",
     "text": [
      "                   all        206        134      0.927      0.963      0.982      0.777\n"
     ]
    },
    {
     "name": "stderr",
     "output_type": "stream",
     "text": [
      "\n"
     ]
    },
    {
     "name": "stdout",
     "output_type": "stream",
     "text": [
      "Closing dataloader mosaic\n",
      "\n",
      "      Epoch    GPU_mem   box_loss   cls_loss   dfl_loss  Instances       Size\n"
     ]
    },
    {
     "name": "stderr",
     "output_type": "stream",
     "text": [
      "     91/100      6.83G     0.6992     0.3791     0.8825          2        640: 100%|██████████| 46/46 [00:12<00:00,  3.59it/s]\n",
      "                 Class     Images  Instances      Box(P          R      mAP50  mAP50-95): 100%|██████████| 7/7 [00:00<00:00,  8.41it/s]"
     ]
    },
    {
     "name": "stdout",
     "output_type": "stream",
     "text": [
      "                   all        206        134      0.944       0.94      0.982      0.765\n"
     ]
    },
    {
     "name": "stderr",
     "output_type": "stream",
     "text": [
      "\n"
     ]
    },
    {
     "name": "stdout",
     "output_type": "stream",
     "text": [
      "\n",
      "      Epoch    GPU_mem   box_loss   cls_loss   dfl_loss  Instances       Size\n"
     ]
    },
    {
     "name": "stderr",
     "output_type": "stream",
     "text": [
      "     92/100      6.81G     0.6742     0.3571      0.871          0        640: 100%|██████████| 46/46 [00:12<00:00,  3.74it/s]\n",
      "                 Class     Images  Instances      Box(P          R      mAP50  mAP50-95): 100%|██████████| 7/7 [00:00<00:00,  8.42it/s]"
     ]
    },
    {
     "name": "stdout",
     "output_type": "stream",
     "text": [
      "                   all        206        134      0.925      0.963      0.983      0.781\n"
     ]
    },
    {
     "name": "stderr",
     "output_type": "stream",
     "text": [
      "\n"
     ]
    },
    {
     "name": "stdout",
     "output_type": "stream",
     "text": [
      "\n",
      "      Epoch    GPU_mem   box_loss   cls_loss   dfl_loss  Instances       Size\n"
     ]
    },
    {
     "name": "stderr",
     "output_type": "stream",
     "text": [
      "     93/100      6.81G     0.7136     0.4053     0.8988          1        640: 100%|██████████| 46/46 [00:12<00:00,  3.73it/s]\n",
      "                 Class     Images  Instances      Box(P          R      mAP50  mAP50-95): 100%|██████████| 7/7 [00:00<00:00,  8.41it/s]"
     ]
    },
    {
     "name": "stdout",
     "output_type": "stream",
     "text": [
      "                   all        206        134      0.917      0.978      0.981      0.772\n"
     ]
    },
    {
     "name": "stderr",
     "output_type": "stream",
     "text": [
      "\n"
     ]
    },
    {
     "name": "stdout",
     "output_type": "stream",
     "text": [
      "\n",
      "      Epoch    GPU_mem   box_loss   cls_loss   dfl_loss  Instances       Size\n"
     ]
    },
    {
     "name": "stderr",
     "output_type": "stream",
     "text": [
      "     94/100       6.8G     0.6794     0.3576     0.8812          0        640: 100%|██████████| 46/46 [00:12<00:00,  3.74it/s]\n",
      "                 Class     Images  Instances      Box(P          R      mAP50  mAP50-95): 100%|██████████| 7/7 [00:00<00:00,  8.41it/s]"
     ]
    },
    {
     "name": "stdout",
     "output_type": "stream",
     "text": [
      "                   all        206        134      0.937      0.955      0.981      0.782\n"
     ]
    },
    {
     "name": "stderr",
     "output_type": "stream",
     "text": [
      "\n"
     ]
    },
    {
     "name": "stdout",
     "output_type": "stream",
     "text": [
      "\n",
      "      Epoch    GPU_mem   box_loss   cls_loss   dfl_loss  Instances       Size\n"
     ]
    },
    {
     "name": "stderr",
     "output_type": "stream",
     "text": [
      "     95/100      6.83G     0.6886     0.3452     0.8664          0        640: 100%|██████████| 46/46 [00:12<00:00,  3.74it/s]\n",
      "                 Class     Images  Instances      Box(P          R      mAP50  mAP50-95): 100%|██████████| 7/7 [00:00<00:00,  8.40it/s]"
     ]
    },
    {
     "name": "stdout",
     "output_type": "stream",
     "text": [
      "                   all        206        134      0.914      0.949       0.98      0.771\n"
     ]
    },
    {
     "name": "stderr",
     "output_type": "stream",
     "text": [
      "\n"
     ]
    },
    {
     "name": "stdout",
     "output_type": "stream",
     "text": [
      "\n",
      "      Epoch    GPU_mem   box_loss   cls_loss   dfl_loss  Instances       Size\n"
     ]
    },
    {
     "name": "stderr",
     "output_type": "stream",
     "text": [
      "     96/100       6.8G     0.6725     0.3364     0.8773          0        640: 100%|██████████| 46/46 [00:12<00:00,  3.74it/s]\n",
      "                 Class     Images  Instances      Box(P          R      mAP50  mAP50-95): 100%|██████████| 7/7 [00:00<00:00,  8.42it/s]"
     ]
    },
    {
     "name": "stdout",
     "output_type": "stream",
     "text": [
      "                   all        206        134      0.948       0.94      0.981      0.783\n"
     ]
    },
    {
     "name": "stderr",
     "output_type": "stream",
     "text": [
      "\n"
     ]
    },
    {
     "name": "stdout",
     "output_type": "stream",
     "text": [
      "\n",
      "      Epoch    GPU_mem   box_loss   cls_loss   dfl_loss  Instances       Size\n"
     ]
    },
    {
     "name": "stderr",
     "output_type": "stream",
     "text": [
      "     97/100      6.82G     0.6282     0.3489     0.8473          0        640: 100%|██████████| 46/46 [00:12<00:00,  3.73it/s]\n",
      "                 Class     Images  Instances      Box(P          R      mAP50  mAP50-95): 100%|██████████| 7/7 [00:00<00:00,  8.41it/s]"
     ]
    },
    {
     "name": "stdout",
     "output_type": "stream",
     "text": [
      "                   all        206        134      0.939       0.94      0.977      0.777\n"
     ]
    },
    {
     "name": "stderr",
     "output_type": "stream",
     "text": [
      "\n"
     ]
    },
    {
     "name": "stdout",
     "output_type": "stream",
     "text": [
      "\n",
      "      Epoch    GPU_mem   box_loss   cls_loss   dfl_loss  Instances       Size\n"
     ]
    },
    {
     "name": "stderr",
     "output_type": "stream",
     "text": [
      "     98/100      6.81G      0.648     0.3273     0.8572          4        640: 100%|██████████| 46/46 [00:12<00:00,  3.73it/s]\n",
      "                 Class     Images  Instances      Box(P          R      mAP50  mAP50-95): 100%|██████████| 7/7 [00:00<00:00,  8.42it/s]"
     ]
    },
    {
     "name": "stdout",
     "output_type": "stream",
     "text": [
      "                   all        206        134      0.943       0.94      0.976      0.773\n"
     ]
    },
    {
     "name": "stderr",
     "output_type": "stream",
     "text": [
      "\n"
     ]
    },
    {
     "name": "stdout",
     "output_type": "stream",
     "text": [
      "\n",
      "      Epoch    GPU_mem   box_loss   cls_loss   dfl_loss  Instances       Size\n"
     ]
    },
    {
     "name": "stderr",
     "output_type": "stream",
     "text": [
      "     99/100      6.83G     0.6088     0.3103      0.809          0        640: 100%|██████████| 46/46 [00:12<00:00,  3.74it/s]\n",
      "                 Class     Images  Instances      Box(P          R      mAP50  mAP50-95): 100%|██████████| 7/7 [00:00<00:00,  8.41it/s]"
     ]
    },
    {
     "name": "stdout",
     "output_type": "stream",
     "text": [
      "                   all        206        134      0.938      0.933      0.973      0.773\n"
     ]
    },
    {
     "name": "stderr",
     "output_type": "stream",
     "text": [
      "\n"
     ]
    },
    {
     "name": "stdout",
     "output_type": "stream",
     "text": [
      "\n",
      "      Epoch    GPU_mem   box_loss   cls_loss   dfl_loss  Instances       Size\n"
     ]
    },
    {
     "name": "stderr",
     "output_type": "stream",
     "text": [
      "    100/100      6.78G     0.6539     0.3303     0.8418          0        640: 100%|██████████| 46/46 [00:12<00:00,  3.74it/s]\n",
      "                 Class     Images  Instances      Box(P          R      mAP50  mAP50-95): 100%|██████████| 7/7 [00:00<00:00,  8.41it/s]"
     ]
    },
    {
     "name": "stdout",
     "output_type": "stream",
     "text": [
      "                   all        206        134      0.914      0.955      0.976      0.778\n"
     ]
    },
    {
     "name": "stderr",
     "output_type": "stream",
     "text": [
      "\n"
     ]
    },
    {
     "name": "stdout",
     "output_type": "stream",
     "text": [
      "\n",
      "100 epochs completed in 0.382 hours.\n",
      "Optimizer stripped from runs/detect/train7/weights/last.pt, 52.0MB\n",
      "Optimizer stripped from runs/detect/train7/weights/best.pt, 52.0MB\n",
      "\n",
      "Validating runs/detect/train7/weights/best.pt...\n",
      "Ultralytics YOLOv8.2.2 🚀 Python-3.11.7 torch-2.2.2+cu121 CUDA:0 (NVIDIA GeForce RTX 3070, 7971MiB)\n",
      "Model summary (fused): 218 layers, 25840339 parameters, 0 gradients, 78.7 GFLOPs\n"
     ]
    },
    {
     "name": "stderr",
     "output_type": "stream",
     "text": [
      "                 Class     Images  Instances      Box(P          R      mAP50  mAP50-95): 100%|██████████| 7/7 [00:00<00:00,  8.63it/s]\n"
     ]
    },
    {
     "name": "stdout",
     "output_type": "stream",
     "text": [
      "                   all        206        134      0.948       0.94      0.981      0.783\n",
      "Speed: 0.1ms preprocess, 3.4ms inference, 0.0ms loss, 0.2ms postprocess per image\n",
      "Results saved to \u001b[1mruns/detect/train7\u001b[0m\n"
     ]
    }
   ],
   "source": [
    "# Train the model\n",
    "results = model.train(data='training_data/YOLO/PacMan.yaml')"
   ]
  },
  {
   "cell_type": "code",
   "execution_count": null,
   "metadata": {},
   "outputs": [],
   "source": [
    "# Uncomment it if you want to train it again. \n",
    "#model.save('models/YOLO.pt')"
   ]
  },
  {
   "cell_type": "markdown",
   "metadata": {
    "jp-MarkdownHeadingCollapsed": true
   },
   "source": [
    "### Evaluate the Model"
   ]
  },
  {
   "cell_type": "code",
   "execution_count": 16,
   "metadata": {},
   "outputs": [],
   "source": [
    "def evaluate_model(model, test_loader, criterion):\n",
    "    model.eval()  # set model to evaluation mode\n",
    "    test_loss = 0.0\n",
    "    test_corrects = 0\n",
    "    \n",
    "    y_true_test = []\n",
    "    y_pred_test = []\n",
    "    \n",
    "    with torch.no_grad():\n",
    "        # Iterate over batches of data in the test loader\n",
    "        for inputs, labels in test_loader:\n",
    "            inputs = inputs.to(device)\n",
    "            labels = labels.to(device)\n",
    "            \n",
    "            outputs = model(inputs)\n",
    "            preds = torch.round(outputs)\n",
    "            loss = criterion(outputs, labels.unsqueeze(1).float())\n",
    "            \n",
    "            test_loss += loss.item() * inputs.size(0)\n",
    "            test_corrects += torch.sum(preds == labels.unsqueeze(1).data)\n",
    "            \n",
    "            y_true_test.extend(labels.tolist())\n",
    "            y_pred_test.extend(preds.flatten().tolist())\n",
    "\n",
    "        # calculation of various indicators\n",
    "        test_loss = test_loss / len(test_loader.dataset)\n",
    "        test_acc = test_corrects.double() / len(test_loader.dataset)\n",
    "        \n",
    "        test_precision = precision_score(y_true_test, y_pred_test)\n",
    "        test_recall = recall_score(y_true_test, y_pred_test)\n",
    "        test_f1_score = f1_score(y_true_test, y_pred_test)\n",
    "        \n",
    "        print('Test Results:')\n",
    "        print('-' * 10)\n",
    "        print(f'Test Loss: {test_loss:.4f} Acc: {test_acc:.4f}')\n",
    "        print(f'Precision: {test_precision:.4f}, Recall: {test_recall:.4f}, F1-score: {test_f1_score:.4f}')"
   ]
  },
  {
   "cell_type": "code",
   "execution_count": 17,
   "metadata": {},
   "outputs": [
    {
     "name": "stdout",
     "output_type": "stream",
     "text": [
      "Test Results:\n",
      "----------\n",
      "Test Loss: 0.0173 Acc: 0.9931\n",
      "Precision: 1.0000, Recall: 0.9348, F1-score: 0.9663\n"
     ]
    }
   ],
   "source": [
    "# criterion for evaluation /\n",
    "criterion_eval = nn.BCELoss()\n",
    "\n",
    "# evaluate the model on test set\n",
    "start_time = time.time()\n",
    "evaluate_model(model, test_loader, criterion_eval)\n",
    "elapsed_time = time.time() - start_time\n",
    "print(f'Elapsed Time: {elapsed_time:.4f} seconds') "
   ]
  },
  {
   "cell_type": "code",
   "execution_count": null,
   "metadata": {
    "scrolled": true
   },
   "outputs": [
    {
     "name": "stdout",
     "output_type": "stream",
     "text": [
      "\n",
      "image 1/1 /home/adrian/anaconda3/lib/python3.11/site-packages/ultralytics/assets/bus.jpg: 640x480 (no detections), 54.7ms\n",
      "Speed: 0.9ms preprocess, 54.7ms inference, 6.7ms postprocess per image at shape (1, 3, 640, 480)\n"
     ]
    },
    {
     "name": "stderr",
     "output_type": "stream",
     "text": [
      "\u001b[34m\u001b[1mval: \u001b[0mScanning /home/adrian/OneDrive/Documents/Master of Computer Science/Deep Learning for CV and Robotics/Summative/dl-cv-robotics/training_data/YOLO/val.cache... 206 images, 150 backgrounds, 0 corrupt: 100%|██████████| 206/206 [00:00<?, ?it/s]\u001b[0m\n",
      "                 Class     Images  Instances      Box(P          R      mAP50  mAP50-95): 100%|██████████| 206/206 [00:02<00:00, 89.99it/s] "
     ]
    },
    {
     "name": "stdout",
     "output_type": "stream",
     "text": [
      "                   all        206        134      0.948       0.94      0.981      0.785\n",
      "Speed: 0.1ms preprocess, 7.8ms inference, 0.0ms loss, 0.9ms postprocess per image\n",
      "\n",
      "\u001b[34m\u001b[1mPyTorch:\u001b[0m starting from 'models/YOLO.pt' with input shape (1, 3, 640, 640) BCHW and output shape(s) (1, 5, 8400) (49.6 MB)\n",
      "\n",
      "\u001b[34m\u001b[1mTorchScript:\u001b[0m starting export with torch 2.2.2+cu121...\n"
     ]
    },
    {
     "name": "stderr",
     "output_type": "stream",
     "text": [
      "\n"
     ]
    },
    {
     "name": "stdout",
     "output_type": "stream",
     "text": [
      "\u001b[34m\u001b[1mTorchScript:\u001b[0m export success ✅ 0.7s, saved as 'models/YOLO.torchscript' (99.1 MB)\n",
      "\n",
      "Export complete (0.7s)\n",
      "Results saved to \u001b[1m/home/adrian/OneDrive/Documents/Master of Computer Science/Deep Learning for CV and Robotics/Summative/dl-cv-robotics/models\u001b[0m\n",
      "Predict:         yolo predict task=detect model=models/YOLO.torchscript imgsz=640  \n",
      "Validate:        yolo val task=detect model=models/YOLO.torchscript imgsz=640 data=training_data/YOLO/PacMan.yaml  \n",
      "Visualize:       https://netron.app\n",
      "Loading models/YOLO.torchscript for TorchScript inference...\n",
      "\n",
      "image 1/1 /home/adrian/anaconda3/lib/python3.11/site-packages/ultralytics/assets/bus.jpg: 640x640 (no detections), 8.9ms\n",
      "Speed: 1.0ms preprocess, 8.9ms inference, 0.5ms postprocess per image at shape (1, 3, 640, 640)\n",
      "Loading models/YOLO.torchscript for TorchScript inference...\n"
     ]
    },
    {
     "name": "stderr",
     "output_type": "stream",
     "text": [
      "\u001b[34m\u001b[1mval: \u001b[0mScanning /home/adrian/OneDrive/Documents/Master of Computer Science/Deep Learning for CV and Robotics/Summative/dl-cv-robotics/training_data/YOLO/val.cache... 206 images, 150 backgrounds, 0 corrupt: 100%|██████████| 206/206 [00:00<?, ?it/s]\u001b[0m\n",
      "                 Class     Images  Instances      Box(P          R      mAP50  mAP50-95): 100%|██████████| 206/206 [00:02<00:00, 102.17it/s]"
     ]
    },
    {
     "name": "stdout",
     "output_type": "stream",
     "text": [
      "                   all        206        134      0.941       0.94      0.981      0.788\n",
      "Speed: 0.1ms preprocess, 9.1ms inference, 0.0ms loss, 0.2ms postprocess per image\n",
      "\n",
      "\u001b[34m\u001b[1mPyTorch:\u001b[0m starting from 'models/YOLO.pt' with input shape (1, 3, 640, 640) BCHW and output shape(s) (1, 5, 8400) (49.6 MB)\n",
      "\n",
      "\u001b[34m\u001b[1mONNX:\u001b[0m starting export with onnx 1.16.0 opset 17...\n"
     ]
    },
    {
     "name": "stderr",
     "output_type": "stream",
     "text": [
      "\n"
     ]
    },
    {
     "name": "stdout",
     "output_type": "stream",
     "text": [
      "\u001b[34m\u001b[1mONNX:\u001b[0m export success ✅ 0.7s, saved as 'models/YOLO.onnx' (98.8 MB)\n",
      "\n",
      "Export complete (0.8s)\n",
      "Results saved to \u001b[1m/home/adrian/OneDrive/Documents/Master of Computer Science/Deep Learning for CV and Robotics/Summative/dl-cv-robotics/models\u001b[0m\n",
      "Predict:         yolo predict task=detect model=models/YOLO.onnx imgsz=640  \n",
      "Validate:        yolo val task=detect model=models/YOLO.onnx imgsz=640 data=training_data/YOLO/PacMan.yaml  \n",
      "Visualize:       https://netron.app\n",
      "Loading models/YOLO.onnx for ONNX Runtime inference...\n",
      "\u001b[31m\u001b[1mrequirements:\u001b[0m Ultralytics requirement ['onnxruntime-gpu'] not found, attempting AutoUpdate...\n",
      "Collecting onnxruntime-gpu\n",
      "  Downloading onnxruntime_gpu-1.17.1-cp38-cp38-manylinux_2_28_x86_64.whl.metadata (4.3 kB)\n",
      "Collecting coloredlogs (from onnxruntime-gpu)\n",
      "  Downloading coloredlogs-15.0.1-py2.py3-none-any.whl.metadata (12 kB)\n",
      "Collecting flatbuffers (from onnxruntime-gpu)\n",
      "  Downloading flatbuffers-24.3.25-py2.py3-none-any.whl.metadata (850 bytes)\n",
      "Requirement already satisfied: numpy>=1.21.6 in /home/adrian/anaconda3/envs/dl-cv-robotics/lib/python3.8/site-packages (from onnxruntime-gpu) (1.22.4)\n",
      "Requirement already satisfied: packaging in /home/adrian/anaconda3/envs/dl-cv-robotics/lib/python3.8/site-packages (from onnxruntime-gpu) (23.2)\n",
      "Requirement already satisfied: protobuf in /home/adrian/anaconda3/envs/dl-cv-robotics/lib/python3.8/site-packages (from onnxruntime-gpu) (5.26.1)\n",
      "Requirement already satisfied: sympy in /home/adrian/anaconda3/envs/dl-cv-robotics/lib/python3.8/site-packages (from onnxruntime-gpu) (1.12)\n",
      "Collecting humanfriendly>=9.1 (from coloredlogs->onnxruntime-gpu)\n",
      "  Downloading humanfriendly-10.0-py2.py3-none-any.whl.metadata (9.2 kB)\n",
      "Requirement already satisfied: mpmath>=0.19 in /home/adrian/anaconda3/envs/dl-cv-robotics/lib/python3.8/site-packages (from sympy->onnxruntime-gpu) (1.3.0)\n",
      "Downloading onnxruntime_gpu-1.17.1-cp38-cp38-manylinux_2_28_x86_64.whl (192.1 MB)\n",
      "\u001b[2K   \u001b[38;2;114;156;31m━━━━━━━━━━━━━━━━━━━━━━━━━━━━━━━━━━━━━━━━\u001b[0m \u001b[32m192.1/192.1 MB\u001b[0m \u001b[31m6.9 MB/s\u001b[0m eta \u001b[36m0:00:00\u001b[0mm eta \u001b[36m0:00:01\u001b[0m[36m0:00:01\u001b[0mm\n",
      "\u001b[?25hDownloading coloredlogs-15.0.1-py2.py3-none-any.whl (46 kB)\n",
      "\u001b[2K   \u001b[38;2;114;156;31m━━━━━━━━━━━━━━━━━━━━━━━━━━━━━━━━━━━━━━━━\u001b[0m \u001b[32m46.0/46.0 kB\u001b[0m \u001b[31m56.4 MB/s\u001b[0m eta \u001b[36m0:00:00\u001b[0m\n",
      "\u001b[?25hDownloading flatbuffers-24.3.25-py2.py3-none-any.whl (26 kB)\n",
      "Downloading humanfriendly-10.0-py2.py3-none-any.whl (86 kB)\n",
      "\u001b[2K   \u001b[38;2;114;156;31m━━━━━━━━━━━━━━━━━━━━━━━━━━━━━━━━━━━━━━━━\u001b[0m \u001b[32m86.8/86.8 kB\u001b[0m \u001b[31m32.4 MB/s\u001b[0m eta \u001b[36m0:00:00\u001b[0m\n",
      "\u001b[?25hInstalling collected packages: flatbuffers, humanfriendly, coloredlogs, onnxruntime-gpu\n",
      "Successfully installed coloredlogs-15.0.1 flatbuffers-24.3.25 humanfriendly-10.0 onnxruntime-gpu-1.17.1\n",
      "\n",
      "\u001b[31m\u001b[1mrequirements:\u001b[0m AutoUpdate success ✅ 25.0s, installed 1 package: ['onnxruntime-gpu']\n",
      "\u001b[31m\u001b[1mrequirements:\u001b[0m ⚠️ \u001b[1mRestart runtime or rerun command for updates to take effect\u001b[0m\n",
      "\n",
      "ERROR ❌️ Benchmark failure for ONNX: No module named 'onnxruntime'\n",
      "ERROR ❌️ Benchmark failure for OpenVINO: inference not supported on GPU\n",
      "\n",
      "\u001b[34m\u001b[1mPyTorch:\u001b[0m starting from 'models/YOLO.pt' with input shape (1, 3, 640, 640) BCHW and output shape(s) (1, 5, 8400) (49.6 MB)\n",
      "\u001b[31m\u001b[1mrequirements:\u001b[0m Ultralytics requirements ['onnxsim>=0.4.33', 'onnxruntime-gpu'] not found, attempting AutoUpdate...\n",
      "Collecting onnxsim>=0.4.33\n",
      "  Downloading onnxsim-0.4.36-cp38-cp38-manylinux_2_17_x86_64.manylinux2014_x86_64.whl.metadata (4.3 kB)\n",
      "Requirement already satisfied: onnxruntime-gpu in /home/adrian/anaconda3/envs/dl-cv-robotics/lib/python3.8/site-packages (1.17.1)\n",
      "Requirement already satisfied: onnx in /home/adrian/anaconda3/envs/dl-cv-robotics/lib/python3.8/site-packages (from onnxsim>=0.4.33) (1.16.0)\n",
      "Collecting rich (from onnxsim>=0.4.33)\n",
      "  Downloading rich-13.7.1-py3-none-any.whl.metadata (18 kB)\n",
      "Requirement already satisfied: coloredlogs in /home/adrian/anaconda3/envs/dl-cv-robotics/lib/python3.8/site-packages (from onnxruntime-gpu) (15.0.1)\n",
      "Requirement already satisfied: flatbuffers in /home/adrian/anaconda3/envs/dl-cv-robotics/lib/python3.8/site-packages (from onnxruntime-gpu) (24.3.25)\n",
      "Requirement already satisfied: numpy>=1.21.6 in /home/adrian/anaconda3/envs/dl-cv-robotics/lib/python3.8/site-packages (from onnxruntime-gpu) (1.22.4)\n",
      "Requirement already satisfied: packaging in /home/adrian/anaconda3/envs/dl-cv-robotics/lib/python3.8/site-packages (from onnxruntime-gpu) (23.2)\n",
      "Requirement already satisfied: protobuf in /home/adrian/anaconda3/envs/dl-cv-robotics/lib/python3.8/site-packages (from onnxruntime-gpu) (5.26.1)\n",
      "Requirement already satisfied: sympy in /home/adrian/anaconda3/envs/dl-cv-robotics/lib/python3.8/site-packages (from onnxruntime-gpu) (1.12)\n",
      "Requirement already satisfied: humanfriendly>=9.1 in /home/adrian/anaconda3/envs/dl-cv-robotics/lib/python3.8/site-packages (from coloredlogs->onnxruntime-gpu) (10.0)\n",
      "Collecting markdown-it-py>=2.2.0 (from rich->onnxsim>=0.4.33)\n",
      "  Downloading markdown_it_py-3.0.0-py3-none-any.whl.metadata (6.9 kB)\n",
      "Requirement already satisfied: pygments<3.0.0,>=2.13.0 in /home/adrian/anaconda3/envs/dl-cv-robotics/lib/python3.8/site-packages (from rich->onnxsim>=0.4.33) (2.17.2)\n",
      "Requirement already satisfied: typing-extensions<5.0,>=4.0.0 in /home/adrian/anaconda3/envs/dl-cv-robotics/lib/python3.8/site-packages (from rich->onnxsim>=0.4.33) (4.11.0)\n",
      "Requirement already satisfied: mpmath>=0.19 in /home/adrian/anaconda3/envs/dl-cv-robotics/lib/python3.8/site-packages (from sympy->onnxruntime-gpu) (1.3.0)\n",
      "Collecting mdurl~=0.1 (from markdown-it-py>=2.2.0->rich->onnxsim>=0.4.33)\n",
      "  Downloading mdurl-0.1.2-py3-none-any.whl.metadata (1.6 kB)\n",
      "Downloading onnxsim-0.4.36-cp38-cp38-manylinux_2_17_x86_64.manylinux2014_x86_64.whl (2.3 MB)\n",
      "\u001b[2K   \u001b[38;2;114;156;31m━━━━━━━━━━━━━━━━━━━━━━━━━━━━━━━━━━━━━━━━\u001b[0m \u001b[32m2.3/2.3 MB\u001b[0m \u001b[31m13.8 MB/s\u001b[0m eta \u001b[36m0:00:00\u001b[0m31m13.5 MB/s\u001b[0m eta \u001b[36m0:00:01\u001b[0m\n",
      "\u001b[?25hDownloading rich-13.7.1-py3-none-any.whl (240 kB)\n",
      "\u001b[2K   \u001b[38;2;114;156;31m━━━━━━━━━━━━━━━━━━━━━━━━━━━━━━━━━━━━━━━━\u001b[0m \u001b[32m240.7/240.7 kB\u001b[0m \u001b[31m22.8 MB/s\u001b[0m eta \u001b[36m0:00:00\u001b[0m\n",
      "\u001b[?25hDownloading markdown_it_py-3.0.0-py3-none-any.whl (87 kB)\n",
      "\u001b[2K   \u001b[38;2;114;156;31m━━━━━━━━━━━━━━━━━━━━━━━━━━━━━━━━━━━━━━━━\u001b[0m \u001b[32m87.5/87.5 kB\u001b[0m \u001b[31m8.5 MB/s\u001b[0m eta \u001b[36m0:00:00\u001b[0m\n",
      "\u001b[?25hDownloading mdurl-0.1.2-py3-none-any.whl (10.0 kB)\n",
      "Installing collected packages: mdurl, markdown-it-py, rich, onnxsim\n",
      "Successfully installed markdown-it-py-3.0.0 mdurl-0.1.2 onnxsim-0.4.36 rich-13.7.1\n",
      "\n",
      "\u001b[31m\u001b[1mrequirements:\u001b[0m AutoUpdate success ✅ 1.6s, installed 2 packages: ['onnxsim>=0.4.33', 'onnxruntime-gpu']\n",
      "\u001b[31m\u001b[1mrequirements:\u001b[0m ⚠️ \u001b[1mRestart runtime or rerun command for updates to take effect\u001b[0m\n",
      "\n",
      "\n",
      "\u001b[34m\u001b[1mONNX:\u001b[0m starting export with onnx 1.16.0 opset 17...\n",
      "\u001b[34m\u001b[1mONNX:\u001b[0m simplifier failure: No module named 'onnxsim'\n",
      "\u001b[34m\u001b[1mONNX:\u001b[0m export success ✅ 2.2s, saved as 'models/YOLO.onnx' (98.8 MB)\n",
      "\n",
      "\u001b[34m\u001b[1mTensorRT:\u001b[0m starting export with TensorRT 8.6.1...\n",
      "[04/22/2024-09:55:08] [TRT] [I] [MemUsageChange] Init CUDA: CPU +1, GPU +0, now: CPU 1481, GPU 1870 (MiB)\n",
      "[04/22/2024-09:55:12] [TRT] [I] [MemUsageChange] Init builder kernel library: CPU +1444, GPU +268, now: CPU 3002, GPU 2138 (MiB)\n",
      "[04/22/2024-09:55:12] [TRT] [I] ----------------------------------------------------------------\n",
      "[04/22/2024-09:55:12] [TRT] [I] Input filename:   models/YOLO.onnx\n",
      "[04/22/2024-09:55:12] [TRT] [I] ONNX IR version:  0.0.8\n",
      "[04/22/2024-09:55:12] [TRT] [I] Opset version:    17\n",
      "[04/22/2024-09:55:12] [TRT] [I] Producer name:    pytorch\n",
      "[04/22/2024-09:55:12] [TRT] [I] Producer version: 2.2.2\n",
      "[04/22/2024-09:55:12] [TRT] [I] Domain:           \n",
      "[04/22/2024-09:55:12] [TRT] [I] Model version:    0\n",
      "[04/22/2024-09:55:12] [TRT] [I] Doc string:       \n",
      "[04/22/2024-09:55:12] [TRT] [I] ----------------------------------------------------------------\n",
      "[04/22/2024-09:55:12] [TRT] [W] onnx2trt_utils.cpp:374: Your ONNX model has been generated with INT64 weights, while TensorRT does not natively support INT64. Attempting to cast down to INT32.\n",
      "\u001b[34m\u001b[1mTensorRT:\u001b[0m input \"images\" with shape(1, 3, 640, 640) DataType.FLOAT\n",
      "\u001b[34m\u001b[1mTensorRT:\u001b[0m output \"output0\" with shape(1, 5, 8400) DataType.FLOAT\n",
      "\u001b[34m\u001b[1mTensorRT:\u001b[0m building FP32 engine as models/YOLO.engine\n",
      "[04/22/2024-09:55:12] [TRT] [I] Graph optimization time: 0.0213827 seconds.\n",
      "[04/22/2024-09:55:12] [TRT] [I] Local timing cache in use. Profiling results in this builder pass will not be stored.\n",
      "[04/22/2024-09:56:24] [TRT] [I] Detected 1 inputs and 3 output network tensors.\n",
      "[04/22/2024-09:56:24] [TRT] [I] Total Host Persistent Memory: 405632\n",
      "[04/22/2024-09:56:24] [TRT] [I] Total Device Persistent Memory: 0\n",
      "[04/22/2024-09:56:24] [TRT] [I] Total Scratch Memory: 4608\n",
      "[04/22/2024-09:56:24] [TRT] [I] [MemUsageStats] Peak memory usage of TRT CPU/GPU memory allocators: CPU 20 MiB, GPU 157 MiB\n",
      "[04/22/2024-09:56:24] [TRT] [I] [BlockAssignment] Started assigning block shifts. This will take 241 steps to complete.\n",
      "[04/22/2024-09:56:24] [TRT] [I] [BlockAssignment] Algorithm ShiftNTopDown took 10.7047ms to assign 8 blocks to 241 nodes requiring 57758208 bytes.\n",
      "[04/22/2024-09:56:24] [TRT] [I] Total Activation Memory: 57758208\n",
      "[04/22/2024-09:56:24] [TRT] [I] [MemUsageChange] TensorRT-managed allocation in building engine: CPU +10, GPU +125, now: CPU 10, GPU 125 (MiB)\n",
      "\u001b[34m\u001b[1mTensorRT:\u001b[0m export success ✅ 79.2s, saved as 'models/YOLO.engine' (129.5 MB)\n",
      "\n",
      "Export complete (79.4s)\n",
      "Results saved to \u001b[1m/home/adrian/OneDrive/Documents/Master of Computer Science/Deep Learning for CV and Robotics/Summative/dl-cv-robotics/models\u001b[0m\n",
      "Predict:         yolo predict task=detect model=models/YOLO.engine imgsz=640  \n",
      "Validate:        yolo val task=detect model=models/YOLO.engine imgsz=640 data=training_data/YOLO/PacMan.yaml  \n",
      "Visualize:       https://netron.app\n",
      "Loading models/YOLO.engine for TensorRT inference...\n",
      "[04/22/2024-09:56:24] [TRT] [I] Loaded engine size: 129 MiB\n",
      "[04/22/2024-09:56:25] [TRT] [I] [MemUsageChange] TensorRT-managed allocation in engine deserialization: CPU +0, GPU +124, now: CPU 0, GPU 124 (MiB)\n",
      "[04/22/2024-09:56:25] [TRT] [I] [MemUsageChange] TensorRT-managed allocation in IExecutionContext creation: CPU +0, GPU +55, now: CPU 0, GPU 179 (MiB)\n",
      "\n",
      "image 1/1 /home/adrian/anaconda3/lib/python3.11/site-packages/ultralytics/assets/bus.jpg: 640x640 (no detections), 7.6ms\n",
      "Speed: 1.1ms preprocess, 7.6ms inference, 0.3ms postprocess per image at shape (1, 3, 640, 640)\n",
      "Loading models/YOLO.engine for TensorRT inference...\n",
      "[04/22/2024-09:56:25] [TRT] [I] The logger passed into createInferRuntime differs from one already provided for an existing builder, runtime, or refitter. Uses of the global logger, returned by nvinfer1::getLogger(), will return the existing value.\n",
      "[04/22/2024-09:56:25] [TRT] [I] Loaded engine size: 129 MiB\n",
      "[04/22/2024-09:56:25] [TRT] [I] [MemUsageChange] TensorRT-managed allocation in engine deserialization: CPU +0, GPU +125, now: CPU 0, GPU 304 (MiB)\n",
      "[04/22/2024-09:56:25] [TRT] [I] [MemUsageChange] TensorRT-managed allocation in IExecutionContext creation: CPU +1, GPU +55, now: CPU 1, GPU 359 (MiB)\n"
     ]
    },
    {
     "name": "stderr",
     "output_type": "stream",
     "text": [
      "\u001b[34m\u001b[1mval: \u001b[0mScanning /home/adrian/OneDrive/Documents/Master of Computer Science/Deep Learning for CV and Robotics/Summative/dl-cv-robotics/training_data/YOLO/val.cache... 206 images, 150 backgrounds, 0 corrupt: 100%|██████████| 206/206 [00:00<?, ?it/s]\u001b[0m\n",
      "                 Class     Images  Instances      Box(P          R      mAP50  mAP50-95): 100%|██████████| 206/206 [00:01<00:00, 124.51it/s]"
     ]
    },
    {
     "name": "stdout",
     "output_type": "stream",
     "text": [
      "                   all        206        134      0.941       0.94      0.981      0.788\n",
      "Speed: 0.1ms preprocess, 7.3ms inference, 0.0ms loss, 0.2ms postprocess per image\n",
      "ERROR ❌️ Benchmark failure for CoreML: inference not supported on GPU\n",
      "\n",
      "\u001b[34m\u001b[1mPyTorch:\u001b[0m starting from 'models/YOLO.pt' with input shape (1, 3, 640, 640) BCHW and output shape(s) (1, 5, 8400) (49.6 MB)\n",
      "\u001b[31m\u001b[1mrequirements:\u001b[0m Ultralytics requirement ['tensorflow<=2.13.1'] not found, attempting AutoUpdate...\n"
     ]
    },
    {
     "name": "stderr",
     "output_type": "stream",
     "text": [
      "\n",
      "\u001b[31mERROR: pip's dependency resolver does not currently take into account all the packages that are installed. This behaviour is the source of the following dependency conflicts.\n",
      "torch 2.2.2 requires typing-extensions>=4.8.0, but you have typing-extensions 4.5.0 which is incompatible.\u001b[0m\u001b[31m\n",
      "\u001b[0m"
     ]
    },
    {
     "name": "stdout",
     "output_type": "stream",
     "text": [
      "Collecting tensorflow<=2.13.1\n",
      "  Downloading tensorflow-2.13.1-cp38-cp38-manylinux_2_17_x86_64.manylinux2014_x86_64.whl.metadata (3.4 kB)\n",
      "Collecting absl-py>=1.0.0 (from tensorflow<=2.13.1)\n",
      "  Downloading absl_py-2.1.0-py3-none-any.whl.metadata (2.3 kB)\n",
      "Collecting astunparse>=1.6.0 (from tensorflow<=2.13.1)\n",
      "  Downloading astunparse-1.6.3-py2.py3-none-any.whl.metadata (4.4 kB)\n",
      "Requirement already satisfied: flatbuffers>=23.1.21 in /home/adrian/anaconda3/envs/dl-cv-robotics/lib/python3.8/site-packages (from tensorflow<=2.13.1) (24.3.25)\n",
      "Collecting gast<=0.4.0,>=0.2.1 (from tensorflow<=2.13.1)\n",
      "  Downloading gast-0.4.0-py3-none-any.whl.metadata (1.1 kB)\n",
      "Collecting google-pasta>=0.1.1 (from tensorflow<=2.13.1)\n",
      "  Downloading google_pasta-0.2.0-py3-none-any.whl.metadata (814 bytes)\n",
      "Collecting grpcio<2.0,>=1.24.3 (from tensorflow<=2.13.1)\n",
      "  Downloading grpcio-1.62.2-cp38-cp38-manylinux_2_17_x86_64.manylinux2014_x86_64.whl.metadata (4.0 kB)\n",
      "Collecting h5py>=2.9.0 (from tensorflow<=2.13.1)\n",
      "  Downloading h5py-3.11.0-cp38-cp38-manylinux_2_17_x86_64.manylinux2014_x86_64.whl.metadata (2.5 kB)\n",
      "Collecting keras<2.14,>=2.13.1 (from tensorflow<=2.13.1)\n",
      "  Downloading keras-2.13.1-py3-none-any.whl.metadata (2.4 kB)\n",
      "Collecting libclang>=13.0.0 (from tensorflow<=2.13.1)\n",
      "  Downloading libclang-18.1.1-py2.py3-none-manylinux2010_x86_64.whl.metadata (5.2 kB)\n",
      "Requirement already satisfied: numpy<=1.24.3,>=1.22 in /home/adrian/anaconda3/envs/dl-cv-robotics/lib/python3.8/site-packages (from tensorflow<=2.13.1) (1.22.4)\n",
      "Collecting opt-einsum>=2.3.2 (from tensorflow<=2.13.1)\n",
      "  Downloading opt_einsum-3.3.0-py3-none-any.whl.metadata (6.5 kB)\n",
      "Requirement already satisfied: packaging in /home/adrian/anaconda3/envs/dl-cv-robotics/lib/python3.8/site-packages (from tensorflow<=2.13.1) (23.2)\n",
      "Collecting protobuf!=4.21.0,!=4.21.1,!=4.21.2,!=4.21.3,!=4.21.4,!=4.21.5,<5.0.0dev,>=3.20.3 (from tensorflow<=2.13.1)\n",
      "  Downloading protobuf-4.25.3-cp37-abi3-manylinux2014_x86_64.whl.metadata (541 bytes)\n",
      "Requirement already satisfied: setuptools in /home/adrian/anaconda3/envs/dl-cv-robotics/lib/python3.8/site-packages (from tensorflow<=2.13.1) (68.2.2)\n",
      "Requirement already satisfied: six>=1.12.0 in /home/adrian/anaconda3/envs/dl-cv-robotics/lib/python3.8/site-packages (from tensorflow<=2.13.1) (1.16.0)\n",
      "Collecting tensorboard<2.14,>=2.13 (from tensorflow<=2.13.1)\n",
      "  Downloading tensorboard-2.13.0-py3-none-any.whl.metadata (1.8 kB)\n",
      "Collecting tensorflow-estimator<2.14,>=2.13.0 (from tensorflow<=2.13.1)\n",
      "  Downloading tensorflow_estimator-2.13.0-py2.py3-none-any.whl.metadata (1.3 kB)\n",
      "Collecting termcolor>=1.1.0 (from tensorflow<=2.13.1)\n",
      "  Downloading termcolor-2.4.0-py3-none-any.whl.metadata (6.1 kB)\n",
      "Collecting typing-extensions<4.6.0,>=3.6.6 (from tensorflow<=2.13.1)\n",
      "  Downloading typing_extensions-4.5.0-py3-none-any.whl.metadata (8.5 kB)\n",
      "Collecting wrapt>=1.11.0 (from tensorflow<=2.13.1)\n",
      "  Downloading wrapt-1.16.0-cp38-cp38-manylinux_2_5_x86_64.manylinux1_x86_64.manylinux_2_17_x86_64.manylinux2014_x86_64.whl.metadata (6.6 kB)\n",
      "Collecting tensorflow-io-gcs-filesystem>=0.23.1 (from tensorflow<=2.13.1)\n",
      "  Downloading tensorflow_io_gcs_filesystem-0.34.0-cp38-cp38-manylinux_2_12_x86_64.manylinux2010_x86_64.whl.metadata (14 kB)\n",
      "Requirement already satisfied: wheel<1.0,>=0.23.0 in /home/adrian/anaconda3/envs/dl-cv-robotics/lib/python3.8/site-packages (from astunparse>=1.6.0->tensorflow<=2.13.1) (0.41.2)\n",
      "Collecting google-auth<3,>=1.6.3 (from tensorboard<2.14,>=2.13->tensorflow<=2.13.1)\n",
      "  Downloading google_auth-2.29.0-py2.py3-none-any.whl.metadata (4.7 kB)\n",
      "Collecting google-auth-oauthlib<1.1,>=0.5 (from tensorboard<2.14,>=2.13->tensorflow<=2.13.1)\n",
      "  Downloading google_auth_oauthlib-1.0.0-py2.py3-none-any.whl.metadata (2.7 kB)\n",
      "Collecting markdown>=2.6.8 (from tensorboard<2.14,>=2.13->tensorflow<=2.13.1)\n",
      "  Downloading Markdown-3.6-py3-none-any.whl.metadata (7.0 kB)\n",
      "Requirement already satisfied: requests<3,>=2.21.0 in /home/adrian/anaconda3/envs/dl-cv-robotics/lib/python3.8/site-packages (from tensorboard<2.14,>=2.13->tensorflow<=2.13.1) (2.31.0)\n",
      "Collecting tensorboard-data-server<0.8.0,>=0.7.0 (from tensorboard<2.14,>=2.13->tensorflow<=2.13.1)\n",
      "  Downloading tensorboard_data_server-0.7.2-py3-none-manylinux_2_31_x86_64.whl.metadata (1.1 kB)\n",
      "Requirement already satisfied: werkzeug>=1.0.1 in /home/adrian/anaconda3/envs/dl-cv-robotics/lib/python3.8/site-packages (from tensorboard<2.14,>=2.13->tensorflow<=2.13.1) (3.0.2)\n",
      "Collecting cachetools<6.0,>=2.0.0 (from google-auth<3,>=1.6.3->tensorboard<2.14,>=2.13->tensorflow<=2.13.1)\n",
      "  Downloading cachetools-5.3.3-py3-none-any.whl.metadata (5.3 kB)\n",
      "Collecting pyasn1-modules>=0.2.1 (from google-auth<3,>=1.6.3->tensorboard<2.14,>=2.13->tensorflow<=2.13.1)\n",
      "  Downloading pyasn1_modules-0.4.0-py3-none-any.whl.metadata (3.4 kB)\n",
      "Collecting rsa<5,>=3.1.4 (from google-auth<3,>=1.6.3->tensorboard<2.14,>=2.13->tensorflow<=2.13.1)\n",
      "  Downloading rsa-4.9-py3-none-any.whl.metadata (4.2 kB)\n",
      "Collecting requests-oauthlib>=0.7.0 (from google-auth-oauthlib<1.1,>=0.5->tensorboard<2.14,>=2.13->tensorflow<=2.13.1)\n",
      "  Downloading requests_oauthlib-2.0.0-py2.py3-none-any.whl.metadata (11 kB)\n",
      "Requirement already satisfied: importlib-metadata>=4.4 in /home/adrian/anaconda3/envs/dl-cv-robotics/lib/python3.8/site-packages (from markdown>=2.6.8->tensorboard<2.14,>=2.13->tensorflow<=2.13.1) (7.1.0)\n",
      "Requirement already satisfied: charset-normalizer<4,>=2 in /home/adrian/anaconda3/envs/dl-cv-robotics/lib/python3.8/site-packages (from requests<3,>=2.21.0->tensorboard<2.14,>=2.13->tensorflow<=2.13.1) (3.3.2)\n",
      "Requirement already satisfied: idna<4,>=2.5 in /home/adrian/anaconda3/envs/dl-cv-robotics/lib/python3.8/site-packages (from requests<3,>=2.21.0->tensorboard<2.14,>=2.13->tensorflow<=2.13.1) (3.7)\n",
      "Requirement already satisfied: urllib3<3,>=1.21.1 in /home/adrian/anaconda3/envs/dl-cv-robotics/lib/python3.8/site-packages (from requests<3,>=2.21.0->tensorboard<2.14,>=2.13->tensorflow<=2.13.1) (2.2.1)\n",
      "Requirement already satisfied: certifi>=2017.4.17 in /home/adrian/anaconda3/envs/dl-cv-robotics/lib/python3.8/site-packages (from requests<3,>=2.21.0->tensorboard<2.14,>=2.13->tensorflow<=2.13.1) (2024.2.2)\n",
      "Requirement already satisfied: MarkupSafe>=2.1.1 in /home/adrian/anaconda3/envs/dl-cv-robotics/lib/python3.8/site-packages (from werkzeug>=1.0.1->tensorboard<2.14,>=2.13->tensorflow<=2.13.1) (2.1.5)\n",
      "Requirement already satisfied: zipp>=0.5 in /home/adrian/anaconda3/envs/dl-cv-robotics/lib/python3.8/site-packages (from importlib-metadata>=4.4->markdown>=2.6.8->tensorboard<2.14,>=2.13->tensorflow<=2.13.1) (3.18.1)\n",
      "Collecting pyasn1<0.7.0,>=0.4.6 (from pyasn1-modules>=0.2.1->google-auth<3,>=1.6.3->tensorboard<2.14,>=2.13->tensorflow<=2.13.1)\n",
      "  Downloading pyasn1-0.6.0-py2.py3-none-any.whl.metadata (8.3 kB)\n",
      "Collecting oauthlib>=3.0.0 (from requests-oauthlib>=0.7.0->google-auth-oauthlib<1.1,>=0.5->tensorboard<2.14,>=2.13->tensorflow<=2.13.1)\n",
      "  Downloading oauthlib-3.2.2-py3-none-any.whl.metadata (7.5 kB)\n",
      "Downloading tensorflow-2.13.1-cp38-cp38-manylinux_2_17_x86_64.manylinux2014_x86_64.whl (479.6 MB)\n",
      "\u001b[2K   \u001b[38;2;114;156;31m━━━━━━━━━━━━━━━━━━━━━━━━━━━━━━━━━━━━━━━━\u001b[0m \u001b[32m479.6/479.6 MB\u001b[0m \u001b[31m21.1 MB/s\u001b[0m eta \u001b[36m0:00:00\u001b[0mm eta \u001b[36m0:00:01\u001b[0m[36m0:00:01\u001b[0m\n",
      "\u001b[?25hDownloading absl_py-2.1.0-py3-none-any.whl (133 kB)\n",
      "\u001b[2K   \u001b[38;2;114;156;31m━━━━━━━━━━━━━━━━━━━━━━━━━━━━━━━━━━━━━━━━\u001b[0m \u001b[32m133.7/133.7 kB\u001b[0m \u001b[31m24.5 MB/s\u001b[0m eta \u001b[36m0:00:00\u001b[0m\n",
      "\u001b[?25hDownloading astunparse-1.6.3-py2.py3-none-any.whl (12 kB)\n",
      "Downloading gast-0.4.0-py3-none-any.whl (9.8 kB)\n",
      "Downloading google_pasta-0.2.0-py3-none-any.whl (57 kB)\n",
      "\u001b[2K   \u001b[38;2;114;156;31m━━━━━━━━━━━━━━━━━━━━━━━━━━━━━━━━━━━━━━━━\u001b[0m \u001b[32m57.5/57.5 kB\u001b[0m \u001b[31m42.2 MB/s\u001b[0m eta \u001b[36m0:00:00\u001b[0m\n",
      "\u001b[?25hDownloading grpcio-1.62.2-cp38-cp38-manylinux_2_17_x86_64.manylinux2014_x86_64.whl (5.6 MB)\n",
      "\u001b[2K   \u001b[38;2;114;156;31m━━━━━━━━━━━━━━━━━━━━━━━━━━━━━━━━━━━━━━━━\u001b[0m \u001b[32m5.6/5.6 MB\u001b[0m \u001b[31m21.1 MB/s\u001b[0m eta \u001b[36m0:00:00\u001b[0m31m21.1 MB/s\u001b[0m eta \u001b[36m0:00:01\u001b[0m\n",
      "\u001b[?25hDownloading h5py-3.11.0-cp38-cp38-manylinux_2_17_x86_64.manylinux2014_x86_64.whl (5.3 MB)\n",
      "\u001b[2K   \u001b[38;2;114;156;31m━━━━━━━━━━━━━━━━━━━━━━━━━━━━━━━━━━━━━━━━\u001b[0m \u001b[32m5.3/5.3 MB\u001b[0m \u001b[31m21.1 MB/s\u001b[0m eta \u001b[36m0:00:00\u001b[0m31m21.1 MB/s\u001b[0m eta \u001b[36m0:00:01\u001b[0m\n",
      "\u001b[?25hDownloading keras-2.13.1-py3-none-any.whl (1.7 MB)\n",
      "\u001b[2K   \u001b[38;2;114;156;31m━━━━━━━━━━━━━━━━━━━━━━━━━━━━━━━━━━━━━━━━\u001b[0m \u001b[32m1.7/1.7 MB\u001b[0m \u001b[31m21.0 MB/s\u001b[0m eta \u001b[36m0:00:00\u001b[0m31m21.1 MB/s\u001b[0m eta \u001b[36m0:00:01\u001b[0m\n",
      "\u001b[?25hDownloading libclang-18.1.1-py2.py3-none-manylinux2010_x86_64.whl (24.5 MB)\n",
      "\u001b[2K   \u001b[38;2;114;156;31m━━━━━━━━━━━━━━━━━━━━━━━━━━━━━━━━━━━━━━━━\u001b[0m \u001b[32m24.5/24.5 MB\u001b[0m \u001b[31m21.1 MB/s\u001b[0m eta \u001b[36m0:00:00\u001b[0mm eta \u001b[36m0:00:01\u001b[0m[36m0:00:01\u001b[0m\n",
      "\u001b[?25hDownloading opt_einsum-3.3.0-py3-none-any.whl (65 kB)\n",
      "\u001b[2K   \u001b[38;2;114;156;31m━━━━━━━━━━━━━━━━━━━━━━━━━━━━━━━━━━━━━━━━\u001b[0m \u001b[32m65.5/65.5 kB\u001b[0m \u001b[31m29.0 MB/s\u001b[0m eta \u001b[36m0:00:00\u001b[0m\n",
      "\u001b[?25hDownloading protobuf-4.25.3-cp37-abi3-manylinux2014_x86_64.whl (294 kB)\n",
      "\u001b[2K   \u001b[38;2;114;156;31m━━━━━━━━━━━━━━━━━━━━━━━━━━━━━━━━━━━━━━━━\u001b[0m \u001b[32m294.6/294.6 kB\u001b[0m \u001b[31m22.3 MB/s\u001b[0m eta \u001b[36m0:00:00\u001b[0m\n",
      "\u001b[?25hDownloading tensorboard-2.13.0-py3-none-any.whl (5.6 MB)\n",
      "\u001b[2K   \u001b[38;2;114;156;31m━━━━━━━━━━━━━━━━━━━━━━━━━━━━━━━━━━━━━━━━\u001b[0m \u001b[32m5.6/5.6 MB\u001b[0m \u001b[31m21.1 MB/s\u001b[0m eta \u001b[36m0:00:00\u001b[0m31m21.1 MB/s\u001b[0m eta \u001b[36m0:00:01\u001b[0m\n",
      "\u001b[?25hDownloading tensorflow_estimator-2.13.0-py2.py3-none-any.whl (440 kB)\n",
      "\u001b[2K   \u001b[38;2;114;156;31m━━━━━━━━━━━━━━━━━━━━━━━━━━━━━━━━━━━━━━━━\u001b[0m \u001b[32m440.8/440.8 kB\u001b[0m \u001b[31m21.7 MB/s\u001b[0m eta \u001b[36m0:00:00\u001b[0m\n",
      "\u001b[?25hDownloading tensorflow_io_gcs_filesystem-0.34.0-cp38-cp38-manylinux_2_12_x86_64.manylinux2010_x86_64.whl (2.4 MB)\n",
      "\u001b[2K   \u001b[38;2;114;156;31m━━━━━━━━━━━━━━━━━━━━━━━━━━━━━━━━━━━━━━━━\u001b[0m \u001b[32m2.4/2.4 MB\u001b[0m \u001b[31m21.1 MB/s\u001b[0m eta \u001b[36m0:00:00\u001b[0m31m21.0 MB/s\u001b[0m eta \u001b[36m0:00:01\u001b[0m\n",
      "\u001b[?25hDownloading termcolor-2.4.0-py3-none-any.whl (7.7 kB)\n",
      "Downloading typing_extensions-4.5.0-py3-none-any.whl (27 kB)\n",
      "Downloading wrapt-1.16.0-cp38-cp38-manylinux_2_5_x86_64.manylinux1_x86_64.manylinux_2_17_x86_64.manylinux2014_x86_64.whl (83 kB)\n",
      "\u001b[2K   \u001b[38;2;114;156;31m━━━━━━━━━━━━━━━━━━━━━━━━━━━━━━━━━━━━━━━━\u001b[0m \u001b[32m83.4/83.4 kB\u001b[0m \u001b[31m25.5 MB/s\u001b[0m eta \u001b[36m0:00:00\u001b[0m\n",
      "\u001b[?25hDownloading google_auth-2.29.0-py2.py3-none-any.whl (189 kB)\n",
      "\u001b[2K   \u001b[38;2;114;156;31m━━━━━━━━━━━━━━━━━━━━━━━━━━━━━━━━━━━━━━━━\u001b[0m \u001b[32m189.2/189.2 kB\u001b[0m \u001b[31m23.3 MB/s\u001b[0m eta \u001b[36m0:00:00\u001b[0m\n",
      "\u001b[?25hDownloading google_auth_oauthlib-1.0.0-py2.py3-none-any.whl (18 kB)\n",
      "Downloading Markdown-3.6-py3-none-any.whl (105 kB)\n",
      "\u001b[2K   \u001b[38;2;114;156;31m━━━━━━━━━━━━━━━━━━━━━━━━━━━━━━━━━━━━━━━━\u001b[0m \u001b[32m105.4/105.4 kB\u001b[0m \u001b[31m23.7 MB/s\u001b[0m eta \u001b[36m0:00:00\u001b[0m\n",
      "\u001b[?25hDownloading tensorboard_data_server-0.7.2-py3-none-manylinux_2_31_x86_64.whl (6.6 MB)\n",
      "\u001b[2K   \u001b[38;2;114;156;31m━━━━━━━━━━━━━━━━━━━━━━━━━━━━━━━━━━━━━━━━\u001b[0m \u001b[32m6.6/6.6 MB\u001b[0m \u001b[31m21.1 MB/s\u001b[0m eta \u001b[36m0:00:00\u001b[0m31m21.0 MB/s\u001b[0m eta \u001b[36m0:00:01\u001b[0m\n",
      "\u001b[?25hDownloading cachetools-5.3.3-py3-none-any.whl (9.3 kB)\n",
      "Downloading pyasn1_modules-0.4.0-py3-none-any.whl (181 kB)\n",
      "\u001b[2K   \u001b[38;2;114;156;31m━━━━━━━━━━━━━━━━━━━━━━━━━━━━━━━━━━━━━━━━\u001b[0m \u001b[32m181.2/181.2 kB\u001b[0m \u001b[31m23.4 MB/s\u001b[0m eta \u001b[36m0:00:00\u001b[0m\n",
      "\u001b[?25hDownloading requests_oauthlib-2.0.0-py2.py3-none-any.whl (24 kB)\n",
      "Downloading rsa-4.9-py3-none-any.whl (34 kB)\n",
      "Downloading oauthlib-3.2.2-py3-none-any.whl (151 kB)\n",
      "\u001b[2K   \u001b[38;2;114;156;31m━━━━━━━━━━━━━━━━━━━━━━━━━━━━━━━━━━━━━━━━\u001b[0m \u001b[32m151.7/151.7 kB\u001b[0m \u001b[31m22.8 MB/s\u001b[0m eta \u001b[36m0:00:00\u001b[0m\n",
      "\u001b[?25hDownloading pyasn1-0.6.0-py2.py3-none-any.whl (85 kB)\n",
      "\u001b[2K   \u001b[38;2;114;156;31m━━━━━━━━━━━━━━━━━━━━━━━━━━━━━━━━━━━━━━━━\u001b[0m \u001b[32m85.3/85.3 kB\u001b[0m \u001b[31m24.3 MB/s\u001b[0m eta \u001b[36m0:00:00\u001b[0m\n",
      "\u001b[?25hInstalling collected packages: libclang, wrapt, typing-extensions, termcolor, tensorflow-io-gcs-filesystem, tensorflow-estimator, tensorboard-data-server, pyasn1, protobuf, opt-einsum, oauthlib, keras, h5py, grpcio, google-pasta, gast, cachetools, astunparse, absl-py, rsa, requests-oauthlib, pyasn1-modules, markdown, google-auth, google-auth-oauthlib, tensorboard, tensorflow\n",
      "  Attempting uninstall: typing-extensions\n",
      "    Found existing installation: typing_extensions 4.11.0\n",
      "    Uninstalling typing_extensions-4.11.0:\n",
      "      Successfully uninstalled typing_extensions-4.11.0\n",
      "  Attempting uninstall: protobuf\n",
      "    Found existing installation: protobuf 5.26.1\n",
      "    Uninstalling protobuf-5.26.1:\n",
      "      Successfully uninstalled protobuf-5.26.1\n",
      "Successfully installed absl-py-2.1.0 astunparse-1.6.3 cachetools-5.3.3 gast-0.4.0 google-auth-2.29.0 google-auth-oauthlib-1.0.0 google-pasta-0.2.0 grpcio-1.62.2 h5py-3.11.0 keras-2.13.1 libclang-18.1.1 markdown-3.6 oauthlib-3.2.2 opt-einsum-3.3.0 protobuf-4.25.3 pyasn1-0.6.0 pyasn1-modules-0.4.0 requests-oauthlib-2.0.0 rsa-4.9 tensorboard-2.13.0 tensorboard-data-server-0.7.2 tensorflow-2.13.1 tensorflow-estimator-2.13.0 tensorflow-io-gcs-filesystem-0.34.0 termcolor-2.4.0 typing-extensions-4.5.0 wrapt-1.16.0\n",
      "\n",
      "\u001b[31m\u001b[1mrequirements:\u001b[0m AutoUpdate success ✅ 37.6s, installed 1 package: ['tensorflow<=2.13.1']\n",
      "\u001b[31m\u001b[1mrequirements:\u001b[0m ⚠️ \u001b[1mRestart runtime or rerun command for updates to take effect\u001b[0m\n",
      "\n",
      "\u001b[34m\u001b[1mTensorFlow SavedModel:\u001b[0m export failure ❌ 37.6s: No module named 'tensorflow'\n",
      "ERROR ❌️ Benchmark failure for TensorFlow SavedModel: No module named 'tensorflow'\n",
      "\n",
      "\u001b[34m\u001b[1mPyTorch:\u001b[0m starting from 'models/YOLO.pt' with input shape (1, 3, 640, 640) BCHW and output shape(s) (1, 5, 8400) (49.6 MB)\n",
      "\u001b[31m\u001b[1mrequirements:\u001b[0m Ultralytics requirement ['tensorflow<=2.13.1'] not found, attempting AutoUpdate...\n",
      "Requirement already satisfied: tensorflow<=2.13.1 in /home/adrian/anaconda3/envs/dl-cv-robotics/lib/python3.8/site-packages (2.13.1)\n",
      "Requirement already satisfied: absl-py>=1.0.0 in /home/adrian/anaconda3/envs/dl-cv-robotics/lib/python3.8/site-packages (from tensorflow<=2.13.1) (2.1.0)\n",
      "Requirement already satisfied: astunparse>=1.6.0 in /home/adrian/anaconda3/envs/dl-cv-robotics/lib/python3.8/site-packages (from tensorflow<=2.13.1) (1.6.3)\n",
      "Requirement already satisfied: flatbuffers>=23.1.21 in /home/adrian/anaconda3/envs/dl-cv-robotics/lib/python3.8/site-packages (from tensorflow<=2.13.1) (24.3.25)\n",
      "Requirement already satisfied: gast<=0.4.0,>=0.2.1 in /home/adrian/anaconda3/envs/dl-cv-robotics/lib/python3.8/site-packages (from tensorflow<=2.13.1) (0.4.0)\n",
      "Requirement already satisfied: google-pasta>=0.1.1 in /home/adrian/anaconda3/envs/dl-cv-robotics/lib/python3.8/site-packages (from tensorflow<=2.13.1) (0.2.0)\n",
      "Requirement already satisfied: grpcio<2.0,>=1.24.3 in /home/adrian/anaconda3/envs/dl-cv-robotics/lib/python3.8/site-packages (from tensorflow<=2.13.1) (1.62.2)\n",
      "Requirement already satisfied: h5py>=2.9.0 in /home/adrian/anaconda3/envs/dl-cv-robotics/lib/python3.8/site-packages (from tensorflow<=2.13.1) (3.11.0)\n",
      "Requirement already satisfied: keras<2.14,>=2.13.1 in /home/adrian/anaconda3/envs/dl-cv-robotics/lib/python3.8/site-packages (from tensorflow<=2.13.1) (2.13.1)\n",
      "Requirement already satisfied: libclang>=13.0.0 in /home/adrian/anaconda3/envs/dl-cv-robotics/lib/python3.8/site-packages (from tensorflow<=2.13.1) (18.1.1)\n",
      "Requirement already satisfied: numpy<=1.24.3,>=1.22 in /home/adrian/anaconda3/envs/dl-cv-robotics/lib/python3.8/site-packages (from tensorflow<=2.13.1) (1.22.4)\n",
      "Requirement already satisfied: opt-einsum>=2.3.2 in /home/adrian/anaconda3/envs/dl-cv-robotics/lib/python3.8/site-packages (from tensorflow<=2.13.1) (3.3.0)\n",
      "Requirement already satisfied: packaging in /home/adrian/anaconda3/envs/dl-cv-robotics/lib/python3.8/site-packages (from tensorflow<=2.13.1) (23.2)\n",
      "Requirement already satisfied: protobuf!=4.21.0,!=4.21.1,!=4.21.2,!=4.21.3,!=4.21.4,!=4.21.5,<5.0.0dev,>=3.20.3 in /home/adrian/anaconda3/envs/dl-cv-robotics/lib/python3.8/site-packages (from tensorflow<=2.13.1) (4.25.3)\n",
      "Requirement already satisfied: setuptools in /home/adrian/anaconda3/envs/dl-cv-robotics/lib/python3.8/site-packages (from tensorflow<=2.13.1) (68.2.2)\n",
      "Requirement already satisfied: six>=1.12.0 in /home/adrian/anaconda3/envs/dl-cv-robotics/lib/python3.8/site-packages (from tensorflow<=2.13.1) (1.16.0)\n",
      "Requirement already satisfied: tensorboard<2.14,>=2.13 in /home/adrian/anaconda3/envs/dl-cv-robotics/lib/python3.8/site-packages (from tensorflow<=2.13.1) (2.13.0)\n",
      "Requirement already satisfied: tensorflow-estimator<2.14,>=2.13.0 in /home/adrian/anaconda3/envs/dl-cv-robotics/lib/python3.8/site-packages (from tensorflow<=2.13.1) (2.13.0)\n",
      "Requirement already satisfied: termcolor>=1.1.0 in /home/adrian/anaconda3/envs/dl-cv-robotics/lib/python3.8/site-packages (from tensorflow<=2.13.1) (2.4.0)\n",
      "Requirement already satisfied: typing-extensions<4.6.0,>=3.6.6 in /home/adrian/anaconda3/envs/dl-cv-robotics/lib/python3.8/site-packages (from tensorflow<=2.13.1) (4.5.0)\n",
      "Requirement already satisfied: wrapt>=1.11.0 in /home/adrian/anaconda3/envs/dl-cv-robotics/lib/python3.8/site-packages (from tensorflow<=2.13.1) (1.16.0)\n",
      "Requirement already satisfied: tensorflow-io-gcs-filesystem>=0.23.1 in /home/adrian/anaconda3/envs/dl-cv-robotics/lib/python3.8/site-packages (from tensorflow<=2.13.1) (0.34.0)\n",
      "Requirement already satisfied: wheel<1.0,>=0.23.0 in /home/adrian/anaconda3/envs/dl-cv-robotics/lib/python3.8/site-packages (from astunparse>=1.6.0->tensorflow<=2.13.1) (0.41.2)\n",
      "Requirement already satisfied: google-auth<3,>=1.6.3 in /home/adrian/anaconda3/envs/dl-cv-robotics/lib/python3.8/site-packages (from tensorboard<2.14,>=2.13->tensorflow<=2.13.1) (2.29.0)\n",
      "Requirement already satisfied: google-auth-oauthlib<1.1,>=0.5 in /home/adrian/anaconda3/envs/dl-cv-robotics/lib/python3.8/site-packages (from tensorboard<2.14,>=2.13->tensorflow<=2.13.1) (1.0.0)\n",
      "Requirement already satisfied: markdown>=2.6.8 in /home/adrian/anaconda3/envs/dl-cv-robotics/lib/python3.8/site-packages (from tensorboard<2.14,>=2.13->tensorflow<=2.13.1) (3.6)\n",
      "Requirement already satisfied: requests<3,>=2.21.0 in /home/adrian/anaconda3/envs/dl-cv-robotics/lib/python3.8/site-packages (from tensorboard<2.14,>=2.13->tensorflow<=2.13.1) (2.31.0)\n",
      "Requirement already satisfied: tensorboard-data-server<0.8.0,>=0.7.0 in /home/adrian/anaconda3/envs/dl-cv-robotics/lib/python3.8/site-packages (from tensorboard<2.14,>=2.13->tensorflow<=2.13.1) (0.7.2)\n",
      "Requirement already satisfied: werkzeug>=1.0.1 in /home/adrian/anaconda3/envs/dl-cv-robotics/lib/python3.8/site-packages (from tensorboard<2.14,>=2.13->tensorflow<=2.13.1) (3.0.2)\n",
      "Requirement already satisfied: cachetools<6.0,>=2.0.0 in /home/adrian/anaconda3/envs/dl-cv-robotics/lib/python3.8/site-packages (from google-auth<3,>=1.6.3->tensorboard<2.14,>=2.13->tensorflow<=2.13.1) (5.3.3)\n",
      "Requirement already satisfied: pyasn1-modules>=0.2.1 in /home/adrian/anaconda3/envs/dl-cv-robotics/lib/python3.8/site-packages (from google-auth<3,>=1.6.3->tensorboard<2.14,>=2.13->tensorflow<=2.13.1) (0.4.0)\n",
      "Requirement already satisfied: rsa<5,>=3.1.4 in /home/adrian/anaconda3/envs/dl-cv-robotics/lib/python3.8/site-packages (from google-auth<3,>=1.6.3->tensorboard<2.14,>=2.13->tensorflow<=2.13.1) (4.9)\n",
      "Requirement already satisfied: requests-oauthlib>=0.7.0 in /home/adrian/anaconda3/envs/dl-cv-robotics/lib/python3.8/site-packages (from google-auth-oauthlib<1.1,>=0.5->tensorboard<2.14,>=2.13->tensorflow<=2.13.1) (2.0.0)\n",
      "Requirement already satisfied: importlib-metadata>=4.4 in /home/adrian/anaconda3/envs/dl-cv-robotics/lib/python3.8/site-packages (from markdown>=2.6.8->tensorboard<2.14,>=2.13->tensorflow<=2.13.1) (7.1.0)\n",
      "Requirement already satisfied: charset-normalizer<4,>=2 in /home/adrian/anaconda3/envs/dl-cv-robotics/lib/python3.8/site-packages (from requests<3,>=2.21.0->tensorboard<2.14,>=2.13->tensorflow<=2.13.1) (3.3.2)\n",
      "Requirement already satisfied: idna<4,>=2.5 in /home/adrian/anaconda3/envs/dl-cv-robotics/lib/python3.8/site-packages (from requests<3,>=2.21.0->tensorboard<2.14,>=2.13->tensorflow<=2.13.1) (3.7)\n",
      "Requirement already satisfied: urllib3<3,>=1.21.1 in /home/adrian/anaconda3/envs/dl-cv-robotics/lib/python3.8/site-packages (from requests<3,>=2.21.0->tensorboard<2.14,>=2.13->tensorflow<=2.13.1) (2.2.1)\n",
      "Requirement already satisfied: certifi>=2017.4.17 in /home/adrian/anaconda3/envs/dl-cv-robotics/lib/python3.8/site-packages (from requests<3,>=2.21.0->tensorboard<2.14,>=2.13->tensorflow<=2.13.1) (2024.2.2)\n",
      "Requirement already satisfied: MarkupSafe>=2.1.1 in /home/adrian/anaconda3/envs/dl-cv-robotics/lib/python3.8/site-packages (from werkzeug>=1.0.1->tensorboard<2.14,>=2.13->tensorflow<=2.13.1) (2.1.5)\n",
      "Requirement already satisfied: zipp>=0.5 in /home/adrian/anaconda3/envs/dl-cv-robotics/lib/python3.8/site-packages (from importlib-metadata>=4.4->markdown>=2.6.8->tensorboard<2.14,>=2.13->tensorflow<=2.13.1) (3.18.1)\n",
      "Requirement already satisfied: pyasn1<0.7.0,>=0.4.6 in /home/adrian/anaconda3/envs/dl-cv-robotics/lib/python3.8/site-packages (from pyasn1-modules>=0.2.1->google-auth<3,>=1.6.3->tensorboard<2.14,>=2.13->tensorflow<=2.13.1) (0.6.0)\n",
      "Requirement already satisfied: oauthlib>=3.0.0 in /home/adrian/anaconda3/envs/dl-cv-robotics/lib/python3.8/site-packages (from requests-oauthlib>=0.7.0->google-auth-oauthlib<1.1,>=0.5->tensorboard<2.14,>=2.13->tensorflow<=2.13.1) (3.2.2)\n",
      "\n",
      "\u001b[31m\u001b[1mrequirements:\u001b[0m AutoUpdate success ✅ 0.7s, installed 1 package: ['tensorflow<=2.13.1']\n",
      "\u001b[31m\u001b[1mrequirements:\u001b[0m ⚠️ \u001b[1mRestart runtime or rerun command for updates to take effect\u001b[0m\n",
      "\n",
      "\u001b[34m\u001b[1mTensorFlow SavedModel:\u001b[0m export failure ❌ 0.7s: No module named 'tensorflow'\n",
      "ERROR ❌️ Benchmark failure for TensorFlow GraphDef: No module named 'tensorflow'\n",
      "ERROR ❌️ Benchmark failure for TensorFlow Lite: inference not supported on GPU\n",
      "ERROR ❌️ Benchmark failure for TensorFlow Edge TPU: inference not supported on GPU\n",
      "ERROR ❌️ Benchmark failure for TensorFlow.js: inference not supported on GPU\n",
      "\n",
      "\u001b[34m\u001b[1mPyTorch:\u001b[0m starting from 'models/YOLO.pt' with input shape (1, 3, 640, 640) BCHW and output shape(s) (1, 5, 8400) (49.6 MB)\n",
      "\u001b[31m\u001b[1mrequirements:\u001b[0m Ultralytics requirements ['paddlepaddle', 'x2paddle'] not found, attempting AutoUpdate...\n"
     ]
    },
    {
     "name": "stderr",
     "output_type": "stream",
     "text": [
      "\u001b[31mERROR: Operation cancelled by user\u001b[0m\u001b[31m\n",
      "\u001b[0m"
     ]
    },
    {
     "name": "stdout",
     "output_type": "stream",
     "text": [
      "Retry 1/2 failed: \n",
      "\u001b[31m\u001b[1mrequirements:\u001b[0m AutoUpdate success ✅ 5.0s, installed 2 packages: ['paddlepaddle', 'x2paddle']\n",
      "\u001b[31m\u001b[1mrequirements:\u001b[0m ⚠️ \u001b[1mRestart runtime or rerun command for updates to take effect\u001b[0m\n",
      "\n",
      "\u001b[34m\u001b[1mPaddlePaddle:\u001b[0m export failure ❌ 5.0s: No module named 'x2paddle'\n",
      "ERROR ❌️ Benchmark failure for PaddlePaddle: No module named 'x2paddle'\n",
      "\n",
      "\u001b[34m\u001b[1mPyTorch:\u001b[0m starting from 'models/YOLO.pt' with input shape (1, 3, 640, 640) BCHW and output shape(s) (1, 5, 8400) (49.6 MB)\n",
      "\n",
      "\u001b[34m\u001b[1mTorchScript:\u001b[0m starting export with torch 2.2.2+cu121...\n",
      "\u001b[34m\u001b[1mTorchScript:\u001b[0m export success ✅ 0.7s, saved as 'models/YOLO.torchscript' (99.1 MB)\n",
      "\u001b[31m\u001b[1mrequirements:\u001b[0m Ultralytics requirement ['ncnn'] not found, attempting AutoUpdate...\n"
     ]
    }
   ],
   "source": [
    "benchmark(model='models/YOLO.pt', data='training_data/YOLO/PacMan.yaml', imgsz=640, half=False, device=0)"
   ]
  },
  {
   "cell_type": "markdown",
   "metadata": {
    "jp-MarkdownHeadingCollapsed": true
   },
   "source": [
    "## Perform a detection-navigation loop to collect all objects.\n",
    "This will be the main bulk of your implementation, utilising the trained models from the above cells. In each loop of the program we will want to:\n",
    "-  Get current view into the scene, and use the trained model to detect the sphere\n",
    "-  Collect the sphere by moving towards it. If you land close enough to the object it will be automatically captured and removed from the scene. \n"
   ]
  },
  {
   "cell_type": "code",
   "execution_count": 5,
   "metadata": {},
   "outputs": [],
   "source": [
    "def predict_target_position(model, image, mapx, mapy, mapz, depth):\n",
    "    # Run inference on the image using your YOLO model\n",
    "    results = model(image)\n",
    "\n",
    "    # Process the results\n",
    "    for result in results:\n",
    "        boxes = result.boxes\n",
    "\n",
    "        # Check if any target spheres are detected\n",
    "        if len(boxes) > 0:\n",
    "            # Get the bounding box coordinates of the first detected sphere\n",
    "            target_bbox = boxes[0].xyxy.cpu().numpy().squeeze()\n",
    "\n",
    "            # Get the center coordinates of the target bounding box\n",
    "            center_x = (target_bbox[0] + target_bbox[2]) // 2\n",
    "            center_y = (target_bbox[1] + target_bbox[3]) // 2\n",
    "\n",
    "            # Get the corresponding 3d coordinates and depth value\n",
    "            target_x = mapx[int(center_y), int(center_x)]\n",
    "            target_y = mapy[int(center_y), int(center_x)]\n",
    "            target_z = mapz[int(center_y), int(center_x)]\n",
    "            target_depth = depth[int(center_y), int(center_x)]\n",
    "\n",
    "            # Create the target position array\n",
    "            target_position = np.array([target_x, target_y, target_z])\n",
    "\n",
    "            return target_position\n",
    "\n",
    "    # Return None if no target spheres are detected\n",
    "    return None"
   ]
  },
  {
   "cell_type": "code",
   "execution_count": 6,
   "metadata": {},
   "outputs": [],
   "source": [
    "def capture_spheres(global_cloud, spheres_collected):\n",
    "\n",
    "    # Conifigurations\n",
    "    # Load the pre-trained YOLO model\n",
    "    model = YOLO('models/YOLO.pt')\n",
    "\n",
    "    # Initialise position and angle variables\n",
    "    position = np.zeros(3)\n",
    "    angle = np.zeros(3)\n",
    "\n",
    "    # Maximum number of iterations\n",
    "    max_iterations = 100\n",
    "\n",
    "    # Angle step size for steering\n",
    "    angle_step = np.pi / 2  # 90 degrees\n",
    "\n",
    "    # Position step size for movement\n",
    "    position_step = 1\n",
    "\n",
    "    # maximum number of consecutive no detections before moving\n",
    "    max_no_detections = 4\n",
    "\n",
    "    # Initialise the consecutive no detections counter\n",
    "    consecutive_no_detections = 0\n",
    "\n",
    "    # Get point cloud bounds\n",
    "    x_range, y_range, z_range = PacMan.calculate_pointcloud_bounds()\n",
    "\n",
    "\n",
    "    # Catching targets\n",
    "    # Iterate until all spheres are collected or the maximum number of iterations is reached\n",
    "    for i in range(max_iterations):\n",
    "        # Capture an image and its corresponding maps\n",
    "        image, mapx, mapy, mapz, depth = PacMan.project_pointcloud_image(global_cloud, angle, position)\n",
    "\n",
    "        # Convert the image to PIL Image format\n",
    "        pil_image = Image.fromarray(np.uint8(image * 255))\n",
    "\n",
    "        # Predict the target position\n",
    "        predicted_position = predict_target_position(model, pil_image, mapx, mapy, mapz, depth)\n",
    "\n",
    "        # Print the current position and angle\n",
    "        print(f\"Current Position: {position}\")\n",
    "        print(f\"Current Angle: {angle}\")\n",
    "\n",
    "        if predicted_position is not None:\n",
    "            # Reset the consecutive no detections counter\n",
    "            consecutive_no_detections = 0\n",
    "\n",
    "            # Update the current position to the predicted target position\n",
    "            position = predicted_position\n",
    "\n",
    "            # Update the scene and check if the sphere is captured\n",
    "            prev_collected_count = sum(spheres_collected)\n",
    "            global_cloud, spheres_collected = PacMan.update_scene(position, spheres_collected)\n",
    "\n",
    "            # Check if a new sphere is captured\n",
    "            if sum(spheres_collected) > prev_collected_count:\n",
    "                # Print the number of spheres collected\n",
    "                print(f\"Spheres Collected: {sum(spheres_collected)}\")\n",
    "                print(\"---\")\n",
    "\n",
    "            # Check if all spheres are collected\n",
    "            if all(spheres_collected):\n",
    "                print(\"One shot clear!\")\n",
    "                break\n",
    "        else:\n",
    "            # Increment the consecutive no detections counter\n",
    "            consecutive_no_detections += 1\n",
    "\n",
    "            # If the consecutive no detections exceed the maximum limit\n",
    "            if consecutive_no_detections >= max_no_detections:\n",
    "                # Reset the consecutive no detections counter\n",
    "                consecutive_no_detections = 0\n",
    "\n",
    "                # Move the camera position based on the current angle\n",
    "                position[0] += position_step * np.cos(angle[1])  # Move in the x-direction\n",
    "                position[2] += position_step * np.sin(angle[1])  # Move in the z-direction\n",
    "\n",
    "                # Check if new position is within boundaries, otherwise reverse angle\n",
    "                if not (0 <= position[0] <= x_range and 0 <= position[2] <= z_range):\n",
    "                    angle[1] += np.pi / 2  # Reverse direction\n",
    "\n",
    "            # Normalize the angle to keep it within the range [-pi, pi]\n",
    "            angle[1] = np.arctan2(np.sin(angle[1]), np.cos(angle[1]))\n",
    "\n",
    "    print(\"Capturing spheres completed.\")\n",
    "    \n",
    "    # Visualise the final 3D world using Open3D\n",
    "    return global_cloud"
   ]
  },
  {
   "cell_type": "code",
   "execution_count": 7,
   "metadata": {
    "scrolled": true
   },
   "outputs": [
    {
     "name": "stdout",
     "output_type": "stream",
     "text": [
      "\n",
      "0: 448x640 3 targets, 55.6ms\n",
      "Speed: 2.1ms preprocess, 55.6ms inference, 187.2ms postprocess per image at shape (1, 3, 448, 640)\n",
      "Current Position: [          0           0           0]\n",
      "Current Angle: [          0           0           0]\n",
      "Spheres Collected: 1\n",
      "---\n",
      "\n",
      "0: 448x640 3 targets, 8.3ms\n",
      "Speed: 0.7ms preprocess, 8.3ms inference, 0.5ms postprocess per image at shape (1, 3, 448, 640)\n",
      "Current Position: [   -0.18764    0.057548      2.3094]\n",
      "Current Angle: [          0           0           0]\n",
      "Spheres Collected: 2\n",
      "---\n",
      "\n",
      "0: 448x640 2 targets, 8.3ms\n",
      "Speed: 0.7ms preprocess, 8.3ms inference, 0.6ms postprocess per image at shape (1, 3, 448, 640)\n",
      "Current Position: [   -0.31516   -0.034299      4.6735]\n",
      "Current Angle: [          0           0           0]\n",
      "Spheres Collected: 3\n",
      "---\n",
      "\n",
      "0: 448x640 2 targets, 7.8ms\n",
      "Speed: 0.7ms preprocess, 7.8ms inference, 0.5ms postprocess per image at shape (1, 3, 448, 640)\n",
      "Current Position: [   -0.92114     0.19851      7.0118]\n",
      "Current Angle: [          0           0           0]\n",
      "Spheres Collected: 4\n",
      "---\n",
      "\n",
      "0: 448x640 1 target, 7.9ms\n",
      "Speed: 0.7ms preprocess, 7.9ms inference, 1.1ms postprocess per image at shape (1, 3, 448, 640)\n",
      "Current Position: [     -1.039     0.62021      9.3786]\n",
      "Current Angle: [          0           0           0]\n",
      "Spheres Collected: 5\n",
      "---\n",
      "\n",
      "0: 448x640 (no detections), 7.8ms\n",
      "Speed: 0.8ms preprocess, 7.8ms inference, 0.3ms postprocess per image at shape (1, 3, 448, 640)\n",
      "Current Position: [    -1.8852     0.77218      12.179]\n",
      "Current Angle: [          0           0           0]\n",
      "\n",
      "0: 448x640 (no detections), 8.1ms\n",
      "Speed: 0.7ms preprocess, 8.1ms inference, 0.4ms postprocess per image at shape (1, 3, 448, 640)\n",
      "Current Position: [    -1.8852     0.77218      12.179]\n",
      "Current Angle: [          0           0           0]\n",
      "\n",
      "0: 448x640 (no detections), 7.9ms\n",
      "Speed: 0.7ms preprocess, 7.9ms inference, 0.4ms postprocess per image at shape (1, 3, 448, 640)\n",
      "Current Position: [    -1.8852     0.77218      12.179]\n",
      "Current Angle: [          0           0           0]\n",
      "\n",
      "0: 448x640 (no detections), 7.8ms\n",
      "Speed: 0.7ms preprocess, 7.8ms inference, 0.3ms postprocess per image at shape (1, 3, 448, 640)\n",
      "Current Position: [    -1.8852     0.77218      12.179]\n",
      "Current Angle: [          0           0           0]\n",
      "\n",
      "0: 448x640 (no detections), 7.5ms\n",
      "Speed: 0.7ms preprocess, 7.5ms inference, 0.4ms postprocess per image at shape (1, 3, 448, 640)\n",
      "Current Position: [   -0.88521     0.77218      12.179]\n",
      "Current Angle: [          0      1.5708           0]\n",
      "\n",
      "0: 448x640 (no detections), 7.8ms\n",
      "Speed: 0.7ms preprocess, 7.8ms inference, 0.3ms postprocess per image at shape (1, 3, 448, 640)\n",
      "Current Position: [   -0.88521     0.77218      12.179]\n",
      "Current Angle: [          0      1.5708           0]\n",
      "\n",
      "0: 448x640 (no detections), 7.8ms\n",
      "Speed: 0.7ms preprocess, 7.8ms inference, 0.2ms postprocess per image at shape (1, 3, 448, 640)\n",
      "Current Position: [   -0.88521     0.77218      12.179]\n",
      "Current Angle: [          0      1.5708           0]\n",
      "\n",
      "0: 448x640 (no detections), 8.0ms\n",
      "Speed: 0.7ms preprocess, 8.0ms inference, 0.4ms postprocess per image at shape (1, 3, 448, 640)\n",
      "Current Position: [   -0.88521     0.77218      12.179]\n",
      "Current Angle: [          0      1.5708           0]\n",
      "\n",
      "0: 448x640 (no detections), 7.8ms\n",
      "Speed: 0.7ms preprocess, 7.8ms inference, 0.2ms postprocess per image at shape (1, 3, 448, 640)\n",
      "Current Position: [   -0.88521     0.77218      13.179]\n",
      "Current Angle: [          0      3.1416           0]\n",
      "\n",
      "0: 448x640 (no detections), 7.8ms\n",
      "Speed: 0.7ms preprocess, 7.8ms inference, 0.3ms postprocess per image at shape (1, 3, 448, 640)\n",
      "Current Position: [   -0.88521     0.77218      13.179]\n",
      "Current Angle: [          0      3.1416           0]\n",
      "\n",
      "0: 448x640 (no detections), 7.9ms\n",
      "Speed: 0.7ms preprocess, 7.9ms inference, 0.3ms postprocess per image at shape (1, 3, 448, 640)\n",
      "Current Position: [   -0.88521     0.77218      13.179]\n",
      "Current Angle: [          0      3.1416           0]\n",
      "\n",
      "0: 448x640 (no detections), 7.8ms\n",
      "Speed: 0.7ms preprocess, 7.8ms inference, 0.3ms postprocess per image at shape (1, 3, 448, 640)\n",
      "Current Position: [   -0.88521     0.77218      13.179]\n",
      "Current Angle: [          0      3.1416           0]\n",
      "\n",
      "0: 448x640 3 targets, 7.8ms\n",
      "Speed: 0.7ms preprocess, 7.8ms inference, 0.5ms postprocess per image at shape (1, 3, 448, 640)\n",
      "Current Position: [    -1.8852     0.77218      13.179]\n",
      "Current Angle: [          0     -1.5708           0]\n",
      "Spheres Collected: 6\n",
      "---\n",
      "\n",
      "0: 448x640 2 targets, 7.9ms\n",
      "Speed: 0.7ms preprocess, 7.9ms inference, 0.5ms postprocess per image at shape (1, 3, 448, 640)\n",
      "Current Position: [    -3.7224      1.0704      13.009]\n",
      "Current Angle: [          0     -1.5708           0]\n",
      "Spheres Collected: 7\n",
      "---\n",
      "\n",
      "0: 448x640 (no detections), 7.8ms\n",
      "Speed: 0.7ms preprocess, 7.8ms inference, 0.3ms postprocess per image at shape (1, 3, 448, 640)\n",
      "Current Position: [    -6.5565      1.4556      13.226]\n",
      "Current Angle: [          0     -1.5708           0]\n",
      "\n",
      "0: 448x640 (no detections), 7.8ms\n",
      "Speed: 0.7ms preprocess, 7.8ms inference, 0.4ms postprocess per image at shape (1, 3, 448, 640)\n",
      "Current Position: [    -6.5565      1.4556      13.226]\n",
      "Current Angle: [          0     -1.5708           0]\n",
      "\n",
      "0: 448x640 (no detections), 7.9ms\n",
      "Speed: 0.7ms preprocess, 7.9ms inference, 0.3ms postprocess per image at shape (1, 3, 448, 640)\n",
      "Current Position: [    -6.5565      1.4556      13.226]\n",
      "Current Angle: [          0     -1.5708           0]\n",
      "\n",
      "0: 448x640 (no detections), 8.2ms\n",
      "Speed: 0.7ms preprocess, 8.2ms inference, 0.4ms postprocess per image at shape (1, 3, 448, 640)\n",
      "Current Position: [    -6.5565      1.4556      13.226]\n",
      "Current Angle: [          0     -1.5708           0]\n",
      "\n",
      "0: 448x640 (no detections), 7.9ms\n",
      "Speed: 0.7ms preprocess, 7.9ms inference, 0.3ms postprocess per image at shape (1, 3, 448, 640)\n",
      "Current Position: [    -6.5565      1.4556      12.226]\n",
      "Current Angle: [          0 -2.2204e-16           0]\n",
      "\n",
      "0: 448x640 (no detections), 7.9ms\n",
      "Speed: 0.7ms preprocess, 7.9ms inference, 0.4ms postprocess per image at shape (1, 3, 448, 640)\n",
      "Current Position: [    -6.5565      1.4556      12.226]\n",
      "Current Angle: [          0 -2.2204e-16           0]\n",
      "\n",
      "0: 448x640 (no detections), 7.9ms\n",
      "Speed: 0.7ms preprocess, 7.9ms inference, 0.3ms postprocess per image at shape (1, 3, 448, 640)\n",
      "Current Position: [    -6.5565      1.4556      12.226]\n",
      "Current Angle: [          0 -2.2204e-16           0]\n",
      "\n",
      "0: 448x640 (no detections), 7.8ms\n",
      "Speed: 0.7ms preprocess, 7.8ms inference, 0.3ms postprocess per image at shape (1, 3, 448, 640)\n",
      "Current Position: [    -6.5565      1.4556      12.226]\n",
      "Current Angle: [          0 -2.2204e-16           0]\n",
      "\n",
      "0: 448x640 (no detections), 7.8ms\n",
      "Speed: 0.7ms preprocess, 7.8ms inference, 0.2ms postprocess per image at shape (1, 3, 448, 640)\n",
      "Current Position: [    -5.5565      1.4556      12.226]\n",
      "Current Angle: [          0      1.5708           0]\n",
      "\n",
      "0: 448x640 (no detections), 8.2ms\n",
      "Speed: 0.7ms preprocess, 8.2ms inference, 0.7ms postprocess per image at shape (1, 3, 448, 640)\n",
      "Current Position: [    -5.5565      1.4556      12.226]\n",
      "Current Angle: [          0      1.5708           0]\n",
      "\n",
      "0: 448x640 (no detections), 7.9ms\n",
      "Speed: 0.7ms preprocess, 7.9ms inference, 0.2ms postprocess per image at shape (1, 3, 448, 640)\n",
      "Current Position: [    -5.5565      1.4556      12.226]\n",
      "Current Angle: [          0      1.5708           0]\n",
      "\n",
      "0: 448x640 (no detections), 7.9ms\n",
      "Speed: 0.7ms preprocess, 7.9ms inference, 0.3ms postprocess per image at shape (1, 3, 448, 640)\n",
      "Current Position: [    -5.5565      1.4556      12.226]\n",
      "Current Angle: [          0      1.5708           0]\n",
      "\n",
      "0: 448x640 1 target, 7.9ms\n",
      "Speed: 0.7ms preprocess, 7.9ms inference, 0.5ms postprocess per image at shape (1, 3, 448, 640)\n",
      "Current Position: [    -5.5565      1.4556      13.226]\n",
      "Current Angle: [          0      3.1416           0]\n",
      "\n",
      "0: 448x640 1 target, 7.9ms\n",
      "Speed: 0.7ms preprocess, 7.9ms inference, 0.5ms postprocess per image at shape (1, 3, 448, 640)\n",
      "Current Position: [     -6.396      1.6119      11.068]\n",
      "Current Angle: [          0      3.1416           0]\n",
      "Spheres Collected: 8\n",
      "---\n",
      "\n",
      "0: 448x640 (no detections), 7.9ms\n",
      "Speed: 0.7ms preprocess, 7.9ms inference, 0.3ms postprocess per image at shape (1, 3, 448, 640)\n",
      "Current Position: [    -8.9571      2.0708      4.5283]\n",
      "Current Angle: [          0      3.1416           0]\n",
      "\n",
      "0: 448x640 (no detections), 7.5ms\n",
      "Speed: 0.7ms preprocess, 7.5ms inference, 0.2ms postprocess per image at shape (1, 3, 448, 640)\n",
      "Current Position: [    -8.9571      2.0708      4.5283]\n",
      "Current Angle: [          0      3.1416           0]\n",
      "\n",
      "0: 448x640 (no detections), 7.5ms\n",
      "Speed: 0.7ms preprocess, 7.5ms inference, 0.2ms postprocess per image at shape (1, 3, 448, 640)\n",
      "Current Position: [    -8.9571      2.0708      4.5283]\n",
      "Current Angle: [          0      3.1416           0]\n",
      "\n",
      "0: 448x640 (no detections), 7.9ms\n",
      "Speed: 0.8ms preprocess, 7.9ms inference, 0.4ms postprocess per image at shape (1, 3, 448, 640)\n",
      "Current Position: [    -8.9571      2.0708      4.5283]\n",
      "Current Angle: [          0      3.1416           0]\n",
      "\n",
      "0: 448x640 (no detections), 8.4ms\n",
      "Speed: 0.7ms preprocess, 8.4ms inference, 0.3ms postprocess per image at shape (1, 3, 448, 640)\n",
      "Current Position: [    -9.9571      2.0708      4.5283]\n",
      "Current Angle: [          0     -1.5708           0]\n",
      "\n",
      "0: 448x640 (no detections), 7.9ms\n",
      "Speed: 0.7ms preprocess, 7.9ms inference, 0.3ms postprocess per image at shape (1, 3, 448, 640)\n",
      "Current Position: [    -9.9571      2.0708      4.5283]\n",
      "Current Angle: [          0     -1.5708           0]\n",
      "\n",
      "0: 448x640 (no detections), 7.5ms\n",
      "Speed: 0.7ms preprocess, 7.5ms inference, 0.2ms postprocess per image at shape (1, 3, 448, 640)\n",
      "Current Position: [    -9.9571      2.0708      4.5283]\n",
      "Current Angle: [          0     -1.5708           0]\n",
      "\n",
      "0: 448x640 (no detections), 7.8ms\n",
      "Speed: 0.7ms preprocess, 7.8ms inference, 0.3ms postprocess per image at shape (1, 3, 448, 640)\n",
      "Current Position: [    -9.9571      2.0708      4.5283]\n",
      "Current Angle: [          0     -1.5708           0]\n",
      "\n",
      "0: 448x640 2 targets, 7.9ms\n",
      "Speed: 0.7ms preprocess, 7.9ms inference, 0.6ms postprocess per image at shape (1, 3, 448, 640)\n",
      "Current Position: [    -9.9571      2.0708      3.5283]\n",
      "Current Angle: [          0 -2.2204e-16           0]\n",
      "\n",
      "0: 448x640 3 targets, 8.3ms\n",
      "Speed: 0.7ms preprocess, 8.3ms inference, 0.5ms postprocess per image at shape (1, 3, 448, 640)\n",
      "Current Position: [    -9.4606      1.9189      6.1284]\n",
      "Current Angle: [          0 -2.2204e-16           0]\n",
      "Spheres Collected: 9\n",
      "---\n",
      "\n",
      "0: 448x640 1 target, 7.9ms\n",
      "Speed: 0.7ms preprocess, 7.9ms inference, 0.8ms postprocess per image at shape (1, 3, 448, 640)\n",
      "Current Position: [    -9.4031      1.8222       9.556]\n",
      "Current Angle: [          0 -2.2204e-16           0]\n",
      "Spheres Collected: 10\n",
      "---\n",
      "\n",
      "0: 448x640 (no detections), 7.5ms\n",
      "Speed: 0.7ms preprocess, 7.5ms inference, 0.2ms postprocess per image at shape (1, 3, 448, 640)\n",
      "Current Position: [    -9.0113      1.6765      11.359]\n",
      "Current Angle: [          0 -2.2204e-16           0]\n",
      "\n",
      "0: 448x640 (no detections), 7.9ms\n",
      "Speed: 0.7ms preprocess, 7.9ms inference, 0.3ms postprocess per image at shape (1, 3, 448, 640)\n",
      "Current Position: [    -9.0113      1.6765      11.359]\n",
      "Current Angle: [          0 -2.2204e-16           0]\n",
      "\n",
      "0: 448x640 (no detections), 7.9ms\n",
      "Speed: 0.8ms preprocess, 7.9ms inference, 0.3ms postprocess per image at shape (1, 3, 448, 640)\n",
      "Current Position: [    -9.0113      1.6765      11.359]\n",
      "Current Angle: [          0 -2.2204e-16           0]\n",
      "\n",
      "0: 448x640 (no detections), 7.5ms\n",
      "Speed: 0.7ms preprocess, 7.5ms inference, 0.2ms postprocess per image at shape (1, 3, 448, 640)\n",
      "Current Position: [    -9.0113      1.6765      11.359]\n",
      "Current Angle: [          0 -2.2204e-16           0]\n",
      "\n",
      "0: 448x640 (no detections), 7.8ms\n",
      "Speed: 0.7ms preprocess, 7.8ms inference, 0.3ms postprocess per image at shape (1, 3, 448, 640)\n",
      "Current Position: [    -8.0113      1.6765      11.359]\n",
      "Current Angle: [          0      1.5708           0]\n",
      "\n",
      "0: 448x640 (no detections), 7.5ms\n",
      "Speed: 0.7ms preprocess, 7.5ms inference, 0.4ms postprocess per image at shape (1, 3, 448, 640)\n",
      "Current Position: [    -8.0113      1.6765      11.359]\n",
      "Current Angle: [          0      1.5708           0]\n",
      "\n",
      "0: 448x640 (no detections), 8.4ms\n",
      "Speed: 0.7ms preprocess, 8.4ms inference, 0.3ms postprocess per image at shape (1, 3, 448, 640)\n",
      "Current Position: [    -8.0113      1.6765      11.359]\n",
      "Current Angle: [          0      1.5708           0]\n",
      "\n",
      "0: 448x640 (no detections), 8.3ms\n",
      "Speed: 0.7ms preprocess, 8.3ms inference, 0.3ms postprocess per image at shape (1, 3, 448, 640)\n",
      "Current Position: [    -8.0113      1.6765      11.359]\n",
      "Current Angle: [          0      1.5708           0]\n",
      "\n",
      "0: 448x640 1 target, 7.9ms\n",
      "Speed: 0.7ms preprocess, 7.9ms inference, 0.5ms postprocess per image at shape (1, 3, 448, 640)\n",
      "Current Position: [    -8.0113      1.6765      12.359]\n",
      "Current Angle: [          0      3.1416           0]\n",
      "Spheres Collected: 11\n",
      "---\n",
      "One shot clear!\n",
      "Capturing spheres completed.\n",
      "Elapsed Time: 23.1654 seconds\n"
     ]
    }
   ],
   "source": [
    "start_time = time.time()\n",
    "final_world = capture_spheres(global_cloud, spheres_collected)\n",
    "elapsed_time = time.time() - start_time\n",
    "print(f'Elapsed Time: {elapsed_time:.4f} seconds') "
   ]
  },
  {
   "cell_type": "markdown",
   "metadata": {
    "jp-MarkdownHeadingCollapsed": true
   },
   "source": [
    "## Display the Result\n"
   ]
  },
  {
   "cell_type": "code",
   "execution_count": 12,
   "metadata": {},
   "outputs": [],
   "source": [
    "np.save('training_data/npy/final_world_positions.npy', final_world['Positions'])\n",
    "np.save('training_data/npy/final_world_colors.npy', final_world['Colors'])"
   ]
  },
  {
   "cell_type": "code",
   "execution_count": 13,
   "metadata": {},
   "outputs": [],
   "source": [
    "pcd = open3d.geometry.PointCloud(open3d.utility.Vector3dVector(final_world['Positions']))\n",
    "pcd.colors = open3d.utility.Vector3dVector(final_world['Colors']/255)\n",
    "\n",
    "open3d.visualization.draw_geometries([pcd])"
   ]
  }
 ],
 "metadata": {
  "kernelspec": {
   "display_name": "Python 3 (ipykernel)",
   "language": "python",
   "name": "python3"
  },
  "language_info": {
   "codemirror_mode": {
    "name": "ipython",
    "version": 3
   },
   "file_extension": ".py",
   "mimetype": "text/x-python",
   "name": "python",
   "nbconvert_exporter": "python",
   "pygments_lexer": "ipython3",
   "version": "3.11.7"
  }
 },
 "nbformat": 4,
 "nbformat_minor": 4
}
