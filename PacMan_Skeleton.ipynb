{
 "cells": [
  {
   "cell_type": "markdown",
   "metadata": {},
   "source": [
    "# COMP52715 Coursework: Task 1 - 3D PacMan\n",
    "Task 1 is to complete the below skeleton code to play a Pac-Man-esque game in 3D. You are allowed to utilise the deep learning method discussed in the course. It is designed to test multiple components of the module syllabus, including 3D geometry, object detection and image manipulation.\n",
    "\n",
    "The aim of the coursework is to step through a 3D pointcloud of the mysterious PhD lab. Several large spheres have been placed within the space, it is your job to move through the pointcloud in an automated fashion, detecting the location of the sphere and moving to the predicted 3D location. If you land close enough to a sphere it will be captured and removed from the pointcloud. \n",
    "\n",
    "You will need to design deep neural networks to detect the spheres within an image. You can then use the helper function provided in the PacMan_Helper.py module to obtain the XYZ coordinates of the pixel you predict to be a sphere.\n"
   ]
  },
  {
   "cell_type": "markdown",
   "metadata": {},
   "source": [
    "## Imports\n",
    "Here we will do our usual imports. I would recommend numpy, scipy, skimage, sklearn, pytorch, and matplotlib. If you wish to utilise pointcloud visualisation then you can do that as described in the handout via Open3D. We will want to import our PacMan_Helper module as well."
   ]
  },
  {
   "cell_type": "code",
   "execution_count": null,
   "metadata": {},
   "outputs": [],
   "source": [
    "import PacMan_Helper as PacMan\n",
    "# import any package that requires"
   ]
  },
  {
   "cell_type": "markdown",
   "metadata": {},
   "source": [
    "## Game setup.\n",
    "This cell will initialise the game world and add all of our spheres to the world. Do not edit the code here."
   ]
  },
  {
   "cell_type": "code",
   "execution_count": null,
   "metadata": {},
   "outputs": [],
   "source": [
    "# Call startup_scene() to load the initial game scene\n",
    "global_cloud, spheres_collected = PacMan.startup_scene()"
   ]
  },
  {
   "cell_type": "code",
   "execution_count": null,
   "metadata": {},
   "outputs": [],
   "source": [
    "# View our pointcloud if we want\n",
    "pcd = open3d.geometry.PointCloud(open3d.utility.Vector3dVector(global_cloud['Positions']))\n",
    "pcd.colors = open3d.utility.Vector3dVector(global_cloud['Colors']/255)\n",
    "\n",
    "open3d.visualization.draw_geometries([pcd])"
   ]
  },
  {
   "cell_type": "markdown",
   "metadata": {},
   "source": [
    "## Load the training data: Positives and Negatives\n",
    "In the handout zip file there is a directory which contains numerous patches extracted from sample images. These patches are labelled as either containing a sphere or not. You may wish to use these to train a classifier for sphere detection. This classifier can then be used later to detect spheres and move our camera towards them."
   ]
  },
  {
   "cell_type": "code",
   "execution_count": null,
   "metadata": {
    "scrolled": true
   },
   "outputs": [],
   "source": [
    "# Get the training samples for both positive and negative patches\n"
   ]
  },
  {
   "cell_type": "markdown",
   "metadata": {},
   "source": [
    "## You are required to attempt both Basic Solution and Advance Solution"
   ]
  },
  {
   "cell_type": "markdown",
   "metadata": {},
   "source": [
    "## Basic Solution : Train a DNN based binary classifier\n",
    "Depending on your desired apporach, you may want to build a simple binary classification using the training patches you have been given. These can then be used to detect whether the image patch contains the target or not. Several backbone networks are talked about both in the lectures and labs. "
   ]
  },
  {
   "cell_type": "code",
   "execution_count": null,
   "metadata": {},
   "outputs": [],
   "source": [
    "# Train a classification model to perform binary classification of the patch into whether it contains a sphere or not."
   ]
  },
  {
   "cell_type": "markdown",
   "metadata": {},
   "source": [
    "## Advance Solution : Train a DNN based object detector\n",
    "Depending on your desired apporach, you may want to create a suitable dataset using both the training patches you have been given and the 3D point cloud dataset. These can then be used to train our desired object detector to detect the target in the image. Several object detection frameworks are talked about both in the lectures and labs. "
   ]
  },
  {
   "cell_type": "code",
   "execution_count": null,
   "metadata": {},
   "outputs": [],
   "source": [
    "# Train a detector to perform target object detection."
   ]
  },
  {
   "cell_type": "markdown",
   "metadata": {},
   "source": [
    "## Initialise our starting point in the game and get our first view into the scene\n",
    "We should start the game at a position of XYZ = [0, 0, 0] and a camera angle of [0, 0, 0]. We can then get our first image projected to the camera plane to start our game. "
   ]
  },
  {
   "cell_type": "code",
   "execution_count": null,
   "metadata": {},
   "outputs": [],
   "source": [
    "# Initialise position and angle variable \n",
    "position = np.zeros([3])\n",
    "angle = np.zeros([3])"
   ]
  },
  {
   "cell_type": "code",
   "execution_count": null,
   "metadata": {},
   "outputs": [],
   "source": [
    "# Get the image, XYZ maps and depth map of the current viewpoint into the scene"
   ]
  },
  {
   "cell_type": "markdown",
   "metadata": {},
   "source": [
    "## Perform a detection-navigation loop to collect all objects.\n",
    "This will be the main bulk of your implementation, utilising the trained models from the above cells. In each loop of the program we will want to:\n",
    "-  Get current view into the scene, and use the trained model to detect the sphere\n",
    "-  Collect the sphere by moving towards it. If you land close enough to the object it will be automatically captured and removed from the scene. \n"
   ]
  },
  {
   "cell_type": "code",
   "execution_count": null,
   "metadata": {
    "scrolled": true
   },
   "outputs": [],
   "source": [
    "while not np.all(spheres_collected): # While there are spheres to find\n",
    "# Get current image from viewpoint\n",
    "    \n",
    "# Use the trained model to detect the sphere\n",
    "    \n",
    "# You may use prediction confidences (\"probabilities\") to find the sphere coordinates in 3D\n",
    "\n",
    "# Update camera appropriately\n",
    "    \n",
    "# Update scene if needed"
   ]
  }
 ],
 "metadata": {
  "kernelspec": {
   "display_name": "Python 3 (ipykernel)",
   "language": "python",
   "name": "python3"
  },
  "language_info": {
   "codemirror_mode": {
    "name": "ipython",
    "version": 3
   },
   "file_extension": ".py",
   "mimetype": "text/x-python",
   "name": "python",
   "nbconvert_exporter": "python",
   "pygments_lexer": "ipython3",
   "version": "3.9.13"
  }
 },
 "nbformat": 4,
 "nbformat_minor": 4
}
