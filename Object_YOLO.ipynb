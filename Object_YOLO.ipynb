{
 "cells": [
  {
   "cell_type": "code",
   "execution_count": 1,
   "id": "b2509937-d9ef-414f-8cb8-ceb01e055f33",
   "metadata": {},
   "outputs": [],
   "source": [
    "from ultralytics import YOLO"
   ]
  },
  {
   "cell_type": "code",
   "execution_count": 2,
   "id": "da78f3fe-b7da-4216-92d8-4ae9e12e0f55",
   "metadata": {},
   "outputs": [],
   "source": [
    "# Load a model\n",
    "model = YOLO('models/yolov8m.pt')"
   ]
  },
  {
   "cell_type": "code",
   "execution_count": 3,
   "id": "c1ec1860-3f46-49d9-88e4-3e0135f16687",
   "metadata": {
    "scrolled": true
   },
   "outputs": [
    {
     "name": "stdout",
     "output_type": "stream",
     "text": [
      "Ultralytics YOLOv8.2.2 🚀 Python-3.11.7 torch-2.2.2+cu121 CUDA:0 (NVIDIA GeForce RTX 3070, 7971MiB)\n",
      "\u001b[34m\u001b[1mengine/trainer: \u001b[0mtask=detect, mode=train, model=models/yolov8m.pt, data=training_data/YOLO/PacMan.yaml, epochs=100, time=None, patience=100, batch=16, imgsz=640, save=True, save_period=-1, cache=False, device=None, workers=8, project=None, name=train7, exist_ok=False, pretrained=True, optimizer=auto, verbose=True, seed=0, deterministic=True, single_cls=False, rect=False, cos_lr=False, close_mosaic=10, resume=False, amp=True, fraction=1.0, profile=False, freeze=None, multi_scale=False, overlap_mask=True, mask_ratio=4, dropout=0.0, val=True, split=val, save_json=False, save_hybrid=False, conf=None, iou=0.7, max_det=300, half=False, dnn=False, plots=True, source=None, vid_stride=1, stream_buffer=False, visualize=False, augment=False, agnostic_nms=False, classes=None, retina_masks=False, embed=None, show=False, save_frames=False, save_txt=False, save_conf=False, save_crop=False, show_labels=True, show_conf=True, show_boxes=True, line_width=None, format=torchscript, keras=False, optimize=False, int8=False, dynamic=False, simplify=False, opset=None, workspace=4, nms=False, lr0=0.01, lrf=0.01, momentum=0.937, weight_decay=0.0005, warmup_epochs=3.0, warmup_momentum=0.8, warmup_bias_lr=0.1, box=7.5, cls=0.5, dfl=1.5, pose=12.0, kobj=1.0, label_smoothing=0.0, nbs=64, hsv_h=0.015, hsv_s=0.7, hsv_v=0.4, degrees=0.0, translate=0.1, scale=0.5, shear=0.0, perspective=0.0, flipud=0.0, fliplr=0.5, bgr=0.0, mosaic=1.0, mixup=0.0, copy_paste=0.0, auto_augment=randaugment, erasing=0.4, crop_fraction=1.0, cfg=None, tracker=botsort.yaml, save_dir=runs/detect/train7\n",
      "Downloading https://ultralytics.com/assets/Arial.ttf to '/home/adrian/.config/Ultralytics/Arial.ttf'...\n"
     ]
    },
    {
     "name": "stderr",
     "output_type": "stream",
     "text": [
      "100%|███████████████████████████████████████████████████████████████████████████████████████████████████████████████████████████████████████████████████████████████████████████████████████████████████████████████████████████████████████████| 755k/755k [00:00<00:00, 8.61MB/s]"
     ]
    },
    {
     "name": "stdout",
     "output_type": "stream",
     "text": [
      "Overriding model.yaml nc=80 with nc=1\n",
      "\n",
      "                   from  n    params  module                                       arguments                     \n",
      "  0                  -1  1      1392  ultralytics.nn.modules.conv.Conv             [3, 48, 3, 2]                 \n",
      "  1                  -1  1     41664  ultralytics.nn.modules.conv.Conv             [48, 96, 3, 2]                \n",
      "  2                  -1  2    111360  ultralytics.nn.modules.block.C2f             [96, 96, 2, True]             \n",
      "  3                  -1  1    166272  ultralytics.nn.modules.conv.Conv             [96, 192, 3, 2]               \n",
      "  4                  -1  4    813312  ultralytics.nn.modules.block.C2f             [192, 192, 4, True]           \n",
      "  5                  -1  1    664320  ultralytics.nn.modules.conv.Conv             [192, 384, 3, 2]              \n",
      "  6                  -1  4   3248640  ultralytics.nn.modules.block.C2f             [384, 384, 4, True]           \n",
      "  7                  -1  1   1991808  ultralytics.nn.modules.conv.Conv             [384, 576, 3, 2]              \n",
      "  8                  -1  2   3985920  ultralytics.nn.modules.block.C2f             [576, 576, 2, True]           \n",
      "  9                  -1  1    831168  ultralytics.nn.modules.block.SPPF            [576, 576, 5]                 \n",
      " 10                  -1  1         0  torch.nn.modules.upsampling.Upsample         [None, 2, 'nearest']          \n",
      " 11             [-1, 6]  1         0  ultralytics.nn.modules.conv.Concat           [1]                           \n",
      " 12                  -1  2   1993728  ultralytics.nn.modules.block.C2f             [960, 384, 2]                 \n",
      " 13                  -1  1         0  torch.nn.modules.upsampling.Upsample         [None, 2, 'nearest']          \n",
      " 14             [-1, 4]  1         0  ultralytics.nn.modules.conv.Concat           [1]                           \n",
      " 15                  -1  2    517632  ultralytics.nn.modules.block.C2f             [576, 192, 2]                 \n",
      " 16                  -1  1    332160  ultralytics.nn.modules.conv.Conv             [192, 192, 3, 2]              \n",
      " 17            [-1, 12]  1         0  ultralytics.nn.modules.conv.Concat           [1]                           \n",
      " 18                  -1  2   1846272  ultralytics.nn.modules.block.C2f             [576, 384, 2]                 \n",
      " 19                  -1  1   1327872  ultralytics.nn.modules.conv.Conv             [384, 384, 3, 2]              \n",
      " 20             [-1, 9]  1         0  ultralytics.nn.modules.conv.Concat           [1]                           \n",
      " 21                  -1  2   4207104  ultralytics.nn.modules.block.C2f             [960, 576, 2]                 \n",
      " 22        [15, 18, 21]  1   3776275  ultralytics.nn.modules.head.Detect           [1, [192, 384, 576]]          \n"
     ]
    },
    {
     "name": "stderr",
     "output_type": "stream",
     "text": [
      "\n"
     ]
    },
    {
     "name": "stdout",
     "output_type": "stream",
     "text": [
      "Model summary: 295 layers, 25856899 parameters, 25856883 gradients, 79.1 GFLOPs\n",
      "\n",
      "Transferred 469/475 items from pretrained weights\n",
      "Freezing layer 'model.22.dfl.conv.weight'\n",
      "\u001b[34m\u001b[1mAMP: \u001b[0mrunning Automatic Mixed Precision (AMP) checks with YOLOv8n...\n",
      "Downloading https://github.com/ultralytics/assets/releases/download/v8.2.0/yolov8n.pt to 'yolov8n.pt'...\n"
     ]
    },
    {
     "name": "stderr",
     "output_type": "stream",
     "text": [
      "100%|█████████████████████████████████████████████████████████████████████████████████████████████████████████████████████████████████████████████████████████████████████████████████████████████████████████████████████████████████████████| 6.23M/6.23M [00:00<00:00, 18.0MB/s]\n"
     ]
    },
    {
     "name": "stdout",
     "output_type": "stream",
     "text": [
      "\u001b[34m\u001b[1mAMP: \u001b[0mchecks passed ✅\n"
     ]
    },
    {
     "name": "stderr",
     "output_type": "stream",
     "text": [
      "\u001b[34m\u001b[1mtrain: \u001b[0mScanning /home/adrian/OneDrive/Documents/Master of Computer Science/Deep Learning for CV and Robotics/Summative/dl-cv-robotics/training_data/YOLO/train... 721 images, 545 backgrounds, 0 corrupt: 100%|██████████| 721/721 [00:00<00:00, 9692.20it/s]\u001b[0m"
     ]
    },
    {
     "name": "stdout",
     "output_type": "stream",
     "text": [
      "\u001b[34m\u001b[1mtrain: \u001b[0mNew cache created: /home/adrian/OneDrive/Documents/Master of Computer Science/Deep Learning for CV and Robotics/Summative/dl-cv-robotics/training_data/YOLO/train.cache\n"
     ]
    },
    {
     "name": "stderr",
     "output_type": "stream",
     "text": [
      "\n",
      "\u001b[34m\u001b[1mval: \u001b[0mScanning /home/adrian/OneDrive/Documents/Master of Computer Science/Deep Learning for CV and Robotics/Summative/dl-cv-robotics/training_data/YOLO/val... 206 images, 150 backgrounds, 0 corrupt: 100%|██████████| 206/206 [00:00<00:00, 8487.24it/s]\u001b[0m\n"
     ]
    },
    {
     "name": "stdout",
     "output_type": "stream",
     "text": [
      "\u001b[34m\u001b[1mval: \u001b[0mNew cache created: /home/adrian/OneDrive/Documents/Master of Computer Science/Deep Learning for CV and Robotics/Summative/dl-cv-robotics/training_data/YOLO/val.cache\n",
      "Plotting labels to runs/detect/train7/labels.jpg... \n",
      "\u001b[34m\u001b[1moptimizer:\u001b[0m 'optimizer=auto' found, ignoring 'lr0=0.01' and 'momentum=0.937' and determining best 'optimizer', 'lr0' and 'momentum' automatically... \n",
      "\u001b[34m\u001b[1moptimizer:\u001b[0m AdamW(lr=0.002, momentum=0.9) with parameter groups 77 weight(decay=0.0), 84 weight(decay=0.0005), 83 bias(decay=0.0)\n",
      "Image sizes 640 train, 640 val\n",
      "Using 8 dataloader workers\n",
      "Logging results to \u001b[1mruns/detect/train7\u001b[0m\n",
      "Starting training for 100 epochs...\n",
      "\n",
      "      Epoch    GPU_mem   box_loss   cls_loss   dfl_loss  Instances       Size\n"
     ]
    },
    {
     "name": "stderr",
     "output_type": "stream",
     "text": [
      "      1/100      6.59G      1.058      4.431     0.9809          3        640: 100%|██████████| 46/46 [00:14<00:00,  3.21it/s]\n",
      "                 Class     Images  Instances      Box(P          R      mAP50  mAP50-95): 100%|██████████| 7/7 [00:01<00:00,  4.89it/s]"
     ]
    },
    {
     "name": "stdout",
     "output_type": "stream",
     "text": [
      "                   all        206        134     0.0125      0.888     0.0123    0.00785\n"
     ]
    },
    {
     "name": "stderr",
     "output_type": "stream",
     "text": [
      "\n"
     ]
    },
    {
     "name": "stdout",
     "output_type": "stream",
     "text": [
      "\n",
      "      Epoch    GPU_mem   box_loss   cls_loss   dfl_loss  Instances       Size\n"
     ]
    },
    {
     "name": "stderr",
     "output_type": "stream",
     "text": [
      "      2/100      6.79G      1.175     0.9849      1.032          0        640: 100%|██████████| 46/46 [00:12<00:00,  3.63it/s]\n",
      "                 Class     Images  Instances      Box(P          R      mAP50  mAP50-95): 100%|██████████| 7/7 [00:00<00:00,  8.05it/s]"
     ]
    },
    {
     "name": "stdout",
     "output_type": "stream",
     "text": [
      "                   all        206        134      0.676      0.373      0.355      0.183\n"
     ]
    },
    {
     "name": "stderr",
     "output_type": "stream",
     "text": [
      "\n"
     ]
    },
    {
     "name": "stdout",
     "output_type": "stream",
     "text": [
      "\n",
      "      Epoch    GPU_mem   box_loss   cls_loss   dfl_loss  Instances       Size\n"
     ]
    },
    {
     "name": "stderr",
     "output_type": "stream",
     "text": [
      "      3/100      6.84G      1.223      1.139      1.057          1        640: 100%|██████████| 46/46 [00:12<00:00,  3.65it/s]\n",
      "                 Class     Images  Instances      Box(P          R      mAP50  mAP50-95): 100%|██████████| 7/7 [00:00<00:00,  8.31it/s]"
     ]
    },
    {
     "name": "stdout",
     "output_type": "stream",
     "text": [
      "                   all        206        134      0.214      0.112     0.0462     0.0196\n"
     ]
    },
    {
     "name": "stderr",
     "output_type": "stream",
     "text": [
      "\n"
     ]
    },
    {
     "name": "stdout",
     "output_type": "stream",
     "text": [
      "\n",
      "      Epoch    GPU_mem   box_loss   cls_loss   dfl_loss  Instances       Size\n"
     ]
    },
    {
     "name": "stderr",
     "output_type": "stream",
     "text": [
      "      4/100      6.79G      1.208      0.922      1.075          1        640: 100%|██████████| 46/46 [00:12<00:00,  3.67it/s]\n",
      "                 Class     Images  Instances      Box(P          R      mAP50  mAP50-95): 100%|██████████| 7/7 [00:00<00:00,  7.29it/s]"
     ]
    },
    {
     "name": "stdout",
     "output_type": "stream",
     "text": [
      "                   all        206        134   4.87e-05     0.0224   3.18e-05    1.3e-05\n"
     ]
    },
    {
     "name": "stderr",
     "output_type": "stream",
     "text": [
      "\n"
     ]
    },
    {
     "name": "stdout",
     "output_type": "stream",
     "text": [
      "\n",
      "      Epoch    GPU_mem   box_loss   cls_loss   dfl_loss  Instances       Size\n"
     ]
    },
    {
     "name": "stderr",
     "output_type": "stream",
     "text": [
      "      5/100      6.82G      1.121     0.8748      1.057          2        640: 100%|██████████| 46/46 [00:12<00:00,  3.67it/s]\n",
      "                 Class     Images  Instances      Box(P          R      mAP50  mAP50-95): 100%|██████████| 7/7 [00:00<00:00,  8.09it/s]"
     ]
    },
    {
     "name": "stdout",
     "output_type": "stream",
     "text": [
      "                   all        206        134      0.887      0.878      0.923      0.619\n"
     ]
    },
    {
     "name": "stderr",
     "output_type": "stream",
     "text": [
      "\n"
     ]
    },
    {
     "name": "stdout",
     "output_type": "stream",
     "text": [
      "\n",
      "      Epoch    GPU_mem   box_loss   cls_loss   dfl_loss  Instances       Size\n"
     ]
    },
    {
     "name": "stderr",
     "output_type": "stream",
     "text": [
      "      6/100      6.79G      1.121     0.7858      1.021          0        640: 100%|██████████| 46/46 [00:12<00:00,  3.64it/s]\n",
      "                 Class     Images  Instances      Box(P          R      mAP50  mAP50-95): 100%|██████████| 7/7 [00:00<00:00,  8.07it/s]"
     ]
    },
    {
     "name": "stdout",
     "output_type": "stream",
     "text": [
      "                   all        206        134      0.824       0.91      0.937      0.629\n"
     ]
    },
    {
     "name": "stderr",
     "output_type": "stream",
     "text": [
      "\n"
     ]
    },
    {
     "name": "stdout",
     "output_type": "stream",
     "text": [
      "\n",
      "      Epoch    GPU_mem   box_loss   cls_loss   dfl_loss  Instances       Size\n"
     ]
    },
    {
     "name": "stderr",
     "output_type": "stream",
     "text": [
      "      7/100      6.83G      1.138     0.7846      1.061          1        640: 100%|██████████| 46/46 [00:12<00:00,  3.66it/s]\n",
      "                 Class     Images  Instances      Box(P          R      mAP50  mAP50-95): 100%|██████████| 7/7 [00:00<00:00,  8.26it/s]"
     ]
    },
    {
     "name": "stdout",
     "output_type": "stream",
     "text": [
      "                   all        206        134      0.877      0.828      0.933      0.691\n"
     ]
    },
    {
     "name": "stderr",
     "output_type": "stream",
     "text": [
      "\n"
     ]
    },
    {
     "name": "stdout",
     "output_type": "stream",
     "text": [
      "\n",
      "      Epoch    GPU_mem   box_loss   cls_loss   dfl_loss  Instances       Size\n"
     ]
    },
    {
     "name": "stderr",
     "output_type": "stream",
     "text": [
      "      8/100       6.8G      1.041     0.6886      1.002          2        640: 100%|██████████| 46/46 [00:12<00:00,  3.65it/s]\n",
      "                 Class     Images  Instances      Box(P          R      mAP50  mAP50-95): 100%|██████████| 7/7 [00:00<00:00,  8.23it/s]"
     ]
    },
    {
     "name": "stdout",
     "output_type": "stream",
     "text": [
      "                   all        206        134      0.854      0.828      0.928      0.672\n"
     ]
    },
    {
     "name": "stderr",
     "output_type": "stream",
     "text": [
      "\n"
     ]
    },
    {
     "name": "stdout",
     "output_type": "stream",
     "text": [
      "\n",
      "      Epoch    GPU_mem   box_loss   cls_loss   dfl_loss  Instances       Size\n"
     ]
    },
    {
     "name": "stderr",
     "output_type": "stream",
     "text": [
      "      9/100      6.83G      1.087     0.7537      1.046          0        640: 100%|██████████| 46/46 [00:12<00:00,  3.68it/s]\n",
      "                 Class     Images  Instances      Box(P          R      mAP50  mAP50-95): 100%|██████████| 7/7 [00:00<00:00,  7.98it/s]"
     ]
    },
    {
     "name": "stdout",
     "output_type": "stream",
     "text": [
      "                   all        206        134      0.888      0.903       0.96      0.681\n"
     ]
    },
    {
     "name": "stderr",
     "output_type": "stream",
     "text": [
      "\n"
     ]
    },
    {
     "name": "stdout",
     "output_type": "stream",
     "text": [
      "\n",
      "      Epoch    GPU_mem   box_loss   cls_loss   dfl_loss  Instances       Size\n"
     ]
    },
    {
     "name": "stderr",
     "output_type": "stream",
     "text": [
      "     10/100       6.8G      1.016     0.6734     0.9976          1        640: 100%|██████████| 46/46 [00:12<00:00,  3.73it/s]\n",
      "                 Class     Images  Instances      Box(P          R      mAP50  mAP50-95): 100%|██████████| 7/7 [00:00<00:00,  8.32it/s]"
     ]
    },
    {
     "name": "stdout",
     "output_type": "stream",
     "text": [
      "                   all        206        134       0.92      0.858       0.96      0.702\n"
     ]
    },
    {
     "name": "stderr",
     "output_type": "stream",
     "text": [
      "\n"
     ]
    },
    {
     "name": "stdout",
     "output_type": "stream",
     "text": [
      "\n",
      "      Epoch    GPU_mem   box_loss   cls_loss   dfl_loss  Instances       Size\n"
     ]
    },
    {
     "name": "stderr",
     "output_type": "stream",
     "text": [
      "     11/100      6.82G     0.9938     0.6428     0.9608          0        640: 100%|██████████| 46/46 [00:12<00:00,  3.73it/s]\n",
      "                 Class     Images  Instances      Box(P          R      mAP50  mAP50-95): 100%|██████████| 7/7 [00:00<00:00,  8.16it/s]"
     ]
    },
    {
     "name": "stdout",
     "output_type": "stream",
     "text": [
      "                   all        206        134      0.875      0.873      0.938      0.658\n"
     ]
    },
    {
     "name": "stderr",
     "output_type": "stream",
     "text": [
      "\n"
     ]
    },
    {
     "name": "stdout",
     "output_type": "stream",
     "text": [
      "\n",
      "      Epoch    GPU_mem   box_loss   cls_loss   dfl_loss  Instances       Size\n"
     ]
    },
    {
     "name": "stderr",
     "output_type": "stream",
     "text": [
      "     12/100      6.81G     0.9891     0.6669     0.9675          0        640: 100%|██████████| 46/46 [00:12<00:00,  3.74it/s]\n",
      "                 Class     Images  Instances      Box(P          R      mAP50  mAP50-95): 100%|██████████| 7/7 [00:00<00:00,  8.45it/s]"
     ]
    },
    {
     "name": "stdout",
     "output_type": "stream",
     "text": [
      "                   all        206        134      0.872      0.851      0.937      0.687\n"
     ]
    },
    {
     "name": "stderr",
     "output_type": "stream",
     "text": [
      "\n"
     ]
    },
    {
     "name": "stdout",
     "output_type": "stream",
     "text": [
      "\n",
      "      Epoch    GPU_mem   box_loss   cls_loss   dfl_loss  Instances       Size\n"
     ]
    },
    {
     "name": "stderr",
     "output_type": "stream",
     "text": [
      "     13/100      6.84G     0.9738     0.6479     0.9975          0        640: 100%|██████████| 46/46 [00:12<00:00,  3.73it/s]\n",
      "                 Class     Images  Instances      Box(P          R      mAP50  mAP50-95): 100%|██████████| 7/7 [00:00<00:00,  8.46it/s]"
     ]
    },
    {
     "name": "stdout",
     "output_type": "stream",
     "text": [
      "                   all        206        134      0.906      0.873      0.953      0.695\n"
     ]
    },
    {
     "name": "stderr",
     "output_type": "stream",
     "text": [
      "\n"
     ]
    },
    {
     "name": "stdout",
     "output_type": "stream",
     "text": [
      "\n",
      "      Epoch    GPU_mem   box_loss   cls_loss   dfl_loss  Instances       Size\n"
     ]
    },
    {
     "name": "stderr",
     "output_type": "stream",
     "text": [
      "     14/100      6.79G     0.9598     0.6319     0.9551          0        640: 100%|██████████| 46/46 [00:12<00:00,  3.73it/s]\n",
      "                 Class     Images  Instances      Box(P          R      mAP50  mAP50-95): 100%|██████████| 7/7 [00:00<00:00,  8.19it/s]"
     ]
    },
    {
     "name": "stdout",
     "output_type": "stream",
     "text": [
      "                   all        206        134      0.898      0.896      0.963      0.696\n"
     ]
    },
    {
     "name": "stderr",
     "output_type": "stream",
     "text": [
      "\n"
     ]
    },
    {
     "name": "stdout",
     "output_type": "stream",
     "text": [
      "\n",
      "      Epoch    GPU_mem   box_loss   cls_loss   dfl_loss  Instances       Size\n"
     ]
    },
    {
     "name": "stderr",
     "output_type": "stream",
     "text": [
      "     15/100      6.81G      1.012     0.6989     0.9718          0        640: 100%|██████████| 46/46 [00:12<00:00,  3.73it/s]\n",
      "                 Class     Images  Instances      Box(P          R      mAP50  mAP50-95): 100%|██████████| 7/7 [00:00<00:00,  8.07it/s]"
     ]
    },
    {
     "name": "stdout",
     "output_type": "stream",
     "text": [
      "                   all        206        134      0.889      0.903      0.962      0.698\n"
     ]
    },
    {
     "name": "stderr",
     "output_type": "stream",
     "text": [
      "\n"
     ]
    },
    {
     "name": "stdout",
     "output_type": "stream",
     "text": [
      "\n",
      "      Epoch    GPU_mem   box_loss   cls_loss   dfl_loss  Instances       Size\n"
     ]
    },
    {
     "name": "stderr",
     "output_type": "stream",
     "text": [
      "     16/100      6.81G     0.9427     0.6123     0.9377          0        640: 100%|██████████| 46/46 [00:12<00:00,  3.74it/s]\n",
      "                 Class     Images  Instances      Box(P          R      mAP50  mAP50-95): 100%|██████████| 7/7 [00:00<00:00,  8.43it/s]"
     ]
    },
    {
     "name": "stdout",
     "output_type": "stream",
     "text": [
      "                   all        206        134      0.872       0.91      0.954      0.724\n"
     ]
    },
    {
     "name": "stderr",
     "output_type": "stream",
     "text": [
      "\n"
     ]
    },
    {
     "name": "stdout",
     "output_type": "stream",
     "text": [
      "\n",
      "      Epoch    GPU_mem   box_loss   cls_loss   dfl_loss  Instances       Size\n"
     ]
    },
    {
     "name": "stderr",
     "output_type": "stream",
     "text": [
      "     17/100      6.84G     0.9368     0.6112     0.9483          0        640: 100%|██████████| 46/46 [00:12<00:00,  3.74it/s]\n",
      "                 Class     Images  Instances      Box(P          R      mAP50  mAP50-95): 100%|██████████| 7/7 [00:00<00:00,  8.46it/s]"
     ]
    },
    {
     "name": "stdout",
     "output_type": "stream",
     "text": [
      "                   all        206        134      0.856      0.935      0.962      0.723\n"
     ]
    },
    {
     "name": "stderr",
     "output_type": "stream",
     "text": [
      "\n"
     ]
    },
    {
     "name": "stdout",
     "output_type": "stream",
     "text": [
      "\n",
      "      Epoch    GPU_mem   box_loss   cls_loss   dfl_loss  Instances       Size\n"
     ]
    },
    {
     "name": "stderr",
     "output_type": "stream",
     "text": [
      "     18/100      6.79G     0.8597     0.5466     0.9169          0        640: 100%|██████████| 46/46 [00:12<00:00,  3.73it/s]\n",
      "                 Class     Images  Instances      Box(P          R      mAP50  mAP50-95): 100%|██████████| 7/7 [00:00<00:00,  8.17it/s]"
     ]
    },
    {
     "name": "stdout",
     "output_type": "stream",
     "text": [
      "                   all        206        134      0.863      0.943      0.966      0.698\n"
     ]
    },
    {
     "name": "stderr",
     "output_type": "stream",
     "text": [
      "\n"
     ]
    },
    {
     "name": "stdout",
     "output_type": "stream",
     "text": [
      "\n",
      "      Epoch    GPU_mem   box_loss   cls_loss   dfl_loss  Instances       Size\n"
     ]
    },
    {
     "name": "stderr",
     "output_type": "stream",
     "text": [
      "     19/100      6.81G      0.902     0.5235     0.9527          2        640: 100%|██████████| 46/46 [00:12<00:00,  3.73it/s]\n",
      "                 Class     Images  Instances      Box(P          R      mAP50  mAP50-95): 100%|██████████| 7/7 [00:00<00:00,  8.44it/s]"
     ]
    },
    {
     "name": "stdout",
     "output_type": "stream",
     "text": [
      "                   all        206        134      0.893      0.925      0.962      0.702\n"
     ]
    },
    {
     "name": "stderr",
     "output_type": "stream",
     "text": [
      "\n"
     ]
    },
    {
     "name": "stdout",
     "output_type": "stream",
     "text": [
      "\n",
      "      Epoch    GPU_mem   box_loss   cls_loss   dfl_loss  Instances       Size\n"
     ]
    },
    {
     "name": "stderr",
     "output_type": "stream",
     "text": [
      "     20/100       6.8G     0.8973     0.5748     0.9511          0        640: 100%|██████████| 46/46 [00:12<00:00,  3.74it/s]\n",
      "                 Class     Images  Instances      Box(P          R      mAP50  mAP50-95): 100%|██████████| 7/7 [00:00<00:00,  8.44it/s]"
     ]
    },
    {
     "name": "stdout",
     "output_type": "stream",
     "text": [
      "                   all        206        134      0.925      0.858      0.963      0.725\n"
     ]
    },
    {
     "name": "stderr",
     "output_type": "stream",
     "text": [
      "\n"
     ]
    },
    {
     "name": "stdout",
     "output_type": "stream",
     "text": [
      "\n",
      "      Epoch    GPU_mem   box_loss   cls_loss   dfl_loss  Instances       Size\n"
     ]
    },
    {
     "name": "stderr",
     "output_type": "stream",
     "text": [
      "     21/100      6.84G     0.8923     0.5551     0.9398          0        640: 100%|██████████| 46/46 [00:12<00:00,  3.73it/s]\n",
      "                 Class     Images  Instances      Box(P          R      mAP50  mAP50-95): 100%|██████████| 7/7 [00:00<00:00,  8.24it/s]"
     ]
    },
    {
     "name": "stdout",
     "output_type": "stream",
     "text": [
      "                   all        206        134      0.898      0.917       0.97      0.698\n"
     ]
    },
    {
     "name": "stderr",
     "output_type": "stream",
     "text": [
      "\n"
     ]
    },
    {
     "name": "stdout",
     "output_type": "stream",
     "text": [
      "\n",
      "      Epoch    GPU_mem   box_loss   cls_loss   dfl_loss  Instances       Size\n"
     ]
    },
    {
     "name": "stderr",
     "output_type": "stream",
     "text": [
      "     22/100       6.8G     0.8692     0.5834     0.9371          0        640: 100%|██████████| 46/46 [00:12<00:00,  3.74it/s]\n",
      "                 Class     Images  Instances      Box(P          R      mAP50  mAP50-95): 100%|██████████| 7/7 [00:00<00:00,  8.42it/s]"
     ]
    },
    {
     "name": "stdout",
     "output_type": "stream",
     "text": [
      "                   all        206        134      0.896      0.948      0.965      0.709\n"
     ]
    },
    {
     "name": "stderr",
     "output_type": "stream",
     "text": [
      "\n"
     ]
    },
    {
     "name": "stdout",
     "output_type": "stream",
     "text": [
      "\n",
      "      Epoch    GPU_mem   box_loss   cls_loss   dfl_loss  Instances       Size\n"
     ]
    },
    {
     "name": "stderr",
     "output_type": "stream",
     "text": [
      "     23/100      6.82G     0.8941     0.8108      0.899          0        640: 100%|██████████| 46/46 [00:12<00:00,  3.73it/s]\n",
      "                 Class     Images  Instances      Box(P          R      mAP50  mAP50-95): 100%|██████████| 7/7 [00:00<00:00,  8.44it/s]"
     ]
    },
    {
     "name": "stdout",
     "output_type": "stream",
     "text": [
      "                   all        206        134       0.85      0.963      0.959      0.688\n"
     ]
    },
    {
     "name": "stderr",
     "output_type": "stream",
     "text": [
      "\n"
     ]
    },
    {
     "name": "stdout",
     "output_type": "stream",
     "text": [
      "\n",
      "      Epoch    GPU_mem   box_loss   cls_loss   dfl_loss  Instances       Size\n"
     ]
    },
    {
     "name": "stderr",
     "output_type": "stream",
     "text": [
      "     24/100      6.79G     0.9293     0.5841      0.965          1        640: 100%|██████████| 46/46 [00:12<00:00,  3.74it/s]\n",
      "                 Class     Images  Instances      Box(P          R      mAP50  mAP50-95): 100%|██████████| 7/7 [00:00<00:00,  8.25it/s]"
     ]
    },
    {
     "name": "stdout",
     "output_type": "stream",
     "text": [
      "                   all        206        134      0.884      0.906      0.968      0.725\n"
     ]
    },
    {
     "name": "stderr",
     "output_type": "stream",
     "text": [
      "\n"
     ]
    },
    {
     "name": "stdout",
     "output_type": "stream",
     "text": [
      "\n",
      "      Epoch    GPU_mem   box_loss   cls_loss   dfl_loss  Instances       Size\n"
     ]
    },
    {
     "name": "stderr",
     "output_type": "stream",
     "text": [
      "     25/100      6.82G     0.8527     0.5275      0.913          0        640: 100%|██████████| 46/46 [00:12<00:00,  3.74it/s]\n",
      "                 Class     Images  Instances      Box(P          R      mAP50  mAP50-95): 100%|██████████| 7/7 [00:00<00:00,  8.45it/s]"
     ]
    },
    {
     "name": "stdout",
     "output_type": "stream",
     "text": [
      "                   all        206        134      0.872      0.969      0.968       0.73\n"
     ]
    },
    {
     "name": "stderr",
     "output_type": "stream",
     "text": [
      "\n"
     ]
    },
    {
     "name": "stdout",
     "output_type": "stream",
     "text": [
      "\n",
      "      Epoch    GPU_mem   box_loss   cls_loss   dfl_loss  Instances       Size\n"
     ]
    },
    {
     "name": "stderr",
     "output_type": "stream",
     "text": [
      "     26/100      6.81G     0.8599     0.5499     0.9129          0        640: 100%|██████████| 46/46 [00:12<00:00,  3.74it/s]\n",
      "                 Class     Images  Instances      Box(P          R      mAP50  mAP50-95): 100%|██████████| 7/7 [00:00<00:00,  8.45it/s]"
     ]
    },
    {
     "name": "stdout",
     "output_type": "stream",
     "text": [
      "                   all        206        134      0.893      0.888      0.966      0.732\n"
     ]
    },
    {
     "name": "stderr",
     "output_type": "stream",
     "text": [
      "\n"
     ]
    },
    {
     "name": "stdout",
     "output_type": "stream",
     "text": [
      "\n",
      "      Epoch    GPU_mem   box_loss   cls_loss   dfl_loss  Instances       Size\n"
     ]
    },
    {
     "name": "stderr",
     "output_type": "stream",
     "text": [
      "     27/100      6.83G     0.8837     0.5507      0.917          0        640: 100%|██████████| 46/46 [00:12<00:00,  3.73it/s]\n",
      "                 Class     Images  Instances      Box(P          R      mAP50  mAP50-95): 100%|██████████| 7/7 [00:00<00:00,  8.44it/s]"
     ]
    },
    {
     "name": "stdout",
     "output_type": "stream",
     "text": [
      "                   all        206        134      0.933      0.933      0.975      0.729\n"
     ]
    },
    {
     "name": "stderr",
     "output_type": "stream",
     "text": [
      "\n"
     ]
    },
    {
     "name": "stdout",
     "output_type": "stream",
     "text": [
      "\n",
      "      Epoch    GPU_mem   box_loss   cls_loss   dfl_loss  Instances       Size\n"
     ]
    },
    {
     "name": "stderr",
     "output_type": "stream",
     "text": [
      "     28/100       6.8G      0.904     0.5604     0.9614          2        640: 100%|██████████| 46/46 [00:12<00:00,  3.73it/s]\n",
      "                 Class     Images  Instances      Box(P          R      mAP50  mAP50-95): 100%|██████████| 7/7 [00:00<00:00,  8.46it/s]"
     ]
    },
    {
     "name": "stdout",
     "output_type": "stream",
     "text": [
      "                   all        206        134      0.875      0.933       0.96       0.72\n"
     ]
    },
    {
     "name": "stderr",
     "output_type": "stream",
     "text": [
      "\n"
     ]
    },
    {
     "name": "stdout",
     "output_type": "stream",
     "text": [
      "\n",
      "      Epoch    GPU_mem   box_loss   cls_loss   dfl_loss  Instances       Size\n"
     ]
    },
    {
     "name": "stderr",
     "output_type": "stream",
     "text": [
      "     29/100      6.83G     0.8431     0.5115     0.9195          0        640: 100%|██████████| 46/46 [00:12<00:00,  3.73it/s]\n",
      "                 Class     Images  Instances      Box(P          R      mAP50  mAP50-95): 100%|██████████| 7/7 [00:00<00:00,  8.43it/s]"
     ]
    },
    {
     "name": "stdout",
     "output_type": "stream",
     "text": [
      "                   all        206        134      0.944      0.885      0.975      0.738\n"
     ]
    },
    {
     "name": "stderr",
     "output_type": "stream",
     "text": [
      "\n"
     ]
    },
    {
     "name": "stdout",
     "output_type": "stream",
     "text": [
      "\n",
      "      Epoch    GPU_mem   box_loss   cls_loss   dfl_loss  Instances       Size\n"
     ]
    },
    {
     "name": "stderr",
     "output_type": "stream",
     "text": [
      "     30/100      6.79G     0.8351     0.5139     0.9252          0        640: 100%|██████████| 46/46 [00:12<00:00,  3.74it/s]\n",
      "                 Class     Images  Instances      Box(P          R      mAP50  mAP50-95): 100%|██████████| 7/7 [00:00<00:00,  8.45it/s]"
     ]
    },
    {
     "name": "stdout",
     "output_type": "stream",
     "text": [
      "                   all        206        134      0.888      0.955      0.969      0.731\n"
     ]
    },
    {
     "name": "stderr",
     "output_type": "stream",
     "text": [
      "\n"
     ]
    },
    {
     "name": "stdout",
     "output_type": "stream",
     "text": [
      "\n",
      "      Epoch    GPU_mem   box_loss   cls_loss   dfl_loss  Instances       Size\n"
     ]
    },
    {
     "name": "stderr",
     "output_type": "stream",
     "text": [
      "     31/100      6.83G     0.8532     0.5273     0.9262          0        640: 100%|██████████| 46/46 [00:12<00:00,  3.73it/s]\n",
      "                 Class     Images  Instances      Box(P          R      mAP50  mAP50-95): 100%|██████████| 7/7 [00:00<00:00,  8.18it/s]"
     ]
    },
    {
     "name": "stdout",
     "output_type": "stream",
     "text": [
      "                   all        206        134      0.891      0.913      0.967      0.732\n"
     ]
    },
    {
     "name": "stderr",
     "output_type": "stream",
     "text": [
      "\n"
     ]
    },
    {
     "name": "stdout",
     "output_type": "stream",
     "text": [
      "\n",
      "      Epoch    GPU_mem   box_loss   cls_loss   dfl_loss  Instances       Size\n"
     ]
    },
    {
     "name": "stderr",
     "output_type": "stream",
     "text": [
      "     32/100      6.79G     0.8777     0.4914      0.901          2        640: 100%|██████████| 46/46 [00:12<00:00,  3.73it/s]\n",
      "                 Class     Images  Instances      Box(P          R      mAP50  mAP50-95): 100%|██████████| 7/7 [00:00<00:00,  8.43it/s]"
     ]
    },
    {
     "name": "stdout",
     "output_type": "stream",
     "text": [
      "                   all        206        134      0.901       0.97      0.977      0.755\n"
     ]
    },
    {
     "name": "stderr",
     "output_type": "stream",
     "text": [
      "\n"
     ]
    },
    {
     "name": "stdout",
     "output_type": "stream",
     "text": [
      "\n",
      "      Epoch    GPU_mem   box_loss   cls_loss   dfl_loss  Instances       Size\n"
     ]
    },
    {
     "name": "stderr",
     "output_type": "stream",
     "text": [
      "     33/100      6.84G     0.8533     0.5195     0.9296          0        640: 100%|██████████| 46/46 [00:12<00:00,  3.73it/s]\n",
      "                 Class     Images  Instances      Box(P          R      mAP50  mAP50-95): 100%|██████████| 7/7 [00:00<00:00,  8.45it/s]"
     ]
    },
    {
     "name": "stdout",
     "output_type": "stream",
     "text": [
      "                   all        206        134      0.899       0.94      0.973      0.736\n"
     ]
    },
    {
     "name": "stderr",
     "output_type": "stream",
     "text": [
      "\n"
     ]
    },
    {
     "name": "stdout",
     "output_type": "stream",
     "text": [
      "\n",
      "      Epoch    GPU_mem   box_loss   cls_loss   dfl_loss  Instances       Size\n"
     ]
    },
    {
     "name": "stderr",
     "output_type": "stream",
     "text": [
      "     34/100      6.79G     0.8747     0.5197     0.9422          1        640: 100%|██████████| 46/46 [00:12<00:00,  3.73it/s]\n",
      "                 Class     Images  Instances      Box(P          R      mAP50  mAP50-95): 100%|██████████| 7/7 [00:00<00:00,  8.46it/s]"
     ]
    },
    {
     "name": "stdout",
     "output_type": "stream",
     "text": [
      "                   all        206        134      0.888      0.918      0.971      0.746\n"
     ]
    },
    {
     "name": "stderr",
     "output_type": "stream",
     "text": [
      "\n"
     ]
    },
    {
     "name": "stdout",
     "output_type": "stream",
     "text": [
      "\n",
      "      Epoch    GPU_mem   box_loss   cls_loss   dfl_loss  Instances       Size\n"
     ]
    },
    {
     "name": "stderr",
     "output_type": "stream",
     "text": [
      "     35/100      6.83G     0.8244     0.4991     0.8879          0        640: 100%|██████████| 46/46 [00:12<00:00,  3.73it/s]\n",
      "                 Class     Images  Instances      Box(P          R      mAP50  mAP50-95): 100%|██████████| 7/7 [00:00<00:00,  8.42it/s]"
     ]
    },
    {
     "name": "stdout",
     "output_type": "stream",
     "text": [
      "                   all        206        134      0.899      0.896      0.965      0.742\n"
     ]
    },
    {
     "name": "stderr",
     "output_type": "stream",
     "text": [
      "\n"
     ]
    },
    {
     "name": "stdout",
     "output_type": "stream",
     "text": [
      "\n",
      "      Epoch    GPU_mem   box_loss   cls_loss   dfl_loss  Instances       Size\n"
     ]
    },
    {
     "name": "stderr",
     "output_type": "stream",
     "text": [
      "     36/100       6.8G     0.8251      0.524     0.8998          0        640: 100%|██████████| 46/46 [00:12<00:00,  3.73it/s]\n",
      "                 Class     Images  Instances      Box(P          R      mAP50  mAP50-95): 100%|██████████| 7/7 [00:00<00:00,  8.46it/s]"
     ]
    },
    {
     "name": "stdout",
     "output_type": "stream",
     "text": [
      "                   all        206        134      0.856       0.91      0.959      0.723\n"
     ]
    },
    {
     "name": "stderr",
     "output_type": "stream",
     "text": [
      "\n"
     ]
    },
    {
     "name": "stdout",
     "output_type": "stream",
     "text": [
      "\n",
      "      Epoch    GPU_mem   box_loss   cls_loss   dfl_loss  Instances       Size\n"
     ]
    },
    {
     "name": "stderr",
     "output_type": "stream",
     "text": [
      "     37/100      6.82G     0.8172     0.5015     0.9355          0        640: 100%|██████████| 46/46 [00:12<00:00,  3.73it/s]\n",
      "                 Class     Images  Instances      Box(P          R      mAP50  mAP50-95): 100%|██████████| 7/7 [00:00<00:00,  8.41it/s]"
     ]
    },
    {
     "name": "stdout",
     "output_type": "stream",
     "text": [
      "                   all        206        134       0.87      0.918      0.962      0.725\n"
     ]
    },
    {
     "name": "stderr",
     "output_type": "stream",
     "text": [
      "\n"
     ]
    },
    {
     "name": "stdout",
     "output_type": "stream",
     "text": [
      "\n",
      "      Epoch    GPU_mem   box_loss   cls_loss   dfl_loss  Instances       Size\n"
     ]
    },
    {
     "name": "stderr",
     "output_type": "stream",
     "text": [
      "     38/100       6.8G     0.8232     0.4966     0.9403          2        640: 100%|██████████| 46/46 [00:12<00:00,  3.73it/s]\n",
      "                 Class     Images  Instances      Box(P          R      mAP50  mAP50-95): 100%|██████████| 7/7 [00:00<00:00,  8.19it/s]"
     ]
    },
    {
     "name": "stdout",
     "output_type": "stream",
     "text": [
      "                   all        206        134      0.897      0.912      0.971      0.721\n"
     ]
    },
    {
     "name": "stderr",
     "output_type": "stream",
     "text": [
      "\n"
     ]
    },
    {
     "name": "stdout",
     "output_type": "stream",
     "text": [
      "\n",
      "      Epoch    GPU_mem   box_loss   cls_loss   dfl_loss  Instances       Size\n"
     ]
    },
    {
     "name": "stderr",
     "output_type": "stream",
     "text": [
      "     39/100      6.83G     0.7773     0.4757     0.8943          1        640: 100%|██████████| 46/46 [00:12<00:00,  3.73it/s]\n",
      "                 Class     Images  Instances      Box(P          R      mAP50  mAP50-95): 100%|██████████| 7/7 [00:00<00:00,  8.45it/s]"
     ]
    },
    {
     "name": "stdout",
     "output_type": "stream",
     "text": [
      "                   all        206        134      0.891      0.948      0.977      0.754\n"
     ]
    },
    {
     "name": "stderr",
     "output_type": "stream",
     "text": [
      "\n"
     ]
    },
    {
     "name": "stdout",
     "output_type": "stream",
     "text": [
      "\n",
      "      Epoch    GPU_mem   box_loss   cls_loss   dfl_loss  Instances       Size\n"
     ]
    },
    {
     "name": "stderr",
     "output_type": "stream",
     "text": [
      "     40/100      6.79G     0.8167     0.4881      0.898          0        640: 100%|██████████| 46/46 [00:12<00:00,  3.73it/s]\n",
      "                 Class     Images  Instances      Box(P          R      mAP50  mAP50-95): 100%|██████████| 7/7 [00:00<00:00,  8.46it/s]"
     ]
    },
    {
     "name": "stdout",
     "output_type": "stream",
     "text": [
      "                   all        206        134      0.921      0.874      0.968      0.735\n"
     ]
    },
    {
     "name": "stderr",
     "output_type": "stream",
     "text": [
      "\n"
     ]
    },
    {
     "name": "stdout",
     "output_type": "stream",
     "text": [
      "\n",
      "      Epoch    GPU_mem   box_loss   cls_loss   dfl_loss  Instances       Size\n"
     ]
    },
    {
     "name": "stderr",
     "output_type": "stream",
     "text": [
      "     41/100      6.84G     0.8079     0.4799     0.9192          2        640: 100%|██████████| 46/46 [00:12<00:00,  3.73it/s]\n",
      "                 Class     Images  Instances      Box(P          R      mAP50  mAP50-95): 100%|██████████| 7/7 [00:00<00:00,  8.41it/s]"
     ]
    },
    {
     "name": "stdout",
     "output_type": "stream",
     "text": [
      "                   all        206        134      0.861      0.925      0.962      0.723\n"
     ]
    },
    {
     "name": "stderr",
     "output_type": "stream",
     "text": [
      "\n"
     ]
    },
    {
     "name": "stdout",
     "output_type": "stream",
     "text": [
      "\n",
      "      Epoch    GPU_mem   box_loss   cls_loss   dfl_loss  Instances       Size\n"
     ]
    },
    {
     "name": "stderr",
     "output_type": "stream",
     "text": [
      "     42/100      6.79G     0.8526     0.5035      0.943          2        640: 100%|██████████| 46/46 [00:12<00:00,  3.74it/s]\n",
      "                 Class     Images  Instances      Box(P          R      mAP50  mAP50-95): 100%|██████████| 7/7 [00:00<00:00,  8.45it/s]"
     ]
    },
    {
     "name": "stdout",
     "output_type": "stream",
     "text": [
      "                   all        206        134      0.916      0.901      0.971      0.732\n"
     ]
    },
    {
     "name": "stderr",
     "output_type": "stream",
     "text": [
      "\n"
     ]
    },
    {
     "name": "stdout",
     "output_type": "stream",
     "text": [
      "\n",
      "      Epoch    GPU_mem   box_loss   cls_loss   dfl_loss  Instances       Size\n"
     ]
    },
    {
     "name": "stderr",
     "output_type": "stream",
     "text": [
      "     43/100      6.81G     0.7892     0.4991     0.8992          0        640: 100%|██████████| 46/46 [00:12<00:00,  3.74it/s]\n",
      "                 Class     Images  Instances      Box(P          R      mAP50  mAP50-95): 100%|██████████| 7/7 [00:00<00:00,  8.44it/s]"
     ]
    },
    {
     "name": "stdout",
     "output_type": "stream",
     "text": [
      "                   all        206        134      0.919      0.932      0.973      0.751\n"
     ]
    },
    {
     "name": "stderr",
     "output_type": "stream",
     "text": [
      "\n"
     ]
    },
    {
     "name": "stdout",
     "output_type": "stream",
     "text": [
      "\n",
      "      Epoch    GPU_mem   box_loss   cls_loss   dfl_loss  Instances       Size\n"
     ]
    },
    {
     "name": "stderr",
     "output_type": "stream",
     "text": [
      "     44/100       6.8G     0.8642     0.5462     0.9375          3        640: 100%|██████████| 46/46 [00:12<00:00,  3.73it/s]\n",
      "                 Class     Images  Instances      Box(P          R      mAP50  mAP50-95): 100%|██████████| 7/7 [00:00<00:00,  8.46it/s]"
     ]
    },
    {
     "name": "stdout",
     "output_type": "stream",
     "text": [
      "                   all        206        134      0.897      0.918      0.972       0.75\n"
     ]
    },
    {
     "name": "stderr",
     "output_type": "stream",
     "text": [
      "\n"
     ]
    },
    {
     "name": "stdout",
     "output_type": "stream",
     "text": [
      "\n",
      "      Epoch    GPU_mem   box_loss   cls_loss   dfl_loss  Instances       Size\n"
     ]
    },
    {
     "name": "stderr",
     "output_type": "stream",
     "text": [
      "     45/100      6.82G     0.8019      0.478     0.9025          0        640: 100%|██████████| 46/46 [00:12<00:00,  3.74it/s]\n",
      "                 Class     Images  Instances      Box(P          R      mAP50  mAP50-95): 100%|██████████| 7/7 [00:00<00:00,  8.16it/s]"
     ]
    },
    {
     "name": "stdout",
     "output_type": "stream",
     "text": [
      "                   all        206        134      0.904       0.94      0.977      0.741\n"
     ]
    },
    {
     "name": "stderr",
     "output_type": "stream",
     "text": [
      "\n"
     ]
    },
    {
     "name": "stdout",
     "output_type": "stream",
     "text": [
      "\n",
      "      Epoch    GPU_mem   box_loss   cls_loss   dfl_loss  Instances       Size\n"
     ]
    },
    {
     "name": "stderr",
     "output_type": "stream",
     "text": [
      "     46/100      6.79G     0.7989      0.475     0.9011          0        640: 100%|██████████| 46/46 [00:12<00:00,  3.74it/s]\n",
      "                 Class     Images  Instances      Box(P          R      mAP50  mAP50-95): 100%|██████████| 7/7 [00:00<00:00,  8.14it/s]"
     ]
    },
    {
     "name": "stdout",
     "output_type": "stream",
     "text": [
      "                   all        206        134      0.933      0.903      0.971      0.727\n"
     ]
    },
    {
     "name": "stderr",
     "output_type": "stream",
     "text": [
      "\n"
     ]
    },
    {
     "name": "stdout",
     "output_type": "stream",
     "text": [
      "\n",
      "      Epoch    GPU_mem   box_loss   cls_loss   dfl_loss  Instances       Size\n"
     ]
    },
    {
     "name": "stderr",
     "output_type": "stream",
     "text": [
      "     47/100      6.83G     0.8303     0.5019     0.9137          4        640: 100%|██████████| 46/46 [00:12<00:00,  3.73it/s]\n",
      "                 Class     Images  Instances      Box(P          R      mAP50  mAP50-95): 100%|██████████| 7/7 [00:00<00:00,  8.42it/s]"
     ]
    },
    {
     "name": "stdout",
     "output_type": "stream",
     "text": [
      "                   all        206        134      0.874      0.948      0.972      0.751\n"
     ]
    },
    {
     "name": "stderr",
     "output_type": "stream",
     "text": [
      "\n"
     ]
    },
    {
     "name": "stdout",
     "output_type": "stream",
     "text": [
      "\n",
      "      Epoch    GPU_mem   box_loss   cls_loss   dfl_loss  Instances       Size\n"
     ]
    },
    {
     "name": "stderr",
     "output_type": "stream",
     "text": [
      "     48/100      6.81G     0.8357     0.4868     0.9145          3        640: 100%|██████████| 46/46 [00:12<00:00,  3.74it/s]\n",
      "                 Class     Images  Instances      Box(P          R      mAP50  mAP50-95): 100%|██████████| 7/7 [00:00<00:00,  8.46it/s]"
     ]
    },
    {
     "name": "stdout",
     "output_type": "stream",
     "text": [
      "                   all        206        134      0.912      0.932      0.974      0.747\n"
     ]
    },
    {
     "name": "stderr",
     "output_type": "stream",
     "text": [
      "\n"
     ]
    },
    {
     "name": "stdout",
     "output_type": "stream",
     "text": [
      "\n",
      "      Epoch    GPU_mem   box_loss   cls_loss   dfl_loss  Instances       Size\n"
     ]
    },
    {
     "name": "stderr",
     "output_type": "stream",
     "text": [
      "     49/100      6.82G     0.8016     0.4753     0.9079          0        640: 100%|██████████| 46/46 [00:12<00:00,  3.73it/s]\n",
      "                 Class     Images  Instances      Box(P          R      mAP50  mAP50-95): 100%|██████████| 7/7 [00:00<00:00,  8.47it/s]"
     ]
    },
    {
     "name": "stdout",
     "output_type": "stream",
     "text": [
      "                   all        206        134      0.842      0.993      0.969      0.748\n"
     ]
    },
    {
     "name": "stderr",
     "output_type": "stream",
     "text": [
      "\n"
     ]
    },
    {
     "name": "stdout",
     "output_type": "stream",
     "text": [
      "\n",
      "      Epoch    GPU_mem   box_loss   cls_loss   dfl_loss  Instances       Size\n"
     ]
    },
    {
     "name": "stderr",
     "output_type": "stream",
     "text": [
      "     50/100      6.81G     0.8328     0.4828     0.9282          1        640: 100%|██████████| 46/46 [00:12<00:00,  3.74it/s]\n",
      "                 Class     Images  Instances      Box(P          R      mAP50  mAP50-95): 100%|██████████| 7/7 [00:00<00:00,  8.45it/s]"
     ]
    },
    {
     "name": "stdout",
     "output_type": "stream",
     "text": [
      "                   all        206        134      0.914      0.873      0.967      0.749\n"
     ]
    },
    {
     "name": "stderr",
     "output_type": "stream",
     "text": [
      "\n"
     ]
    },
    {
     "name": "stdout",
     "output_type": "stream",
     "text": [
      "\n",
      "      Epoch    GPU_mem   box_loss   cls_loss   dfl_loss  Instances       Size\n"
     ]
    },
    {
     "name": "stderr",
     "output_type": "stream",
     "text": [
      "     51/100      6.82G       0.78      0.468      0.886          0        640: 100%|██████████| 46/46 [00:12<00:00,  3.73it/s]\n",
      "                 Class     Images  Instances      Box(P          R      mAP50  mAP50-95): 100%|██████████| 7/7 [00:00<00:00,  8.17it/s]"
     ]
    },
    {
     "name": "stdout",
     "output_type": "stream",
     "text": [
      "                   all        206        134        0.9      0.918      0.972       0.73\n"
     ]
    },
    {
     "name": "stderr",
     "output_type": "stream",
     "text": [
      "\n"
     ]
    },
    {
     "name": "stdout",
     "output_type": "stream",
     "text": [
      "\n",
      "      Epoch    GPU_mem   box_loss   cls_loss   dfl_loss  Instances       Size\n"
     ]
    },
    {
     "name": "stderr",
     "output_type": "stream",
     "text": [
      "     52/100      6.79G     0.7665     0.4535     0.8829          0        640: 100%|██████████| 46/46 [00:12<00:00,  3.74it/s]\n",
      "                 Class     Images  Instances      Box(P          R      mAP50  mAP50-95): 100%|██████████| 7/7 [00:00<00:00,  8.40it/s]"
     ]
    },
    {
     "name": "stdout",
     "output_type": "stream",
     "text": [
      "                   all        206        134       0.86      0.959      0.973      0.768\n"
     ]
    },
    {
     "name": "stderr",
     "output_type": "stream",
     "text": [
      "\n"
     ]
    },
    {
     "name": "stdout",
     "output_type": "stream",
     "text": [
      "\n",
      "      Epoch    GPU_mem   box_loss   cls_loss   dfl_loss  Instances       Size\n"
     ]
    },
    {
     "name": "stderr",
     "output_type": "stream",
     "text": [
      "     53/100      6.82G     0.7791     0.4688     0.8983          0        640: 100%|██████████| 46/46 [00:12<00:00,  3.73it/s]\n",
      "                 Class     Images  Instances      Box(P          R      mAP50  mAP50-95): 100%|██████████| 7/7 [00:00<00:00,  8.47it/s]"
     ]
    },
    {
     "name": "stdout",
     "output_type": "stream",
     "text": [
      "                   all        206        134      0.935      0.896      0.974      0.737\n"
     ]
    },
    {
     "name": "stderr",
     "output_type": "stream",
     "text": [
      "\n"
     ]
    },
    {
     "name": "stdout",
     "output_type": "stream",
     "text": [
      "\n",
      "      Epoch    GPU_mem   box_loss   cls_loss   dfl_loss  Instances       Size\n"
     ]
    },
    {
     "name": "stderr",
     "output_type": "stream",
     "text": [
      "     54/100      6.79G      0.778     0.4558     0.8866          0        640: 100%|██████████| 46/46 [00:12<00:00,  3.74it/s]\n",
      "                 Class     Images  Instances      Box(P          R      mAP50  mAP50-95): 100%|██████████| 7/7 [00:00<00:00,  8.44it/s]"
     ]
    },
    {
     "name": "stdout",
     "output_type": "stream",
     "text": [
      "                   all        206        134      0.913      0.942      0.973      0.744\n"
     ]
    },
    {
     "name": "stderr",
     "output_type": "stream",
     "text": [
      "\n"
     ]
    },
    {
     "name": "stdout",
     "output_type": "stream",
     "text": [
      "\n",
      "      Epoch    GPU_mem   box_loss   cls_loss   dfl_loss  Instances       Size\n"
     ]
    },
    {
     "name": "stderr",
     "output_type": "stream",
     "text": [
      "     55/100      6.82G     0.7696     0.4645     0.8749          0        640: 100%|██████████| 46/46 [00:12<00:00,  3.73it/s]\n",
      "                 Class     Images  Instances      Box(P          R      mAP50  mAP50-95): 100%|██████████| 7/7 [00:00<00:00,  8.44it/s]"
     ]
    },
    {
     "name": "stdout",
     "output_type": "stream",
     "text": [
      "                   all        206        134      0.886      0.955      0.975      0.768\n"
     ]
    },
    {
     "name": "stderr",
     "output_type": "stream",
     "text": [
      "\n"
     ]
    },
    {
     "name": "stdout",
     "output_type": "stream",
     "text": [
      "\n",
      "      Epoch    GPU_mem   box_loss   cls_loss   dfl_loss  Instances       Size\n"
     ]
    },
    {
     "name": "stderr",
     "output_type": "stream",
     "text": [
      "     56/100       6.8G     0.7464      0.439     0.8959          0        640: 100%|██████████| 46/46 [00:12<00:00,  3.74it/s]\n",
      "                 Class     Images  Instances      Box(P          R      mAP50  mAP50-95): 100%|██████████| 7/7 [00:00<00:00,  8.46it/s]"
     ]
    },
    {
     "name": "stdout",
     "output_type": "stream",
     "text": [
      "                   all        206        134      0.861      0.968      0.971       0.76\n"
     ]
    },
    {
     "name": "stderr",
     "output_type": "stream",
     "text": [
      "\n"
     ]
    },
    {
     "name": "stdout",
     "output_type": "stream",
     "text": [
      "\n",
      "      Epoch    GPU_mem   box_loss   cls_loss   dfl_loss  Instances       Size\n"
     ]
    },
    {
     "name": "stderr",
     "output_type": "stream",
     "text": [
      "     57/100      6.83G     0.7655     0.4587     0.8996          0        640: 100%|██████████| 46/46 [00:12<00:00,  3.74it/s]\n",
      "                 Class     Images  Instances      Box(P          R      mAP50  mAP50-95): 100%|██████████| 7/7 [00:00<00:00,  8.41it/s]"
     ]
    },
    {
     "name": "stdout",
     "output_type": "stream",
     "text": [
      "                   all        206        134      0.865      0.955      0.961      0.746\n"
     ]
    },
    {
     "name": "stderr",
     "output_type": "stream",
     "text": [
      "\n"
     ]
    },
    {
     "name": "stdout",
     "output_type": "stream",
     "text": [
      "\n",
      "      Epoch    GPU_mem   box_loss   cls_loss   dfl_loss  Instances       Size\n"
     ]
    },
    {
     "name": "stderr",
     "output_type": "stream",
     "text": [
      "     58/100      6.79G     0.7863     0.4444     0.8867          0        640: 100%|██████████| 46/46 [00:12<00:00,  3.73it/s]\n",
      "                 Class     Images  Instances      Box(P          R      mAP50  mAP50-95): 100%|██████████| 7/7 [00:00<00:00,  8.46it/s]"
     ]
    },
    {
     "name": "stdout",
     "output_type": "stream",
     "text": [
      "                   all        206        134      0.886      0.933      0.965      0.743\n"
     ]
    },
    {
     "name": "stderr",
     "output_type": "stream",
     "text": [
      "\n"
     ]
    },
    {
     "name": "stdout",
     "output_type": "stream",
     "text": [
      "\n",
      "      Epoch    GPU_mem   box_loss   cls_loss   dfl_loss  Instances       Size\n"
     ]
    },
    {
     "name": "stderr",
     "output_type": "stream",
     "text": [
      "     59/100      6.82G     0.7461     0.4166     0.8695          0        640: 100%|██████████| 46/46 [00:12<00:00,  3.73it/s]\n",
      "                 Class     Images  Instances      Box(P          R      mAP50  mAP50-95): 100%|██████████| 7/7 [00:00<00:00,  8.47it/s]"
     ]
    },
    {
     "name": "stdout",
     "output_type": "stream",
     "text": [
      "                   all        206        134      0.934      0.943      0.976      0.745\n"
     ]
    },
    {
     "name": "stderr",
     "output_type": "stream",
     "text": [
      "\n"
     ]
    },
    {
     "name": "stdout",
     "output_type": "stream",
     "text": [
      "\n",
      "      Epoch    GPU_mem   box_loss   cls_loss   dfl_loss  Instances       Size\n"
     ]
    },
    {
     "name": "stderr",
     "output_type": "stream",
     "text": [
      "     60/100       6.8G     0.7339     0.4212     0.8758          0        640: 100%|██████████| 46/46 [00:12<00:00,  3.74it/s]\n",
      "                 Class     Images  Instances      Box(P          R      mAP50  mAP50-95): 100%|██████████| 7/7 [00:00<00:00,  8.46it/s]"
     ]
    },
    {
     "name": "stdout",
     "output_type": "stream",
     "text": [
      "                   all        206        134      0.888      0.948      0.975      0.757\n"
     ]
    },
    {
     "name": "stderr",
     "output_type": "stream",
     "text": [
      "\n"
     ]
    },
    {
     "name": "stdout",
     "output_type": "stream",
     "text": [
      "\n",
      "      Epoch    GPU_mem   box_loss   cls_loss   dfl_loss  Instances       Size\n"
     ]
    },
    {
     "name": "stderr",
     "output_type": "stream",
     "text": [
      "     61/100      6.82G     0.7418     0.4345     0.8905          6        640: 100%|██████████| 46/46 [00:12<00:00,  3.73it/s]\n",
      "                 Class     Images  Instances      Box(P          R      mAP50  mAP50-95): 100%|██████████| 7/7 [00:00<00:00,  8.45it/s]"
     ]
    },
    {
     "name": "stdout",
     "output_type": "stream",
     "text": [
      "                   all        206        134      0.921      0.956      0.979      0.758\n"
     ]
    },
    {
     "name": "stderr",
     "output_type": "stream",
     "text": [
      "\n"
     ]
    },
    {
     "name": "stdout",
     "output_type": "stream",
     "text": [
      "\n",
      "      Epoch    GPU_mem   box_loss   cls_loss   dfl_loss  Instances       Size\n"
     ]
    },
    {
     "name": "stderr",
     "output_type": "stream",
     "text": [
      "     62/100       6.8G     0.7691     0.4278     0.8751          1        640: 100%|██████████| 46/46 [00:12<00:00,  3.73it/s]\n",
      "                 Class     Images  Instances      Box(P          R      mAP50  mAP50-95): 100%|██████████| 7/7 [00:00<00:00,  8.47it/s]"
     ]
    },
    {
     "name": "stdout",
     "output_type": "stream",
     "text": [
      "                   all        206        134      0.931      0.933      0.975      0.763\n"
     ]
    },
    {
     "name": "stderr",
     "output_type": "stream",
     "text": [
      "\n"
     ]
    },
    {
     "name": "stdout",
     "output_type": "stream",
     "text": [
      "\n",
      "      Epoch    GPU_mem   box_loss   cls_loss   dfl_loss  Instances       Size\n"
     ]
    },
    {
     "name": "stderr",
     "output_type": "stream",
     "text": [
      "     63/100      6.83G     0.7303     0.5265     0.8748          0        640: 100%|██████████| 46/46 [00:12<00:00,  3.73it/s]\n",
      "                 Class     Images  Instances      Box(P          R      mAP50  mAP50-95): 100%|██████████| 7/7 [00:00<00:00,  8.42it/s]"
     ]
    },
    {
     "name": "stdout",
     "output_type": "stream",
     "text": [
      "                   all        206        134      0.912       0.94      0.973      0.746\n"
     ]
    },
    {
     "name": "stderr",
     "output_type": "stream",
     "text": [
      "\n"
     ]
    },
    {
     "name": "stdout",
     "output_type": "stream",
     "text": [
      "\n",
      "      Epoch    GPU_mem   box_loss   cls_loss   dfl_loss  Instances       Size\n"
     ]
    },
    {
     "name": "stderr",
     "output_type": "stream",
     "text": [
      "     64/100      6.79G     0.7253     0.4122     0.8448          0        640: 100%|██████████| 46/46 [00:12<00:00,  3.74it/s]\n",
      "                 Class     Images  Instances      Box(P          R      mAP50  mAP50-95): 100%|██████████| 7/7 [00:00<00:00,  8.45it/s]"
     ]
    },
    {
     "name": "stdout",
     "output_type": "stream",
     "text": [
      "                   all        206        134      0.894      0.963      0.973      0.745\n"
     ]
    },
    {
     "name": "stderr",
     "output_type": "stream",
     "text": [
      "\n"
     ]
    },
    {
     "name": "stdout",
     "output_type": "stream",
     "text": [
      "\n",
      "      Epoch    GPU_mem   box_loss   cls_loss   dfl_loss  Instances       Size\n"
     ]
    },
    {
     "name": "stderr",
     "output_type": "stream",
     "text": [
      "     65/100      6.83G      0.731     0.4483     0.8882          1        640: 100%|██████████| 46/46 [00:12<00:00,  3.73it/s]\n",
      "                 Class     Images  Instances      Box(P          R      mAP50  mAP50-95): 100%|██████████| 7/7 [00:00<00:00,  8.45it/s]"
     ]
    },
    {
     "name": "stdout",
     "output_type": "stream",
     "text": [
      "                   all        206        134      0.902      0.962      0.975      0.741\n"
     ]
    },
    {
     "name": "stderr",
     "output_type": "stream",
     "text": [
      "\n"
     ]
    },
    {
     "name": "stdout",
     "output_type": "stream",
     "text": [
      "\n",
      "      Epoch    GPU_mem   box_loss   cls_loss   dfl_loss  Instances       Size\n"
     ]
    },
    {
     "name": "stderr",
     "output_type": "stream",
     "text": [
      "     66/100       6.8G     0.7709     0.4738     0.8718          0        640: 100%|██████████| 46/46 [00:12<00:00,  3.74it/s]\n",
      "                 Class     Images  Instances      Box(P          R      mAP50  mAP50-95): 100%|██████████| 7/7 [00:00<00:00,  8.34it/s]"
     ]
    },
    {
     "name": "stdout",
     "output_type": "stream",
     "text": [
      "                   all        206        134      0.968      0.925      0.981      0.759\n"
     ]
    },
    {
     "name": "stderr",
     "output_type": "stream",
     "text": [
      "\n"
     ]
    },
    {
     "name": "stdout",
     "output_type": "stream",
     "text": [
      "\n",
      "      Epoch    GPU_mem   box_loss   cls_loss   dfl_loss  Instances       Size\n"
     ]
    },
    {
     "name": "stderr",
     "output_type": "stream",
     "text": [
      "     67/100      6.83G     0.7468     0.4305     0.8941          0        640: 100%|██████████| 46/46 [00:12<00:00,  3.73it/s]\n",
      "                 Class     Images  Instances      Box(P          R      mAP50  mAP50-95): 100%|██████████| 7/7 [00:00<00:00,  8.16it/s]"
     ]
    },
    {
     "name": "stdout",
     "output_type": "stream",
     "text": [
      "                   all        206        134       0.92      0.948      0.981      0.735\n"
     ]
    },
    {
     "name": "stderr",
     "output_type": "stream",
     "text": [
      "\n"
     ]
    },
    {
     "name": "stdout",
     "output_type": "stream",
     "text": [
      "\n",
      "      Epoch    GPU_mem   box_loss   cls_loss   dfl_loss  Instances       Size\n"
     ]
    },
    {
     "name": "stderr",
     "output_type": "stream",
     "text": [
      "     68/100       6.8G     0.7213     0.4166     0.8753          0        640: 100%|██████████| 46/46 [00:12<00:00,  3.74it/s]\n",
      "                 Class     Images  Instances      Box(P          R      mAP50  mAP50-95): 100%|██████████| 7/7 [00:00<00:00,  8.17it/s]"
     ]
    },
    {
     "name": "stdout",
     "output_type": "stream",
     "text": [
      "                   all        206        134       0.93      0.948       0.98      0.711\n"
     ]
    },
    {
     "name": "stderr",
     "output_type": "stream",
     "text": [
      "\n"
     ]
    },
    {
     "name": "stdout",
     "output_type": "stream",
     "text": [
      "\n",
      "      Epoch    GPU_mem   box_loss   cls_loss   dfl_loss  Instances       Size\n"
     ]
    },
    {
     "name": "stderr",
     "output_type": "stream",
     "text": [
      "     69/100      6.82G     0.7384     0.4242     0.8769          0        640: 100%|██████████| 46/46 [00:12<00:00,  3.74it/s]\n",
      "                 Class     Images  Instances      Box(P          R      mAP50  mAP50-95): 100%|██████████| 7/7 [00:00<00:00,  8.45it/s]"
     ]
    },
    {
     "name": "stdout",
     "output_type": "stream",
     "text": [
      "                   all        206        134      0.915      0.933      0.976      0.751\n"
     ]
    },
    {
     "name": "stderr",
     "output_type": "stream",
     "text": [
      "\n"
     ]
    },
    {
     "name": "stdout",
     "output_type": "stream",
     "text": [
      "\n",
      "      Epoch    GPU_mem   box_loss   cls_loss   dfl_loss  Instances       Size\n"
     ]
    },
    {
     "name": "stderr",
     "output_type": "stream",
     "text": [
      "     70/100      6.79G     0.6877     0.3945     0.8543          0        640: 100%|██████████| 46/46 [00:12<00:00,  3.74it/s]\n",
      "                 Class     Images  Instances      Box(P          R      mAP50  mAP50-95): 100%|██████████| 7/7 [00:00<00:00,  8.45it/s]"
     ]
    },
    {
     "name": "stdout",
     "output_type": "stream",
     "text": [
      "                   all        206        134      0.913       0.94      0.975      0.753\n"
     ]
    },
    {
     "name": "stderr",
     "output_type": "stream",
     "text": [
      "\n"
     ]
    },
    {
     "name": "stdout",
     "output_type": "stream",
     "text": [
      "\n",
      "      Epoch    GPU_mem   box_loss   cls_loss   dfl_loss  Instances       Size\n"
     ]
    },
    {
     "name": "stderr",
     "output_type": "stream",
     "text": [
      "     71/100      6.83G     0.7373     0.5892     0.8768          1        640: 100%|██████████| 46/46 [00:12<00:00,  3.69it/s]\n",
      "                 Class     Images  Instances      Box(P          R      mAP50  mAP50-95): 100%|██████████| 7/7 [00:00<00:00,  8.32it/s]"
     ]
    },
    {
     "name": "stdout",
     "output_type": "stream",
     "text": [
      "                   all        206        134      0.886      0.932      0.965       0.75\n"
     ]
    },
    {
     "name": "stderr",
     "output_type": "stream",
     "text": [
      "\n"
     ]
    },
    {
     "name": "stdout",
     "output_type": "stream",
     "text": [
      "\n",
      "      Epoch    GPU_mem   box_loss   cls_loss   dfl_loss  Instances       Size\n"
     ]
    },
    {
     "name": "stderr",
     "output_type": "stream",
     "text": [
      "     72/100      6.79G     0.7161     0.3904     0.8631          0        640: 100%|██████████| 46/46 [00:12<00:00,  3.67it/s]\n",
      "                 Class     Images  Instances      Box(P          R      mAP50  mAP50-95): 100%|██████████| 7/7 [00:00<00:00,  8.32it/s]"
     ]
    },
    {
     "name": "stdout",
     "output_type": "stream",
     "text": [
      "                   all        206        134      0.912      0.926      0.979      0.771\n"
     ]
    },
    {
     "name": "stderr",
     "output_type": "stream",
     "text": [
      "\n"
     ]
    },
    {
     "name": "stdout",
     "output_type": "stream",
     "text": [
      "\n",
      "      Epoch    GPU_mem   box_loss   cls_loss   dfl_loss  Instances       Size\n"
     ]
    },
    {
     "name": "stderr",
     "output_type": "stream",
     "text": [
      "     73/100      6.81G     0.7144      0.399     0.8765          0        640: 100%|██████████| 46/46 [00:12<00:00,  3.66it/s]\n",
      "                 Class     Images  Instances      Box(P          R      mAP50  mAP50-95): 100%|██████████| 7/7 [00:00<00:00,  8.26it/s]"
     ]
    },
    {
     "name": "stdout",
     "output_type": "stream",
     "text": [
      "                   all        206        134      0.908       0.94      0.975      0.754\n"
     ]
    },
    {
     "name": "stderr",
     "output_type": "stream",
     "text": [
      "\n"
     ]
    },
    {
     "name": "stdout",
     "output_type": "stream",
     "text": [
      "\n",
      "      Epoch    GPU_mem   box_loss   cls_loss   dfl_loss  Instances       Size\n"
     ]
    },
    {
     "name": "stderr",
     "output_type": "stream",
     "text": [
      "     74/100       6.8G     0.7105     0.4155     0.8676          0        640: 100%|██████████| 46/46 [00:12<00:00,  3.61it/s]\n",
      "                 Class     Images  Instances      Box(P          R      mAP50  mAP50-95): 100%|██████████| 7/7 [00:00<00:00,  8.02it/s]"
     ]
    },
    {
     "name": "stdout",
     "output_type": "stream",
     "text": [
      "                   all        206        134      0.937       0.91      0.975      0.737\n"
     ]
    },
    {
     "name": "stderr",
     "output_type": "stream",
     "text": [
      "\n"
     ]
    },
    {
     "name": "stdout",
     "output_type": "stream",
     "text": [
      "\n",
      "      Epoch    GPU_mem   box_loss   cls_loss   dfl_loss  Instances       Size\n"
     ]
    },
    {
     "name": "stderr",
     "output_type": "stream",
     "text": [
      "     75/100      6.83G     0.7423     0.4314     0.8813          0        640: 100%|██████████| 46/46 [00:12<00:00,  3.66it/s]\n",
      "                 Class     Images  Instances      Box(P          R      mAP50  mAP50-95): 100%|██████████| 7/7 [00:00<00:00,  7.60it/s]"
     ]
    },
    {
     "name": "stdout",
     "output_type": "stream",
     "text": [
      "                   all        206        134      0.935      0.933      0.978      0.747\n"
     ]
    },
    {
     "name": "stderr",
     "output_type": "stream",
     "text": [
      "\n"
     ]
    },
    {
     "name": "stdout",
     "output_type": "stream",
     "text": [
      "\n",
      "      Epoch    GPU_mem   box_loss   cls_loss   dfl_loss  Instances       Size\n"
     ]
    },
    {
     "name": "stderr",
     "output_type": "stream",
     "text": [
      "     76/100      6.79G     0.7626       0.42     0.9578          1        640: 100%|██████████| 46/46 [00:12<00:00,  3.60it/s]\n",
      "                 Class     Images  Instances      Box(P          R      mAP50  mAP50-95): 100%|██████████| 7/7 [00:00<00:00,  8.11it/s]"
     ]
    },
    {
     "name": "stdout",
     "output_type": "stream",
     "text": [
      "                   all        206        134      0.906      0.931       0.97       0.74\n"
     ]
    },
    {
     "name": "stderr",
     "output_type": "stream",
     "text": [
      "\n"
     ]
    },
    {
     "name": "stdout",
     "output_type": "stream",
     "text": [
      "\n",
      "      Epoch    GPU_mem   box_loss   cls_loss   dfl_loss  Instances       Size\n"
     ]
    },
    {
     "name": "stderr",
     "output_type": "stream",
     "text": [
      "     77/100      6.82G     0.7154     0.4031     0.8772          2        640: 100%|██████████| 46/46 [00:12<00:00,  3.58it/s]\n",
      "                 Class     Images  Instances      Box(P          R      mAP50  mAP50-95): 100%|██████████| 7/7 [00:00<00:00,  8.07it/s]"
     ]
    },
    {
     "name": "stdout",
     "output_type": "stream",
     "text": [
      "                   all        206        134      0.934       0.94      0.977      0.763\n"
     ]
    },
    {
     "name": "stderr",
     "output_type": "stream",
     "text": [
      "\n"
     ]
    },
    {
     "name": "stdout",
     "output_type": "stream",
     "text": [
      "\n",
      "      Epoch    GPU_mem   box_loss   cls_loss   dfl_loss  Instances       Size\n"
     ]
    },
    {
     "name": "stderr",
     "output_type": "stream",
     "text": [
      "     78/100      6.78G     0.6846     0.3982     0.8846          0        640: 100%|██████████| 46/46 [00:12<00:00,  3.63it/s]\n",
      "                 Class     Images  Instances      Box(P          R      mAP50  mAP50-95): 100%|██████████| 7/7 [00:00<00:00,  8.43it/s]"
     ]
    },
    {
     "name": "stdout",
     "output_type": "stream",
     "text": [
      "                   all        206        134      0.905      0.948      0.977      0.763\n"
     ]
    },
    {
     "name": "stderr",
     "output_type": "stream",
     "text": [
      "\n"
     ]
    },
    {
     "name": "stdout",
     "output_type": "stream",
     "text": [
      "\n",
      "      Epoch    GPU_mem   box_loss   cls_loss   dfl_loss  Instances       Size\n"
     ]
    },
    {
     "name": "stderr",
     "output_type": "stream",
     "text": [
      "     79/100      6.82G     0.6825     0.4192     0.8605          0        640: 100%|██████████| 46/46 [00:12<00:00,  3.62it/s]\n",
      "                 Class     Images  Instances      Box(P          R      mAP50  mAP50-95): 100%|██████████| 7/7 [00:00<00:00,  8.27it/s]"
     ]
    },
    {
     "name": "stdout",
     "output_type": "stream",
     "text": [
      "                   all        206        134      0.946      0.916      0.975      0.745\n"
     ]
    },
    {
     "name": "stderr",
     "output_type": "stream",
     "text": [
      "\n"
     ]
    },
    {
     "name": "stdout",
     "output_type": "stream",
     "text": [
      "\n",
      "      Epoch    GPU_mem   box_loss   cls_loss   dfl_loss  Instances       Size\n"
     ]
    },
    {
     "name": "stderr",
     "output_type": "stream",
     "text": [
      "     80/100       6.8G      0.711     0.4033     0.8905          1        640: 100%|██████████| 46/46 [00:12<00:00,  3.65it/s]\n",
      "                 Class     Images  Instances      Box(P          R      mAP50  mAP50-95): 100%|██████████| 7/7 [00:00<00:00,  8.27it/s]"
     ]
    },
    {
     "name": "stdout",
     "output_type": "stream",
     "text": [
      "                   all        206        134      0.946      0.918      0.979      0.758\n"
     ]
    },
    {
     "name": "stderr",
     "output_type": "stream",
     "text": [
      "\n"
     ]
    },
    {
     "name": "stdout",
     "output_type": "stream",
     "text": [
      "\n",
      "      Epoch    GPU_mem   box_loss   cls_loss   dfl_loss  Instances       Size\n"
     ]
    },
    {
     "name": "stderr",
     "output_type": "stream",
     "text": [
      "     81/100      6.82G     0.6672     0.3922     0.8513          0        640: 100%|██████████| 46/46 [00:12<00:00,  3.73it/s]\n",
      "                 Class     Images  Instances      Box(P          R      mAP50  mAP50-95): 100%|██████████| 7/7 [00:00<00:00,  8.41it/s]"
     ]
    },
    {
     "name": "stdout",
     "output_type": "stream",
     "text": [
      "                   all        206        134      0.947      0.926      0.982      0.771\n"
     ]
    },
    {
     "name": "stderr",
     "output_type": "stream",
     "text": [
      "\n"
     ]
    },
    {
     "name": "stdout",
     "output_type": "stream",
     "text": [
      "\n",
      "      Epoch    GPU_mem   box_loss   cls_loss   dfl_loss  Instances       Size\n"
     ]
    },
    {
     "name": "stderr",
     "output_type": "stream",
     "text": [
      "     82/100       6.8G     0.7047     0.4018     0.9051          3        640: 100%|██████████| 46/46 [00:12<00:00,  3.73it/s]\n",
      "                 Class     Images  Instances      Box(P          R      mAP50  mAP50-95): 100%|██████████| 7/7 [00:00<00:00,  8.42it/s]"
     ]
    },
    {
     "name": "stdout",
     "output_type": "stream",
     "text": [
      "                   all        206        134      0.918      0.955      0.978       0.76\n"
     ]
    },
    {
     "name": "stderr",
     "output_type": "stream",
     "text": [
      "\n"
     ]
    },
    {
     "name": "stdout",
     "output_type": "stream",
     "text": [
      "\n",
      "      Epoch    GPU_mem   box_loss   cls_loss   dfl_loss  Instances       Size\n"
     ]
    },
    {
     "name": "stderr",
     "output_type": "stream",
     "text": [
      "     83/100      6.82G     0.7123     0.3927     0.8725          5        640: 100%|██████████| 46/46 [00:12<00:00,  3.73it/s]\n",
      "                 Class     Images  Instances      Box(P          R      mAP50  mAP50-95): 100%|██████████| 7/7 [00:00<00:00,  8.39it/s]"
     ]
    },
    {
     "name": "stdout",
     "output_type": "stream",
     "text": [
      "                   all        206        134      0.917       0.97      0.979      0.762\n"
     ]
    },
    {
     "name": "stderr",
     "output_type": "stream",
     "text": [
      "\n"
     ]
    },
    {
     "name": "stdout",
     "output_type": "stream",
     "text": [
      "\n",
      "      Epoch    GPU_mem   box_loss   cls_loss   dfl_loss  Instances       Size\n"
     ]
    },
    {
     "name": "stderr",
     "output_type": "stream",
     "text": [
      "     84/100      6.79G     0.6533     0.3752     0.8434          0        640: 100%|██████████| 46/46 [00:12<00:00,  3.73it/s]\n",
      "                 Class     Images  Instances      Box(P          R      mAP50  mAP50-95): 100%|██████████| 7/7 [00:00<00:00,  8.22it/s]"
     ]
    },
    {
     "name": "stdout",
     "output_type": "stream",
     "text": [
      "                   all        206        134      0.903       0.97       0.98      0.765\n"
     ]
    },
    {
     "name": "stderr",
     "output_type": "stream",
     "text": [
      "\n"
     ]
    },
    {
     "name": "stdout",
     "output_type": "stream",
     "text": [
      "\n",
      "      Epoch    GPU_mem   box_loss   cls_loss   dfl_loss  Instances       Size\n"
     ]
    },
    {
     "name": "stderr",
     "output_type": "stream",
     "text": [
      "     85/100      6.81G     0.6885     0.3608     0.8652          0        640: 100%|██████████| 46/46 [00:12<00:00,  3.73it/s]\n",
      "                 Class     Images  Instances      Box(P          R      mAP50  mAP50-95): 100%|██████████| 7/7 [00:00<00:00,  8.12it/s]"
     ]
    },
    {
     "name": "stdout",
     "output_type": "stream",
     "text": [
      "                   all        206        134       0.92      0.949      0.981      0.751\n"
     ]
    },
    {
     "name": "stderr",
     "output_type": "stream",
     "text": [
      "\n"
     ]
    },
    {
     "name": "stdout",
     "output_type": "stream",
     "text": [
      "\n",
      "      Epoch    GPU_mem   box_loss   cls_loss   dfl_loss  Instances       Size\n"
     ]
    },
    {
     "name": "stderr",
     "output_type": "stream",
     "text": [
      "     86/100       6.8G     0.6939     0.3695     0.8861          4        640: 100%|██████████| 46/46 [00:12<00:00,  3.74it/s]\n",
      "                 Class     Images  Instances      Box(P          R      mAP50  mAP50-95): 100%|██████████| 7/7 [00:00<00:00,  8.30it/s]"
     ]
    },
    {
     "name": "stdout",
     "output_type": "stream",
     "text": [
      "                   all        206        134      0.942       0.94      0.983      0.764\n"
     ]
    },
    {
     "name": "stderr",
     "output_type": "stream",
     "text": [
      "\n"
     ]
    },
    {
     "name": "stdout",
     "output_type": "stream",
     "text": [
      "\n",
      "      Epoch    GPU_mem   box_loss   cls_loss   dfl_loss  Instances       Size\n"
     ]
    },
    {
     "name": "stderr",
     "output_type": "stream",
     "text": [
      "     87/100      6.83G     0.6701     0.3531     0.8803          1        640: 100%|██████████| 46/46 [00:12<00:00,  3.73it/s]\n",
      "                 Class     Images  Instances      Box(P          R      mAP50  mAP50-95): 100%|██████████| 7/7 [00:00<00:00,  8.40it/s]"
     ]
    },
    {
     "name": "stdout",
     "output_type": "stream",
     "text": [
      "                   all        206        134      0.913       0.94      0.977      0.771\n"
     ]
    },
    {
     "name": "stderr",
     "output_type": "stream",
     "text": [
      "\n"
     ]
    },
    {
     "name": "stdout",
     "output_type": "stream",
     "text": [
      "\n",
      "      Epoch    GPU_mem   box_loss   cls_loss   dfl_loss  Instances       Size\n"
     ]
    },
    {
     "name": "stderr",
     "output_type": "stream",
     "text": [
      "     88/100      6.79G     0.6678     0.3576     0.8681          1        640: 100%|██████████| 46/46 [00:12<00:00,  3.73it/s]\n",
      "                 Class     Images  Instances      Box(P          R      mAP50  mAP50-95): 100%|██████████| 7/7 [00:00<00:00,  8.41it/s]"
     ]
    },
    {
     "name": "stdout",
     "output_type": "stream",
     "text": [
      "                   all        206        134      0.932      0.921      0.978       0.77\n"
     ]
    },
    {
     "name": "stderr",
     "output_type": "stream",
     "text": [
      "\n"
     ]
    },
    {
     "name": "stdout",
     "output_type": "stream",
     "text": [
      "\n",
      "      Epoch    GPU_mem   box_loss   cls_loss   dfl_loss  Instances       Size\n"
     ]
    },
    {
     "name": "stderr",
     "output_type": "stream",
     "text": [
      "     89/100      6.82G     0.6901     0.3655     0.8696          0        640: 100%|██████████| 46/46 [00:12<00:00,  3.73it/s]\n",
      "                 Class     Images  Instances      Box(P          R      mAP50  mAP50-95): 100%|██████████| 7/7 [00:00<00:00,  8.43it/s]"
     ]
    },
    {
     "name": "stdout",
     "output_type": "stream",
     "text": [
      "                   all        206        134      0.913      0.944      0.977      0.772\n"
     ]
    },
    {
     "name": "stderr",
     "output_type": "stream",
     "text": [
      "\n"
     ]
    },
    {
     "name": "stdout",
     "output_type": "stream",
     "text": [
      "\n",
      "      Epoch    GPU_mem   box_loss   cls_loss   dfl_loss  Instances       Size\n"
     ]
    },
    {
     "name": "stderr",
     "output_type": "stream",
     "text": [
      "     90/100       6.8G     0.6765     0.3546     0.8592          0        640: 100%|██████████| 46/46 [00:12<00:00,  3.73it/s]\n",
      "                 Class     Images  Instances      Box(P          R      mAP50  mAP50-95): 100%|██████████| 7/7 [00:00<00:00,  8.41it/s]"
     ]
    },
    {
     "name": "stdout",
     "output_type": "stream",
     "text": [
      "                   all        206        134      0.927      0.963      0.982      0.777\n"
     ]
    },
    {
     "name": "stderr",
     "output_type": "stream",
     "text": [
      "\n"
     ]
    },
    {
     "name": "stdout",
     "output_type": "stream",
     "text": [
      "Closing dataloader mosaic\n",
      "\n",
      "      Epoch    GPU_mem   box_loss   cls_loss   dfl_loss  Instances       Size\n"
     ]
    },
    {
     "name": "stderr",
     "output_type": "stream",
     "text": [
      "     91/100      6.83G     0.6992     0.3791     0.8825          2        640: 100%|██████████| 46/46 [00:12<00:00,  3.59it/s]\n",
      "                 Class     Images  Instances      Box(P          R      mAP50  mAP50-95): 100%|██████████| 7/7 [00:00<00:00,  8.41it/s]"
     ]
    },
    {
     "name": "stdout",
     "output_type": "stream",
     "text": [
      "                   all        206        134      0.944       0.94      0.982      0.765\n"
     ]
    },
    {
     "name": "stderr",
     "output_type": "stream",
     "text": [
      "\n"
     ]
    },
    {
     "name": "stdout",
     "output_type": "stream",
     "text": [
      "\n",
      "      Epoch    GPU_mem   box_loss   cls_loss   dfl_loss  Instances       Size\n"
     ]
    },
    {
     "name": "stderr",
     "output_type": "stream",
     "text": [
      "     92/100      6.81G     0.6742     0.3571      0.871          0        640: 100%|██████████| 46/46 [00:12<00:00,  3.74it/s]\n",
      "                 Class     Images  Instances      Box(P          R      mAP50  mAP50-95): 100%|██████████| 7/7 [00:00<00:00,  8.42it/s]"
     ]
    },
    {
     "name": "stdout",
     "output_type": "stream",
     "text": [
      "                   all        206        134      0.925      0.963      0.983      0.781\n"
     ]
    },
    {
     "name": "stderr",
     "output_type": "stream",
     "text": [
      "\n"
     ]
    },
    {
     "name": "stdout",
     "output_type": "stream",
     "text": [
      "\n",
      "      Epoch    GPU_mem   box_loss   cls_loss   dfl_loss  Instances       Size\n"
     ]
    },
    {
     "name": "stderr",
     "output_type": "stream",
     "text": [
      "     93/100      6.81G     0.7136     0.4053     0.8988          1        640: 100%|██████████| 46/46 [00:12<00:00,  3.73it/s]\n",
      "                 Class     Images  Instances      Box(P          R      mAP50  mAP50-95): 100%|██████████| 7/7 [00:00<00:00,  8.41it/s]"
     ]
    },
    {
     "name": "stdout",
     "output_type": "stream",
     "text": [
      "                   all        206        134      0.917      0.978      0.981      0.772\n"
     ]
    },
    {
     "name": "stderr",
     "output_type": "stream",
     "text": [
      "\n"
     ]
    },
    {
     "name": "stdout",
     "output_type": "stream",
     "text": [
      "\n",
      "      Epoch    GPU_mem   box_loss   cls_loss   dfl_loss  Instances       Size\n"
     ]
    },
    {
     "name": "stderr",
     "output_type": "stream",
     "text": [
      "     94/100       6.8G     0.6794     0.3576     0.8812          0        640: 100%|██████████| 46/46 [00:12<00:00,  3.74it/s]\n",
      "                 Class     Images  Instances      Box(P          R      mAP50  mAP50-95): 100%|██████████| 7/7 [00:00<00:00,  8.41it/s]"
     ]
    },
    {
     "name": "stdout",
     "output_type": "stream",
     "text": [
      "                   all        206        134      0.937      0.955      0.981      0.782\n"
     ]
    },
    {
     "name": "stderr",
     "output_type": "stream",
     "text": [
      "\n"
     ]
    },
    {
     "name": "stdout",
     "output_type": "stream",
     "text": [
      "\n",
      "      Epoch    GPU_mem   box_loss   cls_loss   dfl_loss  Instances       Size\n"
     ]
    },
    {
     "name": "stderr",
     "output_type": "stream",
     "text": [
      "     95/100      6.83G     0.6886     0.3452     0.8664          0        640: 100%|██████████| 46/46 [00:12<00:00,  3.74it/s]\n",
      "                 Class     Images  Instances      Box(P          R      mAP50  mAP50-95): 100%|██████████| 7/7 [00:00<00:00,  8.40it/s]"
     ]
    },
    {
     "name": "stdout",
     "output_type": "stream",
     "text": [
      "                   all        206        134      0.914      0.949       0.98      0.771\n"
     ]
    },
    {
     "name": "stderr",
     "output_type": "stream",
     "text": [
      "\n"
     ]
    },
    {
     "name": "stdout",
     "output_type": "stream",
     "text": [
      "\n",
      "      Epoch    GPU_mem   box_loss   cls_loss   dfl_loss  Instances       Size\n"
     ]
    },
    {
     "name": "stderr",
     "output_type": "stream",
     "text": [
      "     96/100       6.8G     0.6725     0.3364     0.8773          0        640: 100%|██████████| 46/46 [00:12<00:00,  3.74it/s]\n",
      "                 Class     Images  Instances      Box(P          R      mAP50  mAP50-95): 100%|██████████| 7/7 [00:00<00:00,  8.42it/s]"
     ]
    },
    {
     "name": "stdout",
     "output_type": "stream",
     "text": [
      "                   all        206        134      0.948       0.94      0.981      0.783\n"
     ]
    },
    {
     "name": "stderr",
     "output_type": "stream",
     "text": [
      "\n"
     ]
    },
    {
     "name": "stdout",
     "output_type": "stream",
     "text": [
      "\n",
      "      Epoch    GPU_mem   box_loss   cls_loss   dfl_loss  Instances       Size\n"
     ]
    },
    {
     "name": "stderr",
     "output_type": "stream",
     "text": [
      "     97/100      6.82G     0.6282     0.3489     0.8473          0        640: 100%|██████████| 46/46 [00:12<00:00,  3.73it/s]\n",
      "                 Class     Images  Instances      Box(P          R      mAP50  mAP50-95): 100%|██████████| 7/7 [00:00<00:00,  8.41it/s]"
     ]
    },
    {
     "name": "stdout",
     "output_type": "stream",
     "text": [
      "                   all        206        134      0.939       0.94      0.977      0.777\n"
     ]
    },
    {
     "name": "stderr",
     "output_type": "stream",
     "text": [
      "\n"
     ]
    },
    {
     "name": "stdout",
     "output_type": "stream",
     "text": [
      "\n",
      "      Epoch    GPU_mem   box_loss   cls_loss   dfl_loss  Instances       Size\n"
     ]
    },
    {
     "name": "stderr",
     "output_type": "stream",
     "text": [
      "     98/100      6.81G      0.648     0.3273     0.8572          4        640: 100%|██████████| 46/46 [00:12<00:00,  3.73it/s]\n",
      "                 Class     Images  Instances      Box(P          R      mAP50  mAP50-95): 100%|██████████| 7/7 [00:00<00:00,  8.42it/s]"
     ]
    },
    {
     "name": "stdout",
     "output_type": "stream",
     "text": [
      "                   all        206        134      0.943       0.94      0.976      0.773\n"
     ]
    },
    {
     "name": "stderr",
     "output_type": "stream",
     "text": [
      "\n"
     ]
    },
    {
     "name": "stdout",
     "output_type": "stream",
     "text": [
      "\n",
      "      Epoch    GPU_mem   box_loss   cls_loss   dfl_loss  Instances       Size\n"
     ]
    },
    {
     "name": "stderr",
     "output_type": "stream",
     "text": [
      "     99/100      6.83G     0.6088     0.3103      0.809          0        640: 100%|██████████| 46/46 [00:12<00:00,  3.74it/s]\n",
      "                 Class     Images  Instances      Box(P          R      mAP50  mAP50-95): 100%|██████████| 7/7 [00:00<00:00,  8.41it/s]"
     ]
    },
    {
     "name": "stdout",
     "output_type": "stream",
     "text": [
      "                   all        206        134      0.938      0.933      0.973      0.773\n"
     ]
    },
    {
     "name": "stderr",
     "output_type": "stream",
     "text": [
      "\n"
     ]
    },
    {
     "name": "stdout",
     "output_type": "stream",
     "text": [
      "\n",
      "      Epoch    GPU_mem   box_loss   cls_loss   dfl_loss  Instances       Size\n"
     ]
    },
    {
     "name": "stderr",
     "output_type": "stream",
     "text": [
      "    100/100      6.78G     0.6539     0.3303     0.8418          0        640: 100%|██████████| 46/46 [00:12<00:00,  3.74it/s]\n",
      "                 Class     Images  Instances      Box(P          R      mAP50  mAP50-95): 100%|██████████| 7/7 [00:00<00:00,  8.41it/s]"
     ]
    },
    {
     "name": "stdout",
     "output_type": "stream",
     "text": [
      "                   all        206        134      0.914      0.955      0.976      0.778\n"
     ]
    },
    {
     "name": "stderr",
     "output_type": "stream",
     "text": [
      "\n"
     ]
    },
    {
     "name": "stdout",
     "output_type": "stream",
     "text": [
      "\n",
      "100 epochs completed in 0.382 hours.\n",
      "Optimizer stripped from runs/detect/train7/weights/last.pt, 52.0MB\n",
      "Optimizer stripped from runs/detect/train7/weights/best.pt, 52.0MB\n",
      "\n",
      "Validating runs/detect/train7/weights/best.pt...\n",
      "Ultralytics YOLOv8.2.2 🚀 Python-3.11.7 torch-2.2.2+cu121 CUDA:0 (NVIDIA GeForce RTX 3070, 7971MiB)\n",
      "Model summary (fused): 218 layers, 25840339 parameters, 0 gradients, 78.7 GFLOPs\n"
     ]
    },
    {
     "name": "stderr",
     "output_type": "stream",
     "text": [
      "                 Class     Images  Instances      Box(P          R      mAP50  mAP50-95): 100%|██████████| 7/7 [00:00<00:00,  8.63it/s]\n"
     ]
    },
    {
     "name": "stdout",
     "output_type": "stream",
     "text": [
      "                   all        206        134      0.948       0.94      0.981      0.783\n",
      "Speed: 0.1ms preprocess, 3.4ms inference, 0.0ms loss, 0.2ms postprocess per image\n",
      "Results saved to \u001b[1mruns/detect/train7\u001b[0m\n"
     ]
    }
   ],
   "source": [
    "# Train the model\n",
    "results = model.train(data='training_data/YOLO/PacMan.yaml')"
   ]
  },
  {
   "cell_type": "code",
   "execution_count": null,
   "id": "70fc8f89-88e4-4cf0-9a87-178ba54f4e3d",
   "metadata": {},
   "outputs": [],
   "source": [
    "# Uncomment it if you want to train it again. \n",
    "#model.save('models/YOLO.pt')"
   ]
  },
  {
   "cell_type": "code",
   "execution_count": 3,
   "id": "a94c66ea-d9a4-4e4d-b88d-c1c04e9c5e85",
   "metadata": {},
   "outputs": [],
   "source": [
    "model = YOLO('models/YOLO.pt')"
   ]
  },
  {
   "cell_type": "code",
   "execution_count": 6,
   "id": "f16acd44-297f-439a-98f4-ddf8526a9947",
   "metadata": {
    "scrolled": true
   },
   "outputs": [
    {
     "name": "stdout",
     "output_type": "stream",
     "text": [
      "\n",
      "image 1/206 /home/adrian/OneDrive/Documents/Master of Computer Science/Deep Learning for CV and Robotics/Summative/dl-cv-robotics/training_data/YOLO/val/img_0005.png: 448x640 1 target, 8.9ms\n",
      "image 2/206 /home/adrian/OneDrive/Documents/Master of Computer Science/Deep Learning for CV and Robotics/Summative/dl-cv-robotics/training_data/YOLO/val/img_0009.png: 448x640 6 targets, 8.1ms\n",
      "image 3/206 /home/adrian/OneDrive/Documents/Master of Computer Science/Deep Learning for CV and Robotics/Summative/dl-cv-robotics/training_data/YOLO/val/img_0013.png: 448x640 5 targets, 8.5ms\n",
      "image 4/206 /home/adrian/OneDrive/Documents/Master of Computer Science/Deep Learning for CV and Robotics/Summative/dl-cv-robotics/training_data/YOLO/val/img_0018.png: 448x640 2 targets, 7.5ms\n",
      "image 5/206 /home/adrian/OneDrive/Documents/Master of Computer Science/Deep Learning for CV and Robotics/Summative/dl-cv-robotics/training_data/YOLO/val/img_0021.png: 448x640 2 targets, 7.5ms\n",
      "image 6/206 /home/adrian/OneDrive/Documents/Master of Computer Science/Deep Learning for CV and Robotics/Summative/dl-cv-robotics/training_data/YOLO/val/img_0023.png: 448x640 3 targets, 8.1ms\n",
      "image 7/206 /home/adrian/OneDrive/Documents/Master of Computer Science/Deep Learning for CV and Robotics/Summative/dl-cv-robotics/training_data/YOLO/val/img_0025.png: 448x640 3 targets, 7.4ms\n",
      "image 8/206 /home/adrian/OneDrive/Documents/Master of Computer Science/Deep Learning for CV and Robotics/Summative/dl-cv-robotics/training_data/YOLO/val/img_0028.png: 448x640 4 targets, 8.5ms\n",
      "image 9/206 /home/adrian/OneDrive/Documents/Master of Computer Science/Deep Learning for CV and Robotics/Summative/dl-cv-robotics/training_data/YOLO/val/img_0029.png: 448x640 6 targets, 8.4ms\n",
      "image 10/206 /home/adrian/OneDrive/Documents/Master of Computer Science/Deep Learning for CV and Robotics/Summative/dl-cv-robotics/training_data/YOLO/val/img_0031.png: 448x640 4 targets, 7.4ms\n",
      "image 11/206 /home/adrian/OneDrive/Documents/Master of Computer Science/Deep Learning for CV and Robotics/Summative/dl-cv-robotics/training_data/YOLO/val/img_0032.png: 448x640 1 target, 8.1ms\n",
      "image 12/206 /home/adrian/OneDrive/Documents/Master of Computer Science/Deep Learning for CV and Robotics/Summative/dl-cv-robotics/training_data/YOLO/val/img_0038.png: 448x640 2 targets, 8.4ms\n",
      "image 13/206 /home/adrian/OneDrive/Documents/Master of Computer Science/Deep Learning for CV and Robotics/Summative/dl-cv-robotics/training_data/YOLO/val/img_0043.png: 448x640 2 targets, 7.4ms\n",
      "image 14/206 /home/adrian/OneDrive/Documents/Master of Computer Science/Deep Learning for CV and Robotics/Summative/dl-cv-robotics/training_data/YOLO/val/img_0046.png: 448x640 1 target, 8.1ms\n",
      "image 15/206 /home/adrian/OneDrive/Documents/Master of Computer Science/Deep Learning for CV and Robotics/Summative/dl-cv-robotics/training_data/YOLO/val/img_0049.png: 448x640 3 targets, 8.0ms\n",
      "image 16/206 /home/adrian/OneDrive/Documents/Master of Computer Science/Deep Learning for CV and Robotics/Summative/dl-cv-robotics/training_data/YOLO/val/img_0052.png: 448x640 5 targets, 7.4ms\n",
      "image 17/206 /home/adrian/OneDrive/Documents/Master of Computer Science/Deep Learning for CV and Robotics/Summative/dl-cv-robotics/training_data/YOLO/val/img_0054.png: 448x640 5 targets, 8.4ms\n",
      "image 18/206 /home/adrian/OneDrive/Documents/Master of Computer Science/Deep Learning for CV and Robotics/Summative/dl-cv-robotics/training_data/YOLO/val/img_0055.png: 448x640 3 targets, 7.4ms\n",
      "image 19/206 /home/adrian/OneDrive/Documents/Master of Computer Science/Deep Learning for CV and Robotics/Summative/dl-cv-robotics/training_data/YOLO/val/img_0058.png: 448x640 1 target, 8.1ms\n",
      "image 20/206 /home/adrian/OneDrive/Documents/Master of Computer Science/Deep Learning for CV and Robotics/Summative/dl-cv-robotics/training_data/YOLO/val/img_0062.png: 448x640 2 targets, 8.4ms\n",
      "image 21/206 /home/adrian/OneDrive/Documents/Master of Computer Science/Deep Learning for CV and Robotics/Summative/dl-cv-robotics/training_data/YOLO/val/img_0066.png: 448x640 2 targets, 8.0ms\n",
      "image 22/206 /home/adrian/OneDrive/Documents/Master of Computer Science/Deep Learning for CV and Robotics/Summative/dl-cv-robotics/training_data/YOLO/val/img_0069.png: 448x640 3 targets, 8.1ms\n",
      "image 23/206 /home/adrian/OneDrive/Documents/Master of Computer Science/Deep Learning for CV and Robotics/Summative/dl-cv-robotics/training_data/YOLO/val/img_0071.png: 448x640 3 targets, 7.8ms\n",
      "image 24/206 /home/adrian/OneDrive/Documents/Master of Computer Science/Deep Learning for CV and Robotics/Summative/dl-cv-robotics/training_data/YOLO/val/img_0072.png: 448x640 3 targets, 7.5ms\n",
      "image 25/206 /home/adrian/OneDrive/Documents/Master of Computer Science/Deep Learning for CV and Robotics/Summative/dl-cv-robotics/training_data/YOLO/val/img_0073.png: 448x640 4 targets, 8.2ms\n",
      "image 26/206 /home/adrian/OneDrive/Documents/Master of Computer Science/Deep Learning for CV and Robotics/Summative/dl-cv-robotics/training_data/YOLO/val/img_0076.png: 448x640 3 targets, 7.4ms\n",
      "image 27/206 /home/adrian/OneDrive/Documents/Master of Computer Science/Deep Learning for CV and Robotics/Summative/dl-cv-robotics/training_data/YOLO/val/img_0094.png: 448x640 5 targets, 8.2ms\n",
      "image 28/206 /home/adrian/OneDrive/Documents/Master of Computer Science/Deep Learning for CV and Robotics/Summative/dl-cv-robotics/training_data/YOLO/val/img_0109.png: 448x640 1 target, 7.8ms\n",
      "image 29/206 /home/adrian/OneDrive/Documents/Master of Computer Science/Deep Learning for CV and Robotics/Summative/dl-cv-robotics/training_data/YOLO/val/img_0118.png: 448x640 2 targets, 7.5ms\n",
      "image 30/206 /home/adrian/OneDrive/Documents/Master of Computer Science/Deep Learning for CV and Robotics/Summative/dl-cv-robotics/training_data/YOLO/val/img_0123.png: 448x640 2 targets, 8.0ms\n",
      "image 31/206 /home/adrian/OneDrive/Documents/Master of Computer Science/Deep Learning for CV and Robotics/Summative/dl-cv-robotics/training_data/YOLO/val/img_0132.png: 448x640 (no detections), 8.2ms\n",
      "image 32/206 /home/adrian/OneDrive/Documents/Master of Computer Science/Deep Learning for CV and Robotics/Summative/dl-cv-robotics/training_data/YOLO/val/img_0133.png: 448x640 (no detections), 7.7ms\n",
      "image 33/206 /home/adrian/OneDrive/Documents/Master of Computer Science/Deep Learning for CV and Robotics/Summative/dl-cv-robotics/training_data/YOLO/val/img_0135.png: 448x640 2 targets, 7.5ms\n",
      "image 34/206 /home/adrian/OneDrive/Documents/Master of Computer Science/Deep Learning for CV and Robotics/Summative/dl-cv-robotics/training_data/YOLO/val/img_0137.png: 448x640 2 targets, 7.0ms\n",
      "image 35/206 /home/adrian/OneDrive/Documents/Master of Computer Science/Deep Learning for CV and Robotics/Summative/dl-cv-robotics/training_data/YOLO/val/img_0161.png: 448x640 3 targets, 7.9ms\n",
      "image 36/206 /home/adrian/OneDrive/Documents/Master of Computer Science/Deep Learning for CV and Robotics/Summative/dl-cv-robotics/training_data/YOLO/val/img_0171.png: 448x640 3 targets, 7.0ms\n",
      "image 37/206 /home/adrian/OneDrive/Documents/Master of Computer Science/Deep Learning for CV and Robotics/Summative/dl-cv-robotics/training_data/YOLO/val/img_0175.png: 448x640 1 target, 7.7ms\n",
      "image 38/206 /home/adrian/OneDrive/Documents/Master of Computer Science/Deep Learning for CV and Robotics/Summative/dl-cv-robotics/training_data/YOLO/val/img_0183.png: 448x640 2 targets, 7.0ms\n",
      "image 39/206 /home/adrian/OneDrive/Documents/Master of Computer Science/Deep Learning for CV and Robotics/Summative/dl-cv-robotics/training_data/YOLO/val/img_0187.png: 448x640 3 targets, 7.0ms\n",
      "image 40/206 /home/adrian/OneDrive/Documents/Master of Computer Science/Deep Learning for CV and Robotics/Summative/dl-cv-robotics/training_data/YOLO/val/img_0191.png: 448x640 4 targets, 7.0ms\n",
      "image 41/206 /home/adrian/OneDrive/Documents/Master of Computer Science/Deep Learning for CV and Robotics/Summative/dl-cv-robotics/training_data/YOLO/val/img_0193.png: 448x640 4 targets, 7.6ms\n",
      "image 42/206 /home/adrian/OneDrive/Documents/Master of Computer Science/Deep Learning for CV and Robotics/Summative/dl-cv-robotics/training_data/YOLO/val/img_0194.png: 448x640 2 targets, 8.0ms\n",
      "image 43/206 /home/adrian/OneDrive/Documents/Master of Computer Science/Deep Learning for CV and Robotics/Summative/dl-cv-robotics/training_data/YOLO/val/img_0196.png: 448x640 2 targets, 7.0ms\n",
      "image 44/206 /home/adrian/OneDrive/Documents/Master of Computer Science/Deep Learning for CV and Robotics/Summative/dl-cv-robotics/training_data/YOLO/val/img_0202.png: 448x640 1 target, 7.6ms\n",
      "image 45/206 /home/adrian/OneDrive/Documents/Master of Computer Science/Deep Learning for CV and Robotics/Summative/dl-cv-robotics/training_data/YOLO/val/img_0214.png: 448x640 2 targets, 7.0ms\n",
      "image 46/206 /home/adrian/OneDrive/Documents/Master of Computer Science/Deep Learning for CV and Robotics/Summative/dl-cv-robotics/training_data/YOLO/val/img_0215.png: 448x640 2 targets, 7.0ms\n",
      "image 47/206 /home/adrian/OneDrive/Documents/Master of Computer Science/Deep Learning for CV and Robotics/Summative/dl-cv-robotics/training_data/YOLO/val/img_0226.png: 448x640 2 targets, 7.7ms\n",
      "image 48/206 /home/adrian/OneDrive/Documents/Master of Computer Science/Deep Learning for CV and Robotics/Summative/dl-cv-robotics/training_data/YOLO/val/img_0227.png: 448x640 2 targets, 7.1ms\n",
      "image 49/206 /home/adrian/OneDrive/Documents/Master of Computer Science/Deep Learning for CV and Robotics/Summative/dl-cv-robotics/training_data/YOLO/val/img_0231.png: 448x640 2 targets, 7.8ms\n",
      "image 50/206 /home/adrian/OneDrive/Documents/Master of Computer Science/Deep Learning for CV and Robotics/Summative/dl-cv-robotics/training_data/YOLO/val/img_0233.png: 448x640 3 targets, 7.0ms\n",
      "image 51/206 /home/adrian/OneDrive/Documents/Master of Computer Science/Deep Learning for CV and Robotics/Summative/dl-cv-robotics/training_data/YOLO/val/img_0234.png: 448x640 2 targets, 7.1ms\n",
      "image 52/206 /home/adrian/OneDrive/Documents/Master of Computer Science/Deep Learning for CV and Robotics/Summative/dl-cv-robotics/training_data/YOLO/val/img_0235.png: 448x640 2 targets, 8.1ms\n",
      "image 53/206 /home/adrian/OneDrive/Documents/Master of Computer Science/Deep Learning for CV and Robotics/Summative/dl-cv-robotics/training_data/YOLO/val/img_0241.png: 448x640 2 targets, 7.1ms\n",
      "image 54/206 /home/adrian/OneDrive/Documents/Master of Computer Science/Deep Learning for CV and Robotics/Summative/dl-cv-robotics/training_data/YOLO/val/img_0252.png: 448x640 (no detections), 8.2ms\n",
      "image 55/206 /home/adrian/OneDrive/Documents/Master of Computer Science/Deep Learning for CV and Robotics/Summative/dl-cv-robotics/training_data/YOLO/val/img_0261.png: 448x640 (no detections), 7.0ms\n",
      "image 56/206 /home/adrian/OneDrive/Documents/Master of Computer Science/Deep Learning for CV and Robotics/Summative/dl-cv-robotics/training_data/YOLO/val/img_0264.png: 448x640 (no detections), 7.3ms\n",
      "image 57/206 /home/adrian/OneDrive/Documents/Master of Computer Science/Deep Learning for CV and Robotics/Summative/dl-cv-robotics/training_data/YOLO/val/img_0280.png: 448x640 (no detections), 7.0ms\n",
      "image 58/206 /home/adrian/OneDrive/Documents/Master of Computer Science/Deep Learning for CV and Robotics/Summative/dl-cv-robotics/training_data/YOLO/val/img_0290.png: 448x640 (no detections), 7.5ms\n",
      "image 59/206 /home/adrian/OneDrive/Documents/Master of Computer Science/Deep Learning for CV and Robotics/Summative/dl-cv-robotics/training_data/YOLO/val/img_0294.png: 448x640 1 target, 7.1ms\n",
      "image 60/206 /home/adrian/OneDrive/Documents/Master of Computer Science/Deep Learning for CV and Robotics/Summative/dl-cv-robotics/training_data/YOLO/val/img_0296.png: 448x640 (no detections), 7.4ms\n",
      "image 61/206 /home/adrian/OneDrive/Documents/Master of Computer Science/Deep Learning for CV and Robotics/Summative/dl-cv-robotics/training_data/YOLO/val/img_0300.png: 448x640 (no detections), 7.1ms\n",
      "image 62/206 /home/adrian/OneDrive/Documents/Master of Computer Science/Deep Learning for CV and Robotics/Summative/dl-cv-robotics/training_data/YOLO/val/img_0306.png: 448x640 (no detections), 7.1ms\n",
      "image 63/206 /home/adrian/OneDrive/Documents/Master of Computer Science/Deep Learning for CV and Robotics/Summative/dl-cv-robotics/training_data/YOLO/val/img_0312.png: 448x640 (no detections), 7.2ms\n",
      "image 64/206 /home/adrian/OneDrive/Documents/Master of Computer Science/Deep Learning for CV and Robotics/Summative/dl-cv-robotics/training_data/YOLO/val/img_0313.png: 448x640 1 target, 7.1ms\n",
      "image 65/206 /home/adrian/OneDrive/Documents/Master of Computer Science/Deep Learning for CV and Robotics/Summative/dl-cv-robotics/training_data/YOLO/val/img_0315.png: 448x640 (no detections), 7.7ms\n",
      "image 66/206 /home/adrian/OneDrive/Documents/Master of Computer Science/Deep Learning for CV and Robotics/Summative/dl-cv-robotics/training_data/YOLO/val/img_0317.png: 448x640 1 target, 7.1ms\n",
      "image 67/206 /home/adrian/OneDrive/Documents/Master of Computer Science/Deep Learning for CV and Robotics/Summative/dl-cv-robotics/training_data/YOLO/val/img_0325.png: 448x640 (no detections), 7.8ms\n",
      "image 68/206 /home/adrian/OneDrive/Documents/Master of Computer Science/Deep Learning for CV and Robotics/Summative/dl-cv-robotics/training_data/YOLO/val/img_0333.png: 448x640 (no detections), 7.1ms\n",
      "image 69/206 /home/adrian/OneDrive/Documents/Master of Computer Science/Deep Learning for CV and Robotics/Summative/dl-cv-robotics/training_data/YOLO/val/img_0341.png: 448x640 (no detections), 7.8ms\n",
      "image 70/206 /home/adrian/OneDrive/Documents/Master of Computer Science/Deep Learning for CV and Robotics/Summative/dl-cv-robotics/training_data/YOLO/val/img_0342.png: 448x640 (no detections), 7.4ms\n",
      "image 71/206 /home/adrian/OneDrive/Documents/Master of Computer Science/Deep Learning for CV and Robotics/Summative/dl-cv-robotics/training_data/YOLO/val/img_0355.png: 448x640 (no detections), 7.4ms\n",
      "image 72/206 /home/adrian/OneDrive/Documents/Master of Computer Science/Deep Learning for CV and Robotics/Summative/dl-cv-robotics/training_data/YOLO/val/img_0357.png: 448x640 (no detections), 7.1ms\n",
      "image 73/206 /home/adrian/OneDrive/Documents/Master of Computer Science/Deep Learning for CV and Robotics/Summative/dl-cv-robotics/training_data/YOLO/val/img_0358.png: 448x640 1 target, 7.0ms\n",
      "image 74/206 /home/adrian/OneDrive/Documents/Master of Computer Science/Deep Learning for CV and Robotics/Summative/dl-cv-robotics/training_data/YOLO/val/img_0363.png: 448x640 (no detections), 8.5ms\n",
      "image 75/206 /home/adrian/OneDrive/Documents/Master of Computer Science/Deep Learning for CV and Robotics/Summative/dl-cv-robotics/training_data/YOLO/val/img_0364.png: 448x640 (no detections), 7.5ms\n",
      "image 76/206 /home/adrian/OneDrive/Documents/Master of Computer Science/Deep Learning for CV and Robotics/Summative/dl-cv-robotics/training_data/YOLO/val/img_0366.png: 448x640 (no detections), 7.6ms\n",
      "image 77/206 /home/adrian/OneDrive/Documents/Master of Computer Science/Deep Learning for CV and Robotics/Summative/dl-cv-robotics/training_data/YOLO/val/img_0372.png: 448x640 (no detections), 7.4ms\n",
      "image 78/206 /home/adrian/OneDrive/Documents/Master of Computer Science/Deep Learning for CV and Robotics/Summative/dl-cv-robotics/training_data/YOLO/val/img_0374.png: 448x640 (no detections), 7.8ms\n",
      "image 79/206 /home/adrian/OneDrive/Documents/Master of Computer Science/Deep Learning for CV and Robotics/Summative/dl-cv-robotics/training_data/YOLO/val/img_0378.png: 448x640 (no detections), 7.3ms\n",
      "image 80/206 /home/adrian/OneDrive/Documents/Master of Computer Science/Deep Learning for CV and Robotics/Summative/dl-cv-robotics/training_data/YOLO/val/img_0384.png: 448x640 (no detections), 7.7ms\n",
      "image 81/206 /home/adrian/OneDrive/Documents/Master of Computer Science/Deep Learning for CV and Robotics/Summative/dl-cv-robotics/training_data/YOLO/val/img_0389.png: 448x640 (no detections), 7.4ms\n",
      "image 82/206 /home/adrian/OneDrive/Documents/Master of Computer Science/Deep Learning for CV and Robotics/Summative/dl-cv-robotics/training_data/YOLO/val/img_0401.png: 448x640 (no detections), 7.7ms\n",
      "image 83/206 /home/adrian/OneDrive/Documents/Master of Computer Science/Deep Learning for CV and Robotics/Summative/dl-cv-robotics/training_data/YOLO/val/img_0403.png: 448x640 (no detections), 7.4ms\n",
      "image 84/206 /home/adrian/OneDrive/Documents/Master of Computer Science/Deep Learning for CV and Robotics/Summative/dl-cv-robotics/training_data/YOLO/val/img_0409.png: 448x640 (no detections), 7.4ms\n",
      "image 85/206 /home/adrian/OneDrive/Documents/Master of Computer Science/Deep Learning for CV and Robotics/Summative/dl-cv-robotics/training_data/YOLO/val/img_0415.png: 448x640 (no detections), 7.9ms\n",
      "image 86/206 /home/adrian/OneDrive/Documents/Master of Computer Science/Deep Learning for CV and Robotics/Summative/dl-cv-robotics/training_data/YOLO/val/img_0417.png: 448x640 (no detections), 7.0ms\n",
      "image 87/206 /home/adrian/OneDrive/Documents/Master of Computer Science/Deep Learning for CV and Robotics/Summative/dl-cv-robotics/training_data/YOLO/val/img_0426.png: 448x640 (no detections), 7.1ms\n",
      "image 88/206 /home/adrian/OneDrive/Documents/Master of Computer Science/Deep Learning for CV and Robotics/Summative/dl-cv-robotics/training_data/YOLO/val/img_0428.png: 448x640 (no detections), 7.1ms\n",
      "image 89/206 /home/adrian/OneDrive/Documents/Master of Computer Science/Deep Learning for CV and Robotics/Summative/dl-cv-robotics/training_data/YOLO/val/img_0429.png: 448x640 (no detections), 7.7ms\n",
      "image 90/206 /home/adrian/OneDrive/Documents/Master of Computer Science/Deep Learning for CV and Robotics/Summative/dl-cv-robotics/training_data/YOLO/val/img_0436.png: 448x640 (no detections), 7.1ms\n",
      "image 91/206 /home/adrian/OneDrive/Documents/Master of Computer Science/Deep Learning for CV and Robotics/Summative/dl-cv-robotics/training_data/YOLO/val/img_0438.png: 448x640 (no detections), 7.2ms\n",
      "image 92/206 /home/adrian/OneDrive/Documents/Master of Computer Science/Deep Learning for CV and Robotics/Summative/dl-cv-robotics/training_data/YOLO/val/img_0442.png: 448x640 (no detections), 7.0ms\n",
      "image 93/206 /home/adrian/OneDrive/Documents/Master of Computer Science/Deep Learning for CV and Robotics/Summative/dl-cv-robotics/training_data/YOLO/val/img_0443.png: 448x640 (no detections), 7.0ms\n",
      "image 94/206 /home/adrian/OneDrive/Documents/Master of Computer Science/Deep Learning for CV and Robotics/Summative/dl-cv-robotics/training_data/YOLO/val/img_0450.png: 448x640 (no detections), 7.1ms\n",
      "image 95/206 /home/adrian/OneDrive/Documents/Master of Computer Science/Deep Learning for CV and Robotics/Summative/dl-cv-robotics/training_data/YOLO/val/img_0451.png: 448x640 (no detections), 7.8ms\n",
      "image 96/206 /home/adrian/OneDrive/Documents/Master of Computer Science/Deep Learning for CV and Robotics/Summative/dl-cv-robotics/training_data/YOLO/val/img_0453.png: 448x640 (no detections), 7.1ms\n",
      "image 97/206 /home/adrian/OneDrive/Documents/Master of Computer Science/Deep Learning for CV and Robotics/Summative/dl-cv-robotics/training_data/YOLO/val/img_0455.png: 448x640 (no detections), 8.2ms\n",
      "image 98/206 /home/adrian/OneDrive/Documents/Master of Computer Science/Deep Learning for CV and Robotics/Summative/dl-cv-robotics/training_data/YOLO/val/img_0456.png: 448x640 (no detections), 7.1ms\n",
      "image 99/206 /home/adrian/OneDrive/Documents/Master of Computer Science/Deep Learning for CV and Robotics/Summative/dl-cv-robotics/training_data/YOLO/val/img_0460.png: 448x640 (no detections), 7.3ms\n",
      "image 100/206 /home/adrian/OneDrive/Documents/Master of Computer Science/Deep Learning for CV and Robotics/Summative/dl-cv-robotics/training_data/YOLO/val/img_0464.png: 448x640 (no detections), 7.4ms\n",
      "image 101/206 /home/adrian/OneDrive/Documents/Master of Computer Science/Deep Learning for CV and Robotics/Summative/dl-cv-robotics/training_data/YOLO/val/img_0467.png: 448x640 (no detections), 7.7ms\n",
      "image 102/206 /home/adrian/OneDrive/Documents/Master of Computer Science/Deep Learning for CV and Robotics/Summative/dl-cv-robotics/training_data/YOLO/val/img_0473.png: 448x640 (no detections), 7.4ms\n",
      "image 103/206 /home/adrian/OneDrive/Documents/Master of Computer Science/Deep Learning for CV and Robotics/Summative/dl-cv-robotics/training_data/YOLO/val/img_0474.png: 448x640 (no detections), 7.7ms\n",
      "image 104/206 /home/adrian/OneDrive/Documents/Master of Computer Science/Deep Learning for CV and Robotics/Summative/dl-cv-robotics/training_data/YOLO/val/img_0482.png: 448x640 (no detections), 7.3ms\n",
      "image 105/206 /home/adrian/OneDrive/Documents/Master of Computer Science/Deep Learning for CV and Robotics/Summative/dl-cv-robotics/training_data/YOLO/val/img_0488.png: 448x640 (no detections), 7.7ms\n",
      "image 106/206 /home/adrian/OneDrive/Documents/Master of Computer Science/Deep Learning for CV and Robotics/Summative/dl-cv-robotics/training_data/YOLO/val/img_0499.png: 448x640 (no detections), 7.1ms\n",
      "image 107/206 /home/adrian/OneDrive/Documents/Master of Computer Science/Deep Learning for CV and Robotics/Summative/dl-cv-robotics/training_data/YOLO/val/img_0501.png: 448x640 (no detections), 7.1ms\n",
      "image 108/206 /home/adrian/OneDrive/Documents/Master of Computer Science/Deep Learning for CV and Robotics/Summative/dl-cv-robotics/training_data/YOLO/val/img_0503.png: 448x640 (no detections), 8.2ms\n",
      "image 109/206 /home/adrian/OneDrive/Documents/Master of Computer Science/Deep Learning for CV and Robotics/Summative/dl-cv-robotics/training_data/YOLO/val/img_0512.png: 448x640 (no detections), 7.1ms\n",
      "image 110/206 /home/adrian/OneDrive/Documents/Master of Computer Science/Deep Learning for CV and Robotics/Summative/dl-cv-robotics/training_data/YOLO/val/img_0516.png: 448x640 (no detections), 7.4ms\n",
      "image 111/206 /home/adrian/OneDrive/Documents/Master of Computer Science/Deep Learning for CV and Robotics/Summative/dl-cv-robotics/training_data/YOLO/val/img_0518.png: 448x640 (no detections), 7.1ms\n",
      "image 112/206 /home/adrian/OneDrive/Documents/Master of Computer Science/Deep Learning for CV and Robotics/Summative/dl-cv-robotics/training_data/YOLO/val/img_0533.png: 448x640 (no detections), 7.4ms\n",
      "image 113/206 /home/adrian/OneDrive/Documents/Master of Computer Science/Deep Learning for CV and Robotics/Summative/dl-cv-robotics/training_data/YOLO/val/img_0551.png: 448x640 (no detections), 7.0ms\n",
      "image 114/206 /home/adrian/OneDrive/Documents/Master of Computer Science/Deep Learning for CV and Robotics/Summative/dl-cv-robotics/training_data/YOLO/val/img_0553.png: 448x640 (no detections), 7.2ms\n",
      "image 115/206 /home/adrian/OneDrive/Documents/Master of Computer Science/Deep Learning for CV and Robotics/Summative/dl-cv-robotics/training_data/YOLO/val/img_0556.png: 448x640 (no detections), 7.1ms\n",
      "image 116/206 /home/adrian/OneDrive/Documents/Master of Computer Science/Deep Learning for CV and Robotics/Summative/dl-cv-robotics/training_data/YOLO/val/img_0558.png: 448x640 (no detections), 8.1ms\n",
      "image 117/206 /home/adrian/OneDrive/Documents/Master of Computer Science/Deep Learning for CV and Robotics/Summative/dl-cv-robotics/training_data/YOLO/val/img_0560.png: 448x640 (no detections), 7.1ms\n",
      "image 118/206 /home/adrian/OneDrive/Documents/Master of Computer Science/Deep Learning for CV and Robotics/Summative/dl-cv-robotics/training_data/YOLO/val/img_0565.png: 448x640 (no detections), 8.1ms\n",
      "image 119/206 /home/adrian/OneDrive/Documents/Master of Computer Science/Deep Learning for CV and Robotics/Summative/dl-cv-robotics/training_data/YOLO/val/img_0571.png: 448x640 (no detections), 7.7ms\n",
      "image 120/206 /home/adrian/OneDrive/Documents/Master of Computer Science/Deep Learning for CV and Robotics/Summative/dl-cv-robotics/training_data/YOLO/val/img_0575.png: 448x640 (no detections), 7.2ms\n",
      "image 121/206 /home/adrian/OneDrive/Documents/Master of Computer Science/Deep Learning for CV and Robotics/Summative/dl-cv-robotics/training_data/YOLO/val/img_0580.png: 448x640 (no detections), 7.0ms\n",
      "image 122/206 /home/adrian/OneDrive/Documents/Master of Computer Science/Deep Learning for CV and Robotics/Summative/dl-cv-robotics/training_data/YOLO/val/img_0583.png: 448x640 (no detections), 7.1ms\n",
      "image 123/206 /home/adrian/OneDrive/Documents/Master of Computer Science/Deep Learning for CV and Robotics/Summative/dl-cv-robotics/training_data/YOLO/val/img_0594.png: 448x640 (no detections), 7.0ms\n",
      "image 124/206 /home/adrian/OneDrive/Documents/Master of Computer Science/Deep Learning for CV and Robotics/Summative/dl-cv-robotics/training_data/YOLO/val/img_0595.png: 448x640 (no detections), 7.6ms\n",
      "image 125/206 /home/adrian/OneDrive/Documents/Master of Computer Science/Deep Learning for CV and Robotics/Summative/dl-cv-robotics/training_data/YOLO/val/img_0597.png: 448x640 (no detections), 7.0ms\n",
      "image 126/206 /home/adrian/OneDrive/Documents/Master of Computer Science/Deep Learning for CV and Robotics/Summative/dl-cv-robotics/training_data/YOLO/val/img_0599.png: 448x640 (no detections), 7.2ms\n",
      "image 127/206 /home/adrian/OneDrive/Documents/Master of Computer Science/Deep Learning for CV and Robotics/Summative/dl-cv-robotics/training_data/YOLO/val/img_0608.png: 448x640 (no detections), 7.0ms\n",
      "image 128/206 /home/adrian/OneDrive/Documents/Master of Computer Science/Deep Learning for CV and Robotics/Summative/dl-cv-robotics/training_data/YOLO/val/img_0610.png: 448x640 (no detections), 7.1ms\n",
      "image 129/206 /home/adrian/OneDrive/Documents/Master of Computer Science/Deep Learning for CV and Robotics/Summative/dl-cv-robotics/training_data/YOLO/val/img_0611.png: 448x640 (no detections), 7.1ms\n",
      "image 130/206 /home/adrian/OneDrive/Documents/Master of Computer Science/Deep Learning for CV and Robotics/Summative/dl-cv-robotics/training_data/YOLO/val/img_0616.png: 448x640 (no detections), 7.5ms\n",
      "image 131/206 /home/adrian/OneDrive/Documents/Master of Computer Science/Deep Learning for CV and Robotics/Summative/dl-cv-robotics/training_data/YOLO/val/img_0627.png: 448x640 (no detections), 7.7ms\n",
      "image 132/206 /home/adrian/OneDrive/Documents/Master of Computer Science/Deep Learning for CV and Robotics/Summative/dl-cv-robotics/training_data/YOLO/val/img_0638.png: 448x640 (no detections), 7.1ms\n",
      "image 133/206 /home/adrian/OneDrive/Documents/Master of Computer Science/Deep Learning for CV and Robotics/Summative/dl-cv-robotics/training_data/YOLO/val/img_0646.png: 448x640 (no detections), 7.0ms\n",
      "image 134/206 /home/adrian/OneDrive/Documents/Master of Computer Science/Deep Learning for CV and Robotics/Summative/dl-cv-robotics/training_data/YOLO/val/img_0650.png: 448x640 (no detections), 7.1ms\n",
      "image 135/206 /home/adrian/OneDrive/Documents/Master of Computer Science/Deep Learning for CV and Robotics/Summative/dl-cv-robotics/training_data/YOLO/val/img_0653.png: 448x640 (no detections), 7.5ms\n",
      "image 136/206 /home/adrian/OneDrive/Documents/Master of Computer Science/Deep Learning for CV and Robotics/Summative/dl-cv-robotics/training_data/YOLO/val/img_0655.png: 448x640 (no detections), 7.1ms\n",
      "image 137/206 /home/adrian/OneDrive/Documents/Master of Computer Science/Deep Learning for CV and Robotics/Summative/dl-cv-robotics/training_data/YOLO/val/img_0666.png: 448x640 (no detections), 8.0ms\n",
      "image 138/206 /home/adrian/OneDrive/Documents/Master of Computer Science/Deep Learning for CV and Robotics/Summative/dl-cv-robotics/training_data/YOLO/val/img_0669.png: 448x640 (no detections), 7.1ms\n",
      "image 139/206 /home/adrian/OneDrive/Documents/Master of Computer Science/Deep Learning for CV and Robotics/Summative/dl-cv-robotics/training_data/YOLO/val/img_0681.png: 448x640 (no detections), 7.4ms\n",
      "image 140/206 /home/adrian/OneDrive/Documents/Master of Computer Science/Deep Learning for CV and Robotics/Summative/dl-cv-robotics/training_data/YOLO/val/img_0685.png: 448x640 (no detections), 7.4ms\n",
      "image 141/206 /home/adrian/OneDrive/Documents/Master of Computer Science/Deep Learning for CV and Robotics/Summative/dl-cv-robotics/training_data/YOLO/val/img_0699.png: 448x640 (no detections), 7.6ms\n",
      "image 142/206 /home/adrian/OneDrive/Documents/Master of Computer Science/Deep Learning for CV and Robotics/Summative/dl-cv-robotics/training_data/YOLO/val/img_0707.png: 448x640 (no detections), 7.4ms\n",
      "image 143/206 /home/adrian/OneDrive/Documents/Master of Computer Science/Deep Learning for CV and Robotics/Summative/dl-cv-robotics/training_data/YOLO/val/img_0712.png: 448x640 (no detections), 7.7ms\n",
      "image 144/206 /home/adrian/OneDrive/Documents/Master of Computer Science/Deep Learning for CV and Robotics/Summative/dl-cv-robotics/training_data/YOLO/val/img_0717.png: 448x640 (no detections), 7.5ms\n",
      "image 145/206 /home/adrian/OneDrive/Documents/Master of Computer Science/Deep Learning for CV and Robotics/Summative/dl-cv-robotics/training_data/YOLO/val/img_0724.png: 448x640 (no detections), 7.8ms\n",
      "image 146/206 /home/adrian/OneDrive/Documents/Master of Computer Science/Deep Learning for CV and Robotics/Summative/dl-cv-robotics/training_data/YOLO/val/img_0737.png: 448x640 (no detections), 7.4ms\n",
      "image 147/206 /home/adrian/OneDrive/Documents/Master of Computer Science/Deep Learning for CV and Robotics/Summative/dl-cv-robotics/training_data/YOLO/val/img_0738.png: 448x640 (no detections), 7.4ms\n",
      "image 148/206 /home/adrian/OneDrive/Documents/Master of Computer Science/Deep Learning for CV and Robotics/Summative/dl-cv-robotics/training_data/YOLO/val/img_0742.png: 448x640 (no detections), 7.9ms\n",
      "image 149/206 /home/adrian/OneDrive/Documents/Master of Computer Science/Deep Learning for CV and Robotics/Summative/dl-cv-robotics/training_data/YOLO/val/img_0746.png: 448x640 (no detections), 7.1ms\n",
      "image 150/206 /home/adrian/OneDrive/Documents/Master of Computer Science/Deep Learning for CV and Robotics/Summative/dl-cv-robotics/training_data/YOLO/val/img_0750.png: 448x640 (no detections), 7.8ms\n",
      "image 151/206 /home/adrian/OneDrive/Documents/Master of Computer Science/Deep Learning for CV and Robotics/Summative/dl-cv-robotics/training_data/YOLO/val/img_0751.png: 448x640 (no detections), 7.1ms\n",
      "image 152/206 /home/adrian/OneDrive/Documents/Master of Computer Science/Deep Learning for CV and Robotics/Summative/dl-cv-robotics/training_data/YOLO/val/img_0756.png: 448x640 (no detections), 7.3ms\n",
      "image 153/206 /home/adrian/OneDrive/Documents/Master of Computer Science/Deep Learning for CV and Robotics/Summative/dl-cv-robotics/training_data/YOLO/val/img_0758.png: 448x640 (no detections), 7.3ms\n",
      "image 154/206 /home/adrian/OneDrive/Documents/Master of Computer Science/Deep Learning for CV and Robotics/Summative/dl-cv-robotics/training_data/YOLO/val/img_0772.png: 448x640 (no detections), 8.5ms\n",
      "image 155/206 /home/adrian/OneDrive/Documents/Master of Computer Science/Deep Learning for CV and Robotics/Summative/dl-cv-robotics/training_data/YOLO/val/img_0776.png: 448x640 (no detections), 7.1ms\n",
      "image 156/206 /home/adrian/OneDrive/Documents/Master of Computer Science/Deep Learning for CV and Robotics/Summative/dl-cv-robotics/training_data/YOLO/val/img_0781.png: 448x640 (no detections), 7.9ms\n",
      "image 157/206 /home/adrian/OneDrive/Documents/Master of Computer Science/Deep Learning for CV and Robotics/Summative/dl-cv-robotics/training_data/YOLO/val/img_0789.png: 448x640 (no detections), 7.1ms\n",
      "image 158/206 /home/adrian/OneDrive/Documents/Master of Computer Science/Deep Learning for CV and Robotics/Summative/dl-cv-robotics/training_data/YOLO/val/img_0796.png: 448x640 (no detections), 7.7ms\n",
      "image 159/206 /home/adrian/OneDrive/Documents/Master of Computer Science/Deep Learning for CV and Robotics/Summative/dl-cv-robotics/training_data/YOLO/val/img_0798.png: 448x640 (no detections), 7.1ms\n",
      "image 160/206 /home/adrian/OneDrive/Documents/Master of Computer Science/Deep Learning for CV and Robotics/Summative/dl-cv-robotics/training_data/YOLO/val/img_0800.png: 448x640 (no detections), 7.1ms\n",
      "image 161/206 /home/adrian/OneDrive/Documents/Master of Computer Science/Deep Learning for CV and Robotics/Summative/dl-cv-robotics/training_data/YOLO/val/img_0805.png: 448x640 (no detections), 7.1ms\n",
      "image 162/206 /home/adrian/OneDrive/Documents/Master of Computer Science/Deep Learning for CV and Robotics/Summative/dl-cv-robotics/training_data/YOLO/val/img_0817.png: 448x640 (no detections), 7.3ms\n",
      "image 163/206 /home/adrian/OneDrive/Documents/Master of Computer Science/Deep Learning for CV and Robotics/Summative/dl-cv-robotics/training_data/YOLO/val/img_0821.png: 448x640 (no detections), 7.0ms\n",
      "image 164/206 /home/adrian/OneDrive/Documents/Master of Computer Science/Deep Learning for CV and Robotics/Summative/dl-cv-robotics/training_data/YOLO/val/img_0825.png: 448x640 (no detections), 7.4ms\n",
      "image 165/206 /home/adrian/OneDrive/Documents/Master of Computer Science/Deep Learning for CV and Robotics/Summative/dl-cv-robotics/training_data/YOLO/val/img_0838.png: 448x640 1 target, 7.7ms\n",
      "image 166/206 /home/adrian/OneDrive/Documents/Master of Computer Science/Deep Learning for CV and Robotics/Summative/dl-cv-robotics/training_data/YOLO/val/img_0842.png: 448x640 (no detections), 7.1ms\n",
      "image 167/206 /home/adrian/OneDrive/Documents/Master of Computer Science/Deep Learning for CV and Robotics/Summative/dl-cv-robotics/training_data/YOLO/val/img_0844.png: 448x640 (no detections), 7.7ms\n",
      "image 168/206 /home/adrian/OneDrive/Documents/Master of Computer Science/Deep Learning for CV and Robotics/Summative/dl-cv-robotics/training_data/YOLO/val/img_0845.png: 448x640 (no detections), 7.1ms\n",
      "image 169/206 /home/adrian/OneDrive/Documents/Master of Computer Science/Deep Learning for CV and Robotics/Summative/dl-cv-robotics/training_data/YOLO/val/img_0847.png: 448x640 (no detections), 7.9ms\n",
      "image 170/206 /home/adrian/OneDrive/Documents/Master of Computer Science/Deep Learning for CV and Robotics/Summative/dl-cv-robotics/training_data/YOLO/val/img_0853.png: 448x640 (no detections), 7.1ms\n",
      "image 171/206 /home/adrian/OneDrive/Documents/Master of Computer Science/Deep Learning for CV and Robotics/Summative/dl-cv-robotics/training_data/YOLO/val/img_0854.png: 448x640 (no detections), 7.3ms\n",
      "image 172/206 /home/adrian/OneDrive/Documents/Master of Computer Science/Deep Learning for CV and Robotics/Summative/dl-cv-robotics/training_data/YOLO/val/img_0858.png: 448x640 (no detections), 7.1ms\n",
      "image 173/206 /home/adrian/OneDrive/Documents/Master of Computer Science/Deep Learning for CV and Robotics/Summative/dl-cv-robotics/training_data/YOLO/val/img_0861.png: 448x640 (no detections), 7.1ms\n",
      "image 174/206 /home/adrian/OneDrive/Documents/Master of Computer Science/Deep Learning for CV and Robotics/Summative/dl-cv-robotics/training_data/YOLO/val/img_0870.png: 448x640 (no detections), 7.1ms\n",
      "image 175/206 /home/adrian/OneDrive/Documents/Master of Computer Science/Deep Learning for CV and Robotics/Summative/dl-cv-robotics/training_data/YOLO/val/img_0876.png: 448x640 2 targets, 7.5ms\n",
      "image 176/206 /home/adrian/OneDrive/Documents/Master of Computer Science/Deep Learning for CV and Robotics/Summative/dl-cv-robotics/training_data/YOLO/val/img_0882.png: 448x640 (no detections), 7.1ms\n",
      "image 177/206 /home/adrian/OneDrive/Documents/Master of Computer Science/Deep Learning for CV and Robotics/Summative/dl-cv-robotics/training_data/YOLO/val/img_0883.png: 448x640 (no detections), 8.2ms\n",
      "image 178/206 /home/adrian/OneDrive/Documents/Master of Computer Science/Deep Learning for CV and Robotics/Summative/dl-cv-robotics/training_data/YOLO/val/img_0890.png: 448x640 3 targets, 7.1ms\n",
      "image 179/206 /home/adrian/OneDrive/Documents/Master of Computer Science/Deep Learning for CV and Robotics/Summative/dl-cv-robotics/training_data/YOLO/val/img_0905.png: 448x640 (no detections), 7.7ms\n",
      "image 180/206 /home/adrian/OneDrive/Documents/Master of Computer Science/Deep Learning for CV and Robotics/Summative/dl-cv-robotics/training_data/YOLO/val/img_0906.png: 448x640 (no detections), 7.1ms\n",
      "image 181/206 /home/adrian/OneDrive/Documents/Master of Computer Science/Deep Learning for CV and Robotics/Summative/dl-cv-robotics/training_data/YOLO/val/img_0907.png: 448x640 (no detections), 7.9ms\n",
      "image 182/206 /home/adrian/OneDrive/Documents/Master of Computer Science/Deep Learning for CV and Robotics/Summative/dl-cv-robotics/training_data/YOLO/val/img_0909.png: 448x640 (no detections), 7.1ms\n",
      "image 183/206 /home/adrian/OneDrive/Documents/Master of Computer Science/Deep Learning for CV and Robotics/Summative/dl-cv-robotics/training_data/YOLO/val/img_0910.png: 448x640 (no detections), 7.4ms\n",
      "image 184/206 /home/adrian/OneDrive/Documents/Master of Computer Science/Deep Learning for CV and Robotics/Summative/dl-cv-robotics/training_data/YOLO/val/img_0912.png: 448x640 (no detections), 7.1ms\n",
      "image 185/206 /home/adrian/OneDrive/Documents/Master of Computer Science/Deep Learning for CV and Robotics/Summative/dl-cv-robotics/training_data/YOLO/val/img_0915.png: 448x640 (no detections), 7.4ms\n",
      "image 186/206 /home/adrian/OneDrive/Documents/Master of Computer Science/Deep Learning for CV and Robotics/Summative/dl-cv-robotics/training_data/YOLO/val/img_0918.png: 448x640 (no detections), 7.0ms\n",
      "image 187/206 /home/adrian/OneDrive/Documents/Master of Computer Science/Deep Learning for CV and Robotics/Summative/dl-cv-robotics/training_data/YOLO/val/img_0927.png: 448x640 (no detections), 7.1ms\n",
      "image 188/206 /home/adrian/OneDrive/Documents/Master of Computer Science/Deep Learning for CV and Robotics/Summative/dl-cv-robotics/training_data/YOLO/val/img_0932.png: 448x640 (no detections), 7.1ms\n",
      "image 189/206 /home/adrian/OneDrive/Documents/Master of Computer Science/Deep Learning for CV and Robotics/Summative/dl-cv-robotics/training_data/YOLO/val/img_0945.png: 448x640 (no detections), 7.3ms\n",
      "image 190/206 /home/adrian/OneDrive/Documents/Master of Computer Science/Deep Learning for CV and Robotics/Summative/dl-cv-robotics/training_data/YOLO/val/img_0950.png: 448x640 (no detections), 7.3ms\n",
      "image 191/206 /home/adrian/OneDrive/Documents/Master of Computer Science/Deep Learning for CV and Robotics/Summative/dl-cv-robotics/training_data/YOLO/val/img_0955.png: 448x640 (no detections), 7.1ms\n",
      "image 192/206 /home/adrian/OneDrive/Documents/Master of Computer Science/Deep Learning for CV and Robotics/Summative/dl-cv-robotics/training_data/YOLO/val/img_0960.png: 448x640 (no detections), 7.4ms\n",
      "image 193/206 /home/adrian/OneDrive/Documents/Master of Computer Science/Deep Learning for CV and Robotics/Summative/dl-cv-robotics/training_data/YOLO/val/img_0964.png: 448x640 (no detections), 7.1ms\n",
      "image 194/206 /home/adrian/OneDrive/Documents/Master of Computer Science/Deep Learning for CV and Robotics/Summative/dl-cv-robotics/training_data/YOLO/val/img_0969.png: 448x640 (no detections), 7.4ms\n",
      "image 195/206 /home/adrian/OneDrive/Documents/Master of Computer Science/Deep Learning for CV and Robotics/Summative/dl-cv-robotics/training_data/YOLO/val/img_0975.png: 448x640 (no detections), 7.1ms\n",
      "image 196/206 /home/adrian/OneDrive/Documents/Master of Computer Science/Deep Learning for CV and Robotics/Summative/dl-cv-robotics/training_data/YOLO/val/img_0978.png: 448x640 (no detections), 7.4ms\n",
      "image 197/206 /home/adrian/OneDrive/Documents/Master of Computer Science/Deep Learning for CV and Robotics/Summative/dl-cv-robotics/training_data/YOLO/val/img_0980.png: 448x640 (no detections), 7.4ms\n",
      "image 198/206 /home/adrian/OneDrive/Documents/Master of Computer Science/Deep Learning for CV and Robotics/Summative/dl-cv-robotics/training_data/YOLO/val/img_0992.png: 448x640 (no detections), 7.8ms\n",
      "image 199/206 /home/adrian/OneDrive/Documents/Master of Computer Science/Deep Learning for CV and Robotics/Summative/dl-cv-robotics/training_data/YOLO/val/img_1000.png: 448x640 (no detections), 7.0ms\n",
      "image 200/206 /home/adrian/OneDrive/Documents/Master of Computer Science/Deep Learning for CV and Robotics/Summative/dl-cv-robotics/training_data/YOLO/val/img_1001.png: 448x640 (no detections), 7.8ms\n",
      "image 201/206 /home/adrian/OneDrive/Documents/Master of Computer Science/Deep Learning for CV and Robotics/Summative/dl-cv-robotics/training_data/YOLO/val/img_1008.png: 448x640 (no detections), 7.1ms\n",
      "image 202/206 /home/adrian/OneDrive/Documents/Master of Computer Science/Deep Learning for CV and Robotics/Summative/dl-cv-robotics/training_data/YOLO/val/img_1017.png: 448x640 (no detections), 7.9ms\n",
      "image 203/206 /home/adrian/OneDrive/Documents/Master of Computer Science/Deep Learning for CV and Robotics/Summative/dl-cv-robotics/training_data/YOLO/val/img_1018.png: 448x640 (no detections), 7.0ms\n",
      "image 204/206 /home/adrian/OneDrive/Documents/Master of Computer Science/Deep Learning for CV and Robotics/Summative/dl-cv-robotics/training_data/YOLO/val/img_1025.png: 448x640 (no detections), 8.0ms\n",
      "image 205/206 /home/adrian/OneDrive/Documents/Master of Computer Science/Deep Learning for CV and Robotics/Summative/dl-cv-robotics/training_data/YOLO/val/img_1026.png: 448x640 (no detections), 7.0ms\n",
      "image 206/206 /home/adrian/OneDrive/Documents/Master of Computer Science/Deep Learning for CV and Robotics/Summative/dl-cv-robotics/training_data/YOLO/val/img_1029.png: 448x640 (no detections), 7.6ms\n",
      "Speed: 0.7ms preprocess, 7.5ms inference, 0.3ms postprocess per image at shape (1, 3, 448, 640)\n"
     ]
    }
   ],
   "source": [
    "results = model.predict(source='/home/adrian/OneDrive/Documents/Master of Computer Science/Deep Learning for CV and Robotics/Summative/dl-cv-robotics/training_data/YOLO/test')"
   ]
  },
  {
   "cell_type": "code",
   "execution_count": 9,
   "id": "64910c10-3451-48c0-9dbe-45add1dad376",
   "metadata": {},
   "outputs": [],
   "source": [
    "for result in results:\n",
    "    boxes = result.boxes  # Boxes object for bounding box outputs\n",
    "    masks = result.masks  # Masks object for segmentation masks outputs\n",
    "    keypoints = result.keypoints  # Keypoints object for pose outputs\n",
    "    probs = result.probs  # Probs object for classification outputs\n",
    "    result.show()  # display to screen"
   ]
  },
  {
   "cell_type": "code",
   "execution_count": null,
   "id": "d3146b58-428c-4912-84f8-22da364527ca",
   "metadata": {},
   "outputs": [],
   "source": []
  },
  {
   "cell_type": "code",
   "execution_count": null,
   "id": "7484995e-9a66-42c4-98d2-f943ec0202ad",
   "metadata": {},
   "outputs": [],
   "source": []
  }
 ],
 "metadata": {
  "kernelspec": {
   "display_name": "Python 3 (ipykernel)",
   "language": "python",
   "name": "python3"
  },
  "language_info": {
   "codemirror_mode": {
    "name": "ipython",
    "version": 3
   },
   "file_extension": ".py",
   "mimetype": "text/x-python",
   "name": "python",
   "nbconvert_exporter": "python",
   "pygments_lexer": "ipython3",
   "version": "3.11.7"
  }
 },
 "nbformat": 4,
 "nbformat_minor": 5
}
